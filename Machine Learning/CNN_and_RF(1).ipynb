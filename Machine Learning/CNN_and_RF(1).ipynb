{
 "cells": [
  {
   "cell_type": "markdown",
   "metadata": {
    "colab_type": "text",
    "id": "iNW_7706-ylQ"
   },
   "source": [
    "This notebook runs a Convolutional Neural Network and Random Forest to predict the binned yards gained. The CNN requires TensorFlow. This was originally made in Google Colab."
   ]
  },
  {
   "cell_type": "markdown",
   "metadata": {
    "colab_type": "text",
    "id": "eMgR9l7h-vut"
   },
   "source": [
    "# Set up Environment"
   ]
  },
  {
   "cell_type": "code",
   "execution_count": 1,
   "metadata": {
    "colab": {
     "base_uri": "https://localhost:8080/",
     "height": 326
    },
    "colab_type": "code",
    "executionInfo": {
     "elapsed": 5476,
     "status": "ok",
     "timestamp": 1591790400989,
     "user": {
      "displayName": "Jason Maloney",
      "photoUrl": "",
      "userId": "04327763752924398692"
     },
     "user_tz": 240
    },
    "id": "Gw5VB5IcTVQy",
    "outputId": "dbcc05b9-23e7-486c-fc79-0b19a7a05419"
   },
   "outputs": [
    {
     "name": "stdout",
     "output_type": "stream",
     "text": [
      "Collecting keras-rectified-adam\n",
      "  Downloading https://files.pythonhosted.org/packages/21/79/9521f66b92186702cb58a214c1b923b416266381cd824e15a1733f6a5b06/keras-rectified-adam-0.17.0.tar.gz\n",
      "Requirement already satisfied: numpy in /usr/local/lib/python3.6/dist-packages (from keras-rectified-adam) (1.18.5)\n",
      "Requirement already satisfied: Keras in /usr/local/lib/python3.6/dist-packages (from keras-rectified-adam) (2.3.1)\n",
      "Requirement already satisfied: six>=1.9.0 in /usr/local/lib/python3.6/dist-packages (from Keras->keras-rectified-adam) (1.12.0)\n",
      "Requirement already satisfied: scipy>=0.14 in /usr/local/lib/python3.6/dist-packages (from Keras->keras-rectified-adam) (1.4.1)\n",
      "Requirement already satisfied: keras-applications>=1.0.6 in /usr/local/lib/python3.6/dist-packages (from Keras->keras-rectified-adam) (1.0.8)\n",
      "Requirement already satisfied: pyyaml in /usr/local/lib/python3.6/dist-packages (from Keras->keras-rectified-adam) (3.13)\n",
      "Requirement already satisfied: keras-preprocessing>=1.0.5 in /usr/local/lib/python3.6/dist-packages (from Keras->keras-rectified-adam) (1.1.2)\n",
      "Requirement already satisfied: h5py in /usr/local/lib/python3.6/dist-packages (from Keras->keras-rectified-adam) (2.10.0)\n",
      "Building wheels for collected packages: keras-rectified-adam\n",
      "  Building wheel for keras-rectified-adam (setup.py) ... \u001b[?25l\u001b[?25hdone\n",
      "  Created wheel for keras-rectified-adam: filename=keras_rectified_adam-0.17.0-cp36-none-any.whl size=14781 sha256=fde67c40747585e4969702e54d1e6d02c90bb64b7033011f6e73b276a9495681\n",
      "  Stored in directory: /root/.cache/pip/wheels/7b/01/27/3a934e1a5644f5b93c720422a6ef97034ea78a21ba71cfb549\n",
      "Successfully built keras-rectified-adam\n",
      "Installing collected packages: keras-rectified-adam\n",
      "Successfully installed keras-rectified-adam-0.17.0\n"
     ]
    }
   ],
   "source": [
    "pip install keras-rectified-adam"
   ]
  },
  {
   "cell_type": "code",
   "execution_count": 17,
   "metadata": {
    "colab": {
     "base_uri": "https://localhost:8080/",
     "height": 88
    },
    "colab_type": "code",
    "executionInfo": {
     "elapsed": 2977,
     "status": "ok",
     "timestamp": 1591790445783,
     "user": {
      "displayName": "Jason Maloney",
      "photoUrl": "",
      "userId": "04327763752924398692"
     },
     "user_tz": 240
    },
    "id": "DdhTHhyJJ1y_",
    "outputId": "3b69721f-8174-4ff5-d681-c3c895b8877f"
   },
   "outputs": [],
   "source": [
    "import pickle\n",
    "import pandas as pd\n",
    "import numpy as np\n",
    "# plots\n",
    "import seaborn as sns\n",
    "import matplotlib.pyplot as plt\n",
    "from sklearn.preprocessing import MinMaxScaler # normalizing\n",
    "import itertools\n",
    "# Random Forest\n",
    "from sklearn.ensemble import RandomForestClassifier, RandomForestRegressor\n",
    "# Convolutional Neural Network\n",
    "\n",
    "#import keras\n",
    "#from keras_radam import RAdam\n",
    "#from keras.models import Sequential, Model\n",
    "#from keras.layers import Input, Dense, Embedding, Concatenate, Flatten, BatchNormalization, Dropout\n",
    "#from keras.callbacks import ModelCheckpoint\n",
    "#from keras.callbacks import ReduceLROnPlateau, ModelCheckpoint, EarlyStopping\n",
    "#from keras.utils.vis_utils import plot_model\n",
    "#from keras import metrics\n",
    "# Evaluation Metrics\n",
    "from sklearn.metrics import confusion_matrix, classification_report, mean_squared_error\n",
    "import warnings\n",
    "warnings.filterwarnings(\"ignore\")"
   ]
  },
  {
   "cell_type": "code",
   "execution_count": 0,
   "metadata": {
    "colab": {},
    "colab_type": "code",
    "id": "0JHIikwwsYA_"
   },
   "outputs": [],
   "source": []
  },
  {
   "cell_type": "code",
   "execution_count": 18,
   "metadata": {
    "colab": {},
    "colab_type": "code",
    "id": "G-v2bLBdJ5iz"
   },
   "outputs": [],
   "source": [
    " #to run this you need the data(2).pkl file in your Google Drive and to have your Google Drive mounted to the Colab Notebook\n",
    "data = pd.read_pickle('data_more.pkl')"
   ]
  },
  {
   "cell_type": "markdown",
   "metadata": {
    "colab_type": "text",
    "id": "RliJrQmONASW"
   },
   "source": [
    "## Data Conversion\n",
    "Most machine learning algorithms require numeric data\n",
    " - convert object and string variables to numeric\n",
    " - use dummy variables"
   ]
  },
  {
   "cell_type": "markdown",
   "metadata": {
    "colab_type": "text",
    "id": "zlm0Y0NGNEAd"
   },
   "source": [
    "### Game Clock to Seconds"
   ]
  },
  {
   "cell_type": "code",
   "execution_count": 0,
   "metadata": {
    "colab": {},
    "colab_type": "code",
    "id": "6ch8PIrfKWbN"
   },
   "outputs": [],
   "source": [
    "## convert the game clock to seconds\n",
    "def strtoseconds(txt):\n",
    "    # get the different parts of the time\n",
    "    txt = txt.split(':')\n",
    "    # new time will be in seconds\n",
    "    # minutes * 60 + seconds + microseconds/60\n",
    "    new_time = int(txt[0])*60 + int(txt[1]) + int(txt[2])/60\n",
    "    return new_time\n",
    "# don't run this if you load data(1).pkl\n",
    "data['gameclock'] = data['gameclock'].apply(strtoseconds)"
   ]
  },
  {
   "cell_type": "markdown",
   "metadata": {
    "colab_type": "text",
    "id": "d8Ujw3HxNPQZ"
   },
   "source": [
    "### OL to int"
   ]
  },
  {
   "cell_type": "code",
   "execution_count": 0,
   "metadata": {
    "colab": {},
    "colab_type": "code",
    "id": "IKaWBgURNJCD"
   },
   "outputs": [],
   "source": [
    "# convert ol ot integer\n",
    "data['ol'] = data['ol'].astype(int)"
   ]
  },
  {
   "cell_type": "markdown",
   "metadata": {
    "colab_type": "text",
    "id": "CX8KDmbmNSs8"
   },
   "source": [
    "### Columns to Keep for Models\n",
    "These include numeric columns and categorical columns to be converted with dummy variables"
   ]
  },
  {
   "cell_type": "code",
   "execution_count": 19,
   "metadata": {
    "colab": {},
    "colab_type": "code",
    "id": "CJT-Bri6NNJz"
   },
   "outputs": [],
   "source": [
    "cols_to_keep = ['team',\n",
    " 's',\n",
    " 'a',\n",
    " 'dis',\n",
    " 'orientation',\n",
    " 'dir',\n",
    " 'season',\n",
    " 'yardline',\n",
    " 'quarter',\n",
    " 'gameclock',\n",
    " 'possessionteam',\n",
    " 'down',\n",
    " 'distance',\n",
    " 'fieldposition',\n",
    " 'homescorebeforeplay',\n",
    " 'visitorscorebeforeplay',\n",
    " 'offenseformation',\n",
    " 'offensepersonnel',\n",
    " 'defendersinthebox',\n",
    " 'defensepersonnel',\n",
    " 'yards', # this is the target variable - remove this for the test set\n",
    " 'playerheight',\n",
    " 'playerweight',\n",
    " 'playercollegename',\n",
    " 'position',\n",
    " 'hometeamabbr',\n",
    " 'visitorteamabbr',\n",
    " 'week',\n",
    " 'age',\n",
    " 'time_since_snap',\n",
    " 'rusher',\n",
    " 'rushx',\n",
    " 'rushy',\n",
    " 'disttorush',\n",
    " 'teamidentity',\n",
    " 'min_distancetorusher',\n",
    " 'ol_d',\n",
    " 'dl',\n",
    " 'lb',\n",
    " 'db',\n",
    " 'rb_d',\n",
    " 'qb',\n",
    " 'ol',\n",
    " 'rb',\n",
    " 'te',\n",
    " 'wr',\n",
    " 'dl_o',\n",
    " 'lb_o',\n",
    " 'db_o',\n",
    " 'yardfromowngoal',\n",
    " 'x_standard',\n",
    " 'y_standard',\n",
    " 'avgyardspergame',\n",
    " 'x_handoff',\n",
    " 'y_handoff',\n",
    " 'offense',\n",
    " 'eff_downfield_acc',\n",
    " 'eff_crossfield_acc',\n",
    " 'rushteamwinning',\n",
    " 'playerblocked',\n",
    " 'total_playersblocked_revised',\n",
    " 'yards_binned',\n",
    " 'rk_17',\n",
    " 'g_17',\n",
    " 'gs_17',\n",
    " 'att_17',\n",
    " 'yds_17',\n",
    " 'td_17',\n",
    " '1d_17',\n",
    " 'lng_17',\n",
    " 'y/a_17',\n",
    " 'y/g_17',\n",
    " 'fmb_17',\n",
    " 'rk_18',\n",
    " 'g_18',\n",
    " 'gs_18',\n",
    " 'att_18',\n",
    " 'yds_18',\n",
    " 'td_18',\n",
    " '1d_18',\n",
    " 'lng_18',\n",
    " 'y/a_18',\n",
    " 'y/g_18',\n",
    " 'fmb_18',\n",
    " 'rk_19',\n",
    " 'g_19',\n",
    " 'gs_19',\n",
    " 'att_19',\n",
    " 'yds_19',\n",
    " 'td_19',\n",
    " '1d_19',\n",
    " 'lng_19',\n",
    " 'y/a_19',\n",
    " 'y/g_19',\n",
    " 'fmb_19',]"
   ]
  },
  {
   "cell_type": "code",
   "execution_count": 22,
   "metadata": {
    "colab": {
     "base_uri": "https://localhost:8080/",
     "height": 1000
    },
    "colab_type": "code",
    "executionInfo": {
     "elapsed": 1269,
     "status": "ok",
     "timestamp": 1591786092364,
     "user": {
      "displayName": "Jason Maloney",
      "photoUrl": "",
      "userId": "04327763752924398692"
     },
     "user_tz": 240
    },
    "id": "YjOEcEbWa4PK",
    "outputId": "2ca7f05f-584f-4c83-b529-cff199df9b5e"
   },
   "outputs": [
    {
     "data": {
      "text/plain": [
       "['gameid',\n",
       " 'playid',\n",
       " 'team',\n",
       " 'x',\n",
       " 'y',\n",
       " 's',\n",
       " 'a',\n",
       " 'dis',\n",
       " 'orientation',\n",
       " 'dir',\n",
       " 'nflid',\n",
       " 'displayname',\n",
       " 'jerseynumber',\n",
       " 'season',\n",
       " 'yardline',\n",
       " 'quarter',\n",
       " 'gameclock',\n",
       " 'possessionteam',\n",
       " 'down',\n",
       " 'distance',\n",
       " 'fieldposition',\n",
       " 'homescorebeforeplay',\n",
       " 'visitorscorebeforeplay',\n",
       " 'nflidrusher',\n",
       " 'offenseformation',\n",
       " 'offensepersonnel',\n",
       " 'defendersinthebox',\n",
       " 'defensepersonnel',\n",
       " 'playdirection',\n",
       " 'timehandoff',\n",
       " 'timesnap',\n",
       " 'yards',\n",
       " 'playerheight',\n",
       " 'playerweight',\n",
       " 'playerbirthdate',\n",
       " 'playercollegename',\n",
       " 'position',\n",
       " 'hometeamabbr',\n",
       " 'visitorteamabbr',\n",
       " 'week',\n",
       " 'stadium',\n",
       " 'location',\n",
       " 'stadiumtype',\n",
       " 'turf',\n",
       " 'gameweather',\n",
       " 'temperature',\n",
       " 'humidity',\n",
       " 'windspeed',\n",
       " 'winddirection',\n",
       " 'age',\n",
       " 'time_since_snap',\n",
       " 'rusher',\n",
       " 'rushx',\n",
       " 'rushy',\n",
       " 'disttorush',\n",
       " 'teamidentity',\n",
       " 'min_distancetorusher',\n",
       " 'ol_d',\n",
       " 'dl',\n",
       " 'lb',\n",
       " 'db',\n",
       " 'rb_d',\n",
       " 'qb',\n",
       " 'ol',\n",
       " 'rb',\n",
       " 'te',\n",
       " 'wr',\n",
       " 'dl_o',\n",
       " 'lb_o',\n",
       " 'db_o',\n",
       " 'yardfromowngoal',\n",
       " 'x_standard',\n",
       " 'y_standard',\n",
       " 'runsuccess',\n",
       " 'temp',\n",
       " 'avgyardspergame',\n",
       " 'mean_yards_per_rush',\n",
       " 'x_handoff',\n",
       " 'y_handoff',\n",
       " '1_sec_x',\n",
       " '1_5_sec_x',\n",
       " '2_sec_x',\n",
       " '2_5_sec_x',\n",
       " '3_sec_x',\n",
       " '3_5_sec_x',\n",
       " '4_sec_x',\n",
       " '4_5_sec_x',\n",
       " '5_sec_x',\n",
       " '5_5_sec_x',\n",
       " '6_sec_x',\n",
       " '1_sec_y',\n",
       " '1_5_sec_y',\n",
       " '2_sec_y',\n",
       " '2_5_sec_y',\n",
       " '3_sec_y',\n",
       " '3_5_sec_y',\n",
       " '4_sec_y',\n",
       " '4_5_sec_y',\n",
       " '5_sec_y',\n",
       " '5_5_sec_y',\n",
       " '6_sec_y',\n",
       " 'offense',\n",
       " 'eff_downfield_acc',\n",
       " 'eff_crossfield_acc',\n",
       " 'rushteamwinning',\n",
       " 'playerblocked',\n",
       " 'total_playersblocked',\n",
       " 'total_playersblocked_revised',\n",
       " 'yards_binned',\n",
       " 'rk_17',\n",
       " 'g_17',\n",
       " 'gs_17',\n",
       " 'att_17',\n",
       " 'yds_17',\n",
       " 'td_17',\n",
       " '1d_17',\n",
       " 'lng_17',\n",
       " 'y/a_17',\n",
       " 'y/g_17',\n",
       " 'fmb_17',\n",
       " 'rk_18',\n",
       " 'g_18',\n",
       " 'gs_18',\n",
       " 'att_18',\n",
       " 'yds_18',\n",
       " 'td_18',\n",
       " '1d_18',\n",
       " 'lng_18',\n",
       " 'y/a_18',\n",
       " 'y/g_18',\n",
       " 'fmb_18',\n",
       " 'rk_19',\n",
       " 'g_19',\n",
       " 'gs_19',\n",
       " 'att_19',\n",
       " 'yds_19',\n",
       " 'td_19',\n",
       " '1d_19',\n",
       " 'lng_19',\n",
       " 'y/a_19',\n",
       " 'y/g_19',\n",
       " 'fmb_19',\n",
       " 'yards_bin_int']"
      ]
     },
     "execution_count": 22,
     "metadata": {},
     "output_type": "execute_result"
    }
   ],
   "source": [
    "list(data.columns)"
   ]
  },
  {
   "cell_type": "code",
   "execution_count": 20,
   "metadata": {
    "colab": {},
    "colab_type": "code",
    "id": "VrmfyeClauVG"
   },
   "outputs": [],
   "source": [
    "# label bins need to be in integers for neural network to get dummy variables for the label array\n",
    "bin_int = {'-10 or less':0,\n",
    "           '-9 to -4':1,\n",
    "           '-3 to -1':2,\n",
    "           '0 to 3':3,\n",
    "           '4 to 7':4,\n",
    "           '8 to 10':5,\n",
    "           '11 to 15':6,\n",
    "           '16 to 25':7,\n",
    "           '26+':8}\n",
    "data['yards_bin_int'] = data['yards_binned'].map(bin_int)\n",
    "bin_yard_names = list(bin_int.keys())"
   ]
  },
  {
   "cell_type": "code",
   "execution_count": 20,
   "metadata": {},
   "outputs": [
    {
     "data": {
      "text/plain": [
       "(682154, 143)"
      ]
     },
     "execution_count": 20,
     "metadata": {},
     "output_type": "execute_result"
    }
   ],
   "source": []
  },
  {
   "cell_type": "markdown",
   "metadata": {
    "colab_type": "text",
    "id": "-Lmcmz59N0XN"
   },
   "source": [
    "### Distribution of Binned Yards"
   ]
  },
  {
   "cell_type": "code",
   "execution_count": 12,
   "metadata": {
    "colab": {
     "base_uri": "https://localhost:8080/",
     "height": 0
    },
    "colab_type": "code",
    "executionInfo": {
     "elapsed": 1146,
     "status": "ok",
     "timestamp": 1591745322254,
     "user": {
      "displayName": "Jason Maloney",
      "photoUrl": "",
      "userId": "04327763752924398692"
     },
     "user_tz": 240
    },
    "id": "6fvNMvenN0lc",
    "outputId": "9ff22a17-b603-4d78-930c-9aba22891074"
   },
   "outputs": [
    {
     "data": {
      "image/png": "[encoded data removed]",
      "text/plain": [
       "<Figure size 432x288 with 1 Axes>"
      ]
     },
     "metadata": {
      "needs_background": "light",
      "tags": []
     },
     "output_type": "display_data"
    }
   ],
   "source": [
    "# distribution of binned yards\n",
    "df = pd.DataFrame(data['yards_binned'].value_counts())\n",
    "df['yards'] = df.index\n",
    "order = ['-10 or less', '-9 to -4', '-3 to -1', '0 to 3', '4 to 7', '8 to 10', '11 to 15', '16 to 25', '26+']\n",
    "df = df.reindex(order)\n",
    "df['yards_binned'] = df['yards_binned']/22\n",
    "df['prop'] = round(df['yards_binned']/df['yards_binned'].sum()*100,2)\n",
    "#print(df)\n",
    "sns.barplot(x = 'yards', y = 'yards_binned', data = df, color = 'tab:blue')\n",
    "plt.ylabel('Number of Plays')\n",
    "plt.xlabel('Yards Gained')\n",
    "plt.title('Binned Yards Gained Distribution')\n",
    "plt.xticks(rotation = 30)\n",
    "for i in np.arange(len(df)):\n",
    "    plt.text(x = i - 0.4, \n",
    "             y = df['yards_binned'][i]+150, \n",
    "             s = str(df['prop'][i]) + '%')\n",
    "plt.ylim(0, df['yards_binned'].max()+1000)\n",
    "plt.show()\n",
    "del df"
   ]
  },
  {
   "cell_type": "markdown",
   "metadata": {
    "colab_type": "text",
    "id": "d4HUUQjVN6xt"
   },
   "source": [
    "### Get Dummy Variables for Categorical"
   ]
  },
  {
   "cell_type": "code",
   "execution_count": 35,
   "metadata": {
    "colab": {},
    "colab_type": "code",
    "id": "_dCrnZuxN4Pn"
   },
   "outputs": [],
   "source": [
    "### Get dummy variables for categorical variables (object type)\n",
    "num_data = data[cols_to_keep]\n",
    "num_data = pd.get_dummies(num_data)"
   ]
  },
  {
   "cell_type": "markdown",
   "metadata": {
    "colab_type": "text",
    "id": "g-xvsTnkOV8T"
   },
   "source": [
    "## Train and Test Sets"
   ]
  },
  {
   "cell_type": "code",
   "execution_count": 28,
   "metadata": {
    "colab": {},
    "colab_type": "code",
    "id": "9dpu0cujXLqs"
   },
   "outputs": [],
   "source": [
    "data.fillna(-999, inplace = True)"
   ]
  },
  {
   "cell_type": "code",
   "execution_count": 29,
   "metadata": {
    "colab": {
     "base_uri": "https://localhost:8080/",
     "height": 85
    },
    "colab_type": "code",
    "executionInfo": {
     "elapsed": 1877,
     "status": "ok",
     "timestamp": 1591790504508,
     "user": {
      "displayName": "Jason Maloney",
      "photoUrl": "",
      "userId": "04327763752924398692"
     },
     "user_tz": 240
    },
    "id": "iH64-mkqOXqp",
    "outputId": "225b3177-c7cb-4915-dd39-6977608bbaaa"
   },
   "outputs": [
    {
     "name": "stdout",
     "output_type": "stream",
     "text": [
      "# of Train Plays: 23171   # of Test Plays: 7836\n",
      "# of Train Labels: 23171  # of Test Labels: 7836\n",
      "# of Train Bins: 23171  # of Test Bins: 7836\n",
      "All Plays Covered: True\n"
     ]
    }
   ],
   "source": [
    "## use 2017 and 2018 to predict 2019\n",
    "# don't use dummy variables - only numeric\n",
    "keep = data[cols_to_keep]\n",
    "# use dummy variables (models will take longer)\n",
    "#keep = num_data\n",
    "# input variables\n",
    "trainX = keep.loc[keep['season'] != 2019]\n",
    "testX = keep.loc[keep['season'] == 2019]\n",
    "# labels\n",
    "trainY = keep.loc[keep['season'] != 2019]['yards']\n",
    "testY = keep.loc[keep['season'] == 2019]['yards']\n",
    "# binned labels\n",
    "bin_trainY = data.loc[data['season'] != 2019]['yards_bin_int']\n",
    "bin_testY = data.loc[data['season'] == 2019]['yards_bin_int']\n",
    "# drop labels from input variables\n",
    "trainX.drop(['yards', 'avgyardspergame'], axis = 1, inplace = True)\n",
    "testX.drop(['yards', 'avgyardspergame'], axis = 1, inplace = True)\n",
    "\n",
    "print('# of Train Plays: {}   # of Test Plays: {}'.format(int(trainX.shape[0]/22), int(testX.shape[0]/22)))\n",
    "print('# of Train Labels: {}  # of Test Labels: {}'.format(int(trainY.shape[0]/22), int(testY.shape[0]/22)))\n",
    "print('# of Train Bins: {}  # of Test Bins: {}'.format(int(bin_trainY.shape[0]/22), int(bin_testY.shape[0]/22)))\n",
    "print('All Plays Covered: {}'.format(trainX.shape[0] + testY.shape[0] == data.shape[0]))"
   ]
  },
  {
   "cell_type": "code",
   "execution_count": 30,
   "metadata": {
    "colab": {},
    "colab_type": "code",
    "id": "nV_iyuqMXLyR"
   },
   "outputs": [],
   "source": [
    "# drop categorical features - only want numeric\n",
    "cat_features = []\n",
    "for col in trainX.columns:\n",
    "    if (trainX[col].dtype == 'object'):\n",
    "        cat_features.append(col)\n",
    "# drop from train and test sets\n",
    "trainX = trainX.drop(cat_features, axis = 1)\n",
    "testX = testX.drop(cat_features, axis = 1)\n"
   ]
  },
  {
   "cell_type": "code",
   "execution_count": 9,
   "metadata": {},
   "outputs": [
    {
     "data": {
      "text/plain": [
       "(509762, 81)"
      ]
     },
     "execution_count": 9,
     "metadata": {},
     "output_type": "execute_result"
    }
   ],
   "source": [
    "trainX.shape"
   ]
  },
  {
   "cell_type": "markdown",
   "metadata": {
    "colab_type": "text",
    "id": "zwUDdX9UcmIj"
   },
   "source": [
    "### Normalize "
   ]
  },
  {
   "cell_type": "code",
   "execution_count": 31,
   "metadata": {
    "colab": {},
    "colab_type": "code",
    "id": "N5GbF1SycmY2"
   },
   "outputs": [],
   "source": [
    "scaler = MinMaxScaler()\n",
    "norm_trainX = pd.DataFrame(scaler.fit_transform(trainX), columns = trainX.columns)\n",
    "norm_testX = pd.DataFrame(scaler.fit_transform(testX), columns = testX.columns)"
   ]
  },
  {
   "cell_type": "code",
   "execution_count": 8,
   "metadata": {},
   "outputs": [],
   "source": [
    "trainname = 'trainX.pkl'\n",
    "testname = 'testX.pkl'\n",
    "pickle.dump(norm_trainX, open(trainname, 'wb'))\n",
    "pickle.dump(norm_testX, open(testname, 'wb'))"
   ]
  },
  {
   "cell_type": "code",
   "execution_count": 32,
   "metadata": {},
   "outputs": [],
   "source": [
    "drop_cols = ['rk_19',\n",
    " 'g_19',\n",
    " 'gs_19',\n",
    " 'att_19',\n",
    " 'yds_19',\n",
    " 'td_19',\n",
    " '1d_19',\n",
    " 'lng_19',\n",
    " 'y/a_19',\n",
    " 'y/g_19',\n",
    " 'fmb_19']\n",
    "norm_trainX = trainX.drop(drop_cols, axis = 1)\n",
    "norm_testX = testX.drop(drop_cols, axis = 1)"
   ]
  },
  {
   "cell_type": "code",
   "execution_count": 25,
   "metadata": {
    "colab": {},
    "colab_type": "code",
    "id": "4nHsjXsYXL3T"
   },
   "outputs": [],
   "source": [
    "# keep all columns with a standard deviation not 0 - only columns\n",
    "# with variance\n",
    "players_col = []\n",
    "for col in norm_trainX.columns:\n",
    "    if norm_trainX[col][:22].std()!=0:\n",
    "        players_col.append(col)"
   ]
  },
  {
   "cell_type": "code",
   "execution_count": 47,
   "metadata": {},
   "outputs": [
    {
     "data": {
      "text/plain": [
       "['s',\n",
       " 'a',\n",
       " 'dis',\n",
       " 'orientation',\n",
       " 'dir',\n",
       " 'playerheight',\n",
       " 'playerweight',\n",
       " 'age',\n",
       " 'rusher',\n",
       " 'rushy',\n",
       " 'disttorush',\n",
       " 'min_distancetorusher',\n",
       " 'x_standard',\n",
       " 'y_standard',\n",
       " 'x_handoff',\n",
       " 'y_handoff',\n",
       " 'offense',\n",
       " 'eff_downfield_acc',\n",
       " 'eff_crossfield_acc',\n",
       " 'playerblocked',\n",
       " 'rk_17',\n",
       " 'g_17',\n",
       " 'gs_17',\n",
       " 'att_17',\n",
       " 'yds_17',\n",
       " '1d_17',\n",
       " 'lng_17',\n",
       " 'y/a_17',\n",
       " 'y/g_17',\n",
       " 'fmb_17',\n",
       " 'rk_18',\n",
       " 'g_18',\n",
       " 'gs_18',\n",
       " 'att_18',\n",
       " 'yds_18',\n",
       " 'td_18',\n",
       " '1d_18',\n",
       " 'lng_18',\n",
       " 'y/a_18',\n",
       " 'y/g_18',\n",
       " 'fmb_18',\n",
       " 'team_away',\n",
       " 'team_home',\n",
       " 'playercollegename_Arizona',\n",
       " 'playercollegename_Auburn',\n",
       " 'playercollegename_Brigham Young',\n",
       " 'playercollegename_Colorado',\n",
       " 'playercollegename_Georgia',\n",
       " 'playercollegename_Georgia Tech',\n",
       " 'playercollegename_Miami',\n",
       " 'playercollegename_Michigan',\n",
       " 'playercollegename_Mississippi State',\n",
       " 'playercollegename_Monmouth, N.J.',\n",
       " 'playercollegename_Newberry',\n",
       " 'playercollegename_North Carolina State',\n",
       " 'playercollegename_Oregon',\n",
       " 'playercollegename_Oregon State',\n",
       " 'playercollegename_Rice',\n",
       " 'playercollegename_Tennessee',\n",
       " 'playercollegename_Texas',\n",
       " 'playercollegename_Texas Christian',\n",
       " 'playercollegename_Texas Tech',\n",
       " 'playercollegename_Washington',\n",
       " 'playercollegename_Wisconsin',\n",
       " 'position_C',\n",
       " 'position_CB',\n",
       " 'position_DE',\n",
       " 'position_DT',\n",
       " 'position_FS',\n",
       " 'position_G',\n",
       " 'position_ILB',\n",
       " 'position_QB',\n",
       " 'position_RB',\n",
       " 'position_SS',\n",
       " 'position_T',\n",
       " 'position_TE',\n",
       " 'position_WR',\n",
       " 'teamidentity_KC',\n",
       " 'teamidentity_NE']"
      ]
     },
     "execution_count": 47,
     "metadata": {},
     "output_type": "execute_result"
    }
   ],
   "source": [
    "players_col"
   ]
  },
  {
   "cell_type": "markdown",
   "metadata": {
    "colab_type": "text",
    "id": "Vudz5boDz48X"
   },
   "source": [
    "## Evaluation Metrics"
   ]
  },
  {
   "cell_type": "markdown",
   "metadata": {
    "colab_type": "text",
    "id": "sfKHof-Oz8Xs"
   },
   "source": [
    "### Plot Confusion Matrix"
   ]
  },
  {
   "cell_type": "code",
   "execution_count": 0,
   "metadata": {
    "colab": {},
    "colab_type": "code",
    "id": "fOG1agmoqJs2"
   },
   "outputs": [],
   "source": [
    "def plot_CM(cm, # confusion_matrix object\n",
    "            classes, # class labels\n",
    "            normalize = False, # normalize values\n",
    "            title = 'Confusion Matrix',\n",
    "            cmap = 'PuBu'):\n",
    "  '''\n",
    "  ouputs: confusion matrix of predicted vs actual labels\n",
    "  '''\n",
    "  plt.figure(figsize = (7, 7))\n",
    "  # plot confusion matrix\n",
    "  plt.imshow(cm, interpolation = 'nearest', cmap = cmap) \n",
    "  plt.title(title)\n",
    "  plt.colorbar()\n",
    "  tick_marks = np.arange(len(classes))\n",
    "  plt.xticks(tick_marks, classes, rotation = 90)\n",
    "  plt.yticks(tick_marks, classes)\n",
    "  # normalize the values (%)\n",
    "  if normalize:\n",
    "    cm = cm.astype('float')/cm.sum(axis = 1)[:, np.newaxis]\n",
    "    cm = np.round(cm, 2)\n",
    "  # set threshold for text color\n",
    "  # if count < half max - white, > half max - black\n",
    "  thresh = cm.max()/2\n",
    "  # annotate confusion matrix\n",
    "  for i,j in itertools.product(range(cm.shape[0]), range(cm.shape[1])):\n",
    "    plt.text(j, i, cm[i,j],\n",
    "             horizontalalignment = 'center',\n",
    "             color = 'white' if cm[i,j] > thresh else 'black')\n",
    "  plt.tight_layout()\n",
    "  plt.ylabel('True Label')\n",
    "  plt.xlabel('Predicted Label')\n"
   ]
  },
  {
   "cell_type": "markdown",
   "metadata": {
    "colab_type": "text",
    "id": "dJ-JedqY0DR7"
   },
   "source": [
    "### Plot Validation and Loss Curves for CNN"
   ]
  },
  {
   "cell_type": "code",
   "execution_count": 0,
   "metadata": {
    "colab": {},
    "colab_type": "code",
    "id": "uFtc9H3MrHYc"
   },
   "outputs": [],
   "source": [
    "# plot train curve function\n",
    "def plot_train_curve(history):\n",
    "    # get training accuracy\n",
    "    accuracy = history.history['accuracy']\n",
    "    # get test accuracy\n",
    "    val_accuracy = history.history['val_accuracy']\n",
    "    # train loss\n",
    "    loss = history.history['loss']\n",
    "    # test los\n",
    "    val_loss = history.history['val_loss']\n",
    "    # enumerate each epoch 0 to number of ephochs \n",
    "    epochs = range(len(accuracy))\n",
    "        \n",
    "    plt.figure(figsize = (8, 8/1.618))\n",
    "    # training accuracy line plot\n",
    "    plt.plot(epochs, accuracy, marker = 'o', \n",
    "             c = 'tab:orange', label = 'Training accuracy')\n",
    "    # test accuracy line plot\n",
    "    plt.plot(epochs, val_accuracy, marker = 'D', \n",
    "             c = 'tab:blue', label = 'Validation accuracy')\n",
    "    plt.title('Training and validation accuracy')\n",
    "    plt.xlabel('Epochs')\n",
    "    plt.xlim(0, len(epochs))\n",
    "    plt.legend()\n",
    "    plt.figure(figsize = (8, 8/1.618))\n",
    "    # training loss line plot\n",
    "    plt.plot(epochs, loss, marker = 'o', \n",
    "             c = 'tab:orange', label = 'Training loss')\n",
    "    # test loss line plot\n",
    "    plt.plot(epochs, val_loss, marker = 'D', \n",
    "             c = 'tab:blue', label = 'Validation loss')\n",
    "    plt.title('Training and validation loss')\n",
    "    plt.xlabel('Epochs')\n",
    "    plt.xlim(0,len(epochs))\n",
    "    plt.legend()\n",
    "    plt.show()"
   ]
  },
  {
   "cell_type": "markdown",
   "metadata": {
    "colab_type": "text",
    "id": "uPYKjA4Y0N-R"
   },
   "source": [
    "# Convolutional Neural Network\n",
    "Requires Binned Yards for Prediction"
   ]
  },
  {
   "cell_type": "markdown",
   "metadata": {
    "colab_type": "text",
    "id": "GaHyRk7n0T-y"
   },
   "source": [
    "## Reshape Data"
   ]
  },
  {
   "cell_type": "code",
   "execution_count": 0,
   "metadata": {
    "colab": {},
    "colab_type": "code",
    "id": "5tplF9SMaLnq"
   },
   "outputs": [],
   "source": [
    "from keras.utils import np_utils # categorical variable"
   ]
  },
  {
   "cell_type": "code",
   "execution_count": 0,
   "metadata": {
    "colab": {
     "base_uri": "https://localhost:8080/",
     "height": 52
    },
    "colab_type": "code",
    "executionInfo": {
     "elapsed": 1173,
     "status": "ok",
     "timestamp": 1591645303042,
     "user": {
      "displayName": "Jason Maloney",
      "photoUrl": "",
      "userId": "04327763752924398692"
     },
     "user_tz": 240
    },
    "id": "DOvIgZFCXdaw",
    "outputId": "9016b0ad-3ac4-4cd2-cab0-4fa9a2db8f09"
   },
   "outputs": [
    {
     "name": "stdout",
     "output_type": "stream",
     "text": [
      "(23171, 1276)\n",
      "(7836, 1276)\n"
     ]
    }
   ],
   "source": [
    "# reshape the train and test sets to be arrays \n",
    "# shape of array should be # of plays by number of features kept * 22\n",
    "cnn_trainX = np.array(trainX[players_col]).reshape(-1, len(players_col)*22)\n",
    "cnn_testX = np.array(testX[players_col]).reshape(-1, len(players_col)*22)\n",
    "print(cnn_trainX.shape)\n",
    "print(cnn_testX.shape)\n"
   ]
  },
  {
   "cell_type": "code",
   "execution_count": 0,
   "metadata": {
    "colab": {},
    "colab_type": "code",
    "id": "rTM9D6YKdMaD"
   },
   "outputs": [],
   "source": [
    "# gets all the columns that are used as features\n",
    "play_col = trainX.drop(players_col, axis = 1).columns\n",
    "# generate an array of 0s that is number of plays by number of features\n",
    "xtrain_play_col = np.zeros(shape = (cnn_trainX.shape[0], len(play_col)))\n",
    "xtest_play_col = np.zeros(shape = (cnn_testX.shape[0], len(play_col)))\n",
    "# fill in the array\n",
    "for i, col in enumerate(play_col):\n",
    "  xtrain_play_col[:, i] = trainX[col][::22]\n",
    "  xtest_play_col[:, i] = testX[col][::22]"
   ]
  },
  {
   "cell_type": "code",
   "execution_count": 0,
   "metadata": {
    "colab": {},
    "colab_type": "code",
    "id": "_n9zHlMLXL9R"
   },
   "outputs": [],
   "source": [
    "# put together training array with features\n",
    "cnn_trainX = np.concatenate([cnn_trainX, xtrain_play_col], axis = 1)\n",
    "cnn_testX = np.concatenate([cnn_testX, xtest_play_col], axis = 1)\n",
    "# create the label arrays\n",
    "# create an array of zeros of shape number of plays by 9 - number of bins\n",
    "# use [::22] to get all rows and cols but count by 22 (play level)\n",
    "# all yards\n",
    "cnn_trainY = np_utils.to_categorical(trainY)[::22]\n",
    "cnn_testY = np_utils.to_categorical(testY)[::22]\n",
    "# binned yard labels\n",
    "bin_cnn_trainY = np_utils.to_categorical(bin_trainY)[::22]\n",
    "bin_cnn_testY = np_utils.to_categorical(bin_testY)[::22]\n"
   ]
  },
  {
   "cell_type": "code",
   "execution_count": 0,
   "metadata": {
    "colab": {},
    "colab_type": "code",
    "id": "fRn7-Kx6OF_U"
   },
   "outputs": [],
   "source": [
    "#from sklearn.preprocessing import MinMaxScaler # normalizing\n",
    "# normalize the data to be between 0 and 1\n",
    "scaler = MinMaxScaler()\n",
    "cnn_trainX = scaler.fit_transform(cnn_trainX)\n",
    "cnn_testX = scaler.fit_transform(cnn_testX)\n",
    "#norm_data = pd.DataFrame(scaler.fit_transform(num_data), \n",
    " #                       columns = num_data.columns)"
   ]
  },
  {
   "cell_type": "code",
   "execution_count": 0,
   "metadata": {
    "colab": {
     "base_uri": "https://localhost:8080/",
     "height": 86
    },
    "colab_type": "code",
    "executionInfo": {
     "elapsed": 751,
     "status": "ok",
     "timestamp": 1591649504815,
     "user": {
      "displayName": "Jason Maloney",
      "photoUrl": "",
      "userId": "04327763752924398692"
     },
     "user_tz": 240
    },
    "id": "tExV4P74XL7U",
    "outputId": "469f3efb-6f1f-4d8b-bf43-ea2e442cf43c"
   },
   "outputs": [
    {
     "name": "stdout",
     "output_type": "stream",
     "text": [
      "train set:  (23171, 5518)\n",
      "train labels:  (23171, 9)\n",
      "test set:  (7836, 5518)\n",
      "test labels:  (7836, 9)\n"
     ]
    }
   ],
   "source": [
    "print('train set: ', cnn_trainX.shape)\n",
    "print('train labels: ', bin_cnn_trainY.shape)\n",
    "print('test set: ', cnn_testX.shape)\n",
    "print('test labels: ', bin_cnn_testY.shape)"
   ]
  },
  {
   "cell_type": "markdown",
   "metadata": {
    "colab_type": "text",
    "id": "SIAKN1BJ0Z6M"
   },
   "source": [
    "## Define the Model"
   ]
  },
  {
   "cell_type": "code",
   "execution_count": 0,
   "metadata": {
    "colab": {},
    "colab_type": "code",
    "id": "raXEUpjqXLwc"
   },
   "outputs": [],
   "source": [
    "def get_model():\n",
    "    x = keras.layers.Input(shape=[cnn_trainX.shape[1]])\n",
    "    # convolution layer 1\n",
    "    fc1 = keras.layers.Dense(units = 450, input_shape=[cnn_trainX.shape[1]])(x)\n",
    "    # activation function (relu)\n",
    "    act1 = keras.layers.PReLU()(fc1)\n",
    "    # batch normalization\n",
    "    bn1 = keras.layers.BatchNormalization()(act1)\n",
    "    # randomly drop 55% of neurons\n",
    "    dp1 = keras.layers.Dropout(0.55)(bn1)\n",
    "    # augment data to avoid overfitting\n",
    "    gn1 = keras.layers.GaussianNoise(0.15)(dp1)\n",
    "    # join it together\n",
    "    concat1 = keras.layers.Concatenate()([x, gn1])\n",
    "    # convolution layer 2\n",
    "    fc2 = keras.layers.Dense(units = 600)(concat1)\n",
    "    # activation function (relu)\n",
    "    act2 = keras.layers.PReLU()(fc2)\n",
    "    # batch normalization\n",
    "    bn2 = keras.layers.BatchNormalization()(act2)\n",
    "    # randomly drop 55% of neurons\n",
    "    dp2 = keras.layers.Dropout(0.55)(bn2)\n",
    "    # augment data to avoid overfitting\n",
    "    gn2 = keras.layers.GaussianNoise(0.15)(dp2)\n",
    "    # join the layer together\n",
    "    concat2 = keras.layers.Concatenate()([concat1, gn2])\n",
    "    # convolution layer 3\n",
    "    fc3 = keras.layers.Dense(units=400)(concat2)\n",
    "    act3 = keras.layers.PReLU()(fc3)\n",
    "    bn3 = keras.layers.BatchNormalization()(act3)\n",
    "    dp3 = keras.layers.Dropout(0.55)(bn3)\n",
    "    gn3 = keras.layers.GaussianNoise(0.15)(dp3)\n",
    "    concat3 = keras.layers.Concatenate([concat2, gn3])\n",
    "    # final fully connected layer\n",
    "    # use softmax activation for predictions\n",
    "    output = keras.layers.Dense(units = 9, activation = 'softmax')(concat2)\n",
    "    model = keras.models.Model(inputs = [x], outputs = [output])\n",
    "    return model\n"
   ]
  },
  {
   "cell_type": "markdown",
   "metadata": {
    "colab_type": "text",
    "id": "AFMRNkQK1PQa"
   },
   "source": [
    "## Compile and Fit the Model"
   ]
  },
  {
   "cell_type": "code",
   "execution_count": 0,
   "metadata": {
    "colab": {
     "base_uri": "https://localhost:8080/",
     "height": 764
    },
    "colab_type": "code",
    "executionInfo": {
     "elapsed": 46326,
     "status": "ok",
     "timestamp": 1591652052257,
     "user": {
      "displayName": "Jason Maloney",
      "photoUrl": "",
      "userId": "04327763752924398692"
     },
     "user_tz": 240
    },
    "id": "YyPTOY3TXLum",
    "outputId": "f206ffd0-c856-45cc-9a36-74eef47e0524"
   },
   "outputs": [
    {
     "name": "stdout",
     "output_type": "stream",
     "text": [
      "Train on 23171 samples, validate on 7836 samples\n",
      "Epoch 1/200\n",
      " - 3s - loss: 2.4030 - accuracy: 0.1334 - val_loss: 2.1149 - val_accuracy: 0.2014\n",
      "Epoch 2/200\n",
      " - 2s - loss: 2.4030 - accuracy: 0.1353 - val_loss: 2.1377 - val_accuracy: 0.1893\n",
      "Epoch 3/200\n",
      " - 2s - loss: 2.4047 - accuracy: 0.1373 - val_loss: 2.1796 - val_accuracy: 0.1736\n",
      "Epoch 4/200\n",
      " - 2s - loss: 2.4109 - accuracy: 0.1339 - val_loss: 2.1927 - val_accuracy: 0.1688\n",
      "Epoch 5/200\n",
      " - 2s - loss: 2.3944 - accuracy: 0.1381 - val_loss: 2.1981 - val_accuracy: 0.1644\n",
      "Epoch 6/200\n",
      " - 2s - loss: 2.4107 - accuracy: 0.1322 - val_loss: 2.1929 - val_accuracy: 0.1690\n",
      "Epoch 7/200\n",
      " - 2s - loss: 2.4096 - accuracy: 0.1326 - val_loss: 2.1987 - val_accuracy: 0.1651\n",
      "Epoch 8/200\n",
      " - 2s - loss: 2.4160 - accuracy: 0.1329 - val_loss: 2.1955 - val_accuracy: 0.1665\n",
      "Epoch 9/200\n",
      " - 2s - loss: 2.4068 - accuracy: 0.1354 - val_loss: 2.1983 - val_accuracy: 0.1649\n",
      "Epoch 10/200\n",
      " - 2s - loss: 2.4020 - accuracy: 0.1337 - val_loss: 2.1926 - val_accuracy: 0.1695\n",
      "Epoch 11/200\n",
      " - 2s - loss: 2.4061 - accuracy: 0.1338 - val_loss: 2.1950 - val_accuracy: 0.1660\n",
      "Epoch 12/200\n",
      " - 2s - loss: 2.3973 - accuracy: 0.1350 - val_loss: 2.1936 - val_accuracy: 0.1677\n",
      "Epoch 13/200\n",
      " - 2s - loss: 2.4186 - accuracy: 0.1314 - val_loss: 2.1949 - val_accuracy: 0.1674\n",
      "Epoch 14/200\n",
      " - 2s - loss: 2.4029 - accuracy: 0.1312 - val_loss: 2.1917 - val_accuracy: 0.1701\n",
      "Epoch 15/200\n",
      " - 2s - loss: 2.4106 - accuracy: 0.1334 - val_loss: 2.1921 - val_accuracy: 0.1697\n",
      "Epoch 16/200\n",
      " - 2s - loss: 2.4056 - accuracy: 0.1319 - val_loss: 2.1974 - val_accuracy: 0.1664\n",
      "Epoch 17/200\n",
      " - 2s - loss: 2.4048 - accuracy: 0.1356 - val_loss: 2.1950 - val_accuracy: 0.1662\n",
      "Epoch 18/200\n",
      " - 2s - loss: 2.4031 - accuracy: 0.1345 - val_loss: 2.1944 - val_accuracy: 0.1673\n",
      "Epoch 19/200\n",
      " - 2s - loss: 2.4185 - accuracy: 0.1287 - val_loss: 2.1916 - val_accuracy: 0.1686\n",
      "Epoch 20/200\n",
      " - 2s - loss: 2.3963 - accuracy: 0.1365 - val_loss: 2.1934 - val_accuracy: 0.1665\n",
      "Epoch 21/200\n",
      " - 2s - loss: 2.4004 - accuracy: 0.1351 - val_loss: 2.1944 - val_accuracy: 0.1668\n"
     ]
    }
   ],
   "source": [
    "# define the model\n",
    "bin_model = get_model()\n",
    "# compile the model\n",
    "bin_model.compile(optimizer = RAdam(warmup_proportion = 0.1, min_lr = 0.001), \n",
    "                  loss = 'categorical_crossentropy',\n",
    "                  metrics = ['accuracy'])\n",
    "# define an early stopping feature \n",
    "er = EarlyStopping(patience = 20, # stops after 20 epochs with no decrease in loss\n",
    "                      min_delta = 0.001, # minimum change in loss to keep running \n",
    "                       restore_best_weights = True, \n",
    "                       monitor = 'val_loss')\n",
    "batch_size = 100 # put in 100 plays at a time\n",
    "# fit the model on the train set and use it on validation set\n",
    "history = bin_model.fit(cnn_trainX, bin_cnn_trainY, epochs = 200, \n",
    "              callbacks = [er], \n",
    "              validation_data = [cnn_testX, bin_cnn_testY],\n",
    "              verbose = 2, \n",
    "              batch_size = batch_size)\n"
   ]
  },
  {
   "cell_type": "code",
   "execution_count": 0,
   "metadata": {
    "colab": {
     "base_uri": "https://localhost:8080/",
     "height": 69
    },
    "colab_type": "code",
    "executionInfo": {
     "elapsed": 1502,
     "status": "ok",
     "timestamp": 1591652120665,
     "user": {
      "displayName": "Jason Maloney",
      "photoUrl": "",
      "userId": "04327763752924398692"
     },
     "user_tz": 240
    },
    "id": "JpQC7QQFw6hG",
    "outputId": "1e1d78a6-540b-4d2a-e9e1-7602118dd211"
   },
   "outputs": [
    {
     "name": "stdout",
     "output_type": "stream",
     "text": [
      "7836/7836 [==============================] - 1s 92us/step\n",
      "loss: 2.1149\n",
      "accuracy: 0.2014\n"
     ]
    }
   ],
   "source": [
    "# get accuracy and loss scores from the model\n",
    "score = bin_model.evaluate(cnn_testX, bin_cnn_testY)\n",
    "# store accuracy\n",
    "cnn_acc = round(score[1],4)\n",
    "#t1 = time.time()\n",
    "print('loss: {}'.format(round(score[0],4)))\n",
    "print('accuracy: {}'.format(round(score[1], 4)))"
   ]
  },
  {
   "cell_type": "markdown",
   "metadata": {
    "colab_type": "text",
    "id": "Wt29lQE11tdR"
   },
   "source": [
    "### Accuracy and Loss Curves"
   ]
  },
  {
   "cell_type": "code",
   "execution_count": 0,
   "metadata": {
    "colab": {
     "base_uri": "https://localhost:8080/",
     "height": 677
    },
    "colab_type": "code",
    "executionInfo": {
     "elapsed": 1155,
     "status": "ok",
     "timestamp": 1591652125048,
     "user": {
      "displayName": "Jason Maloney",
      "photoUrl": "",
      "userId": "04327763752924398692"
     },
     "user_tz": 240
    },
    "id": "bR5osmdTybEC",
    "outputId": "3d112b21-64de-4d0f-ea0b-fea62d9fbab9"
   },
   "outputs": [
    {
     "data": {
      "image/png": "[encoded data removed]",
      "text/plain": [
       "<Figure size 576x355.995 with 1 Axes>"
      ]
     },
     "metadata": {
      "needs_background": "light",
      "tags": []
     },
     "output_type": "display_data"
    },
    {
     "data": {
      "image/png": "[encoded data removed]",
      "text/plain": [
       "<Figure size 576x355.995 with 1 Axes>"
      ]
     },
     "metadata": {
      "needs_background": "light",
      "tags": []
     },
     "output_type": "display_data"
    }
   ],
   "source": [
    "# print accuraccy and loss curves\n",
    "plot_train_curve(history)"
   ]
  },
  {
   "cell_type": "markdown",
   "metadata": {
    "colab_type": "text",
    "id": "CYk7X8_m1v5C"
   },
   "source": [
    "### Confusion Matrix for CNN"
   ]
  },
  {
   "cell_type": "code",
   "execution_count": 0,
   "metadata": {
    "colab": {
     "base_uri": "https://localhost:8080/",
     "height": 781
    },
    "colab_type": "code",
    "executionInfo": {
     "elapsed": 1984,
     "status": "ok",
     "timestamp": 1591652142707,
     "user": {
      "displayName": "Jason Maloney",
      "photoUrl": "",
      "userId": "04327763752924398692"
     },
     "user_tz": 240
    },
    "id": "eNDsadINrNsp",
    "outputId": "2978d961-fc7f-4f0c-f40f-e934778db239"
   },
   "outputs": [
    {
     "name": "stdout",
     "output_type": "stream",
     "text": [
      "              precision    recall  f1-score   support\n",
      "\n",
      " -10 or less       0.00      0.00      0.00         3\n",
      "    -9 to -4       0.05      0.01      0.01       126\n",
      "    -3 to -1       0.08      0.03      0.04       639\n",
      "      0 to 3       0.47      0.33      0.39      3657\n",
      "      4 to 7       0.29      0.12      0.17      2124\n",
      "     8 to 10       0.08      0.05      0.06       573\n",
      "    11 to 15       0.06      0.05      0.06       394\n",
      "    16 to 25       0.03      0.10      0.05       226\n",
      "         26+       0.01      0.30      0.02        94\n",
      "\n",
      "    accuracy                           0.20      7836\n",
      "   macro avg       0.12      0.11      0.09      7836\n",
      "weighted avg       0.32      0.20      0.24      7836\n",
      "\n"
     ]
    },
    {
     "data": {
      "image/png": "[encoded data removed]",
      "text/plain": [
       "<Figure size 504x504 with 2 Axes>"
      ]
     },
     "metadata": {
      "needs_background": "light",
      "tags": []
     },
     "output_type": "display_data"
    }
   ],
   "source": [
    "# predict values from test set\n",
    "y_bin_pred = bin_model.predict(cnn_testX)\n",
    "# convert predictions classes to one hot vectors\n",
    "y_bin_pred_classes = np.argmax(y_bin_pred, axis = 1)\n",
    "# convert test labels to one hot vectors\n",
    "y_bin_true = np.argmax(bin_cnn_testY, axis = 1)\n",
    "# compute confusion matrix\n",
    "cm = confusion_matrix(y_bin_true, y_bin_pred_classes)\n",
    "# plot confusion matrix\n",
    "plot_CM(cm = cm, \n",
    "        classes = bin_yard_names,\n",
    "        normalize = False,\n",
    "        title = 'Binned CNN Confusion Matrix')\n",
    "print(classification_report(y_bin_true, y_bin_pred_classes,\n",
    "                            target_names = bin_yard_names))"
   ]
  },
  {
   "cell_type": "markdown",
   "metadata": {
    "colab_type": "text",
    "id": "Mb675wYB2vTe"
   },
   "source": [
    "# Random Forest Classifier"
   ]
  },
  {
   "cell_type": "code",
   "execution_count": 0,
   "metadata": {
    "colab": {},
    "colab_type": "code",
    "id": "JahCFqwbdktg"
   },
   "outputs": [],
   "source": [
    "players_col\n",
    "#norm_trainX.head()"
   ]
  },
  {
   "cell_type": "markdown",
   "metadata": {
    "colab_type": "text",
    "id": "fhfExtwCbR8I"
   },
   "source": [
    "### Selected Variables"
   ]
  },
  {
   "cell_type": "code",
   "execution_count": 33,
   "metadata": {
    "colab": {},
    "colab_type": "code",
    "id": "5MmgJn3RbSfW"
   },
   "outputs": [],
   "source": [
    "var = ['s', 'a', 'distance', 'playerheight', 'time_since_snap', 'x_standard', \\\n",
    "               'y_standard', 'disttorush', 'min_distancetorusher', 'yardfromowngoal', 'eff_downfield_acc', \\\n",
    "               'eff_crossfield_acc', 'gameclock', 'down', 'defendersinthebox', 'eff_18', 'tlos_18',\\\n",
    "               'playerblocked']\n",
    "var2 = ['gameclock',\n",
    " 'rushx',\n",
    " 'min_distancetorusher',\n",
    " 'yardfromowngoal',\n",
    " 'yardline',\n",
    " 'x_standard',\n",
    " 'x_handoff',\n",
    " 'eff_crossfield_acc',\n",
    " 'y_handoff',\n",
    " 'dir',\n",
    " 'y_standard',\n",
    " 's',\n",
    " 'distance',\n",
    " 'orientation',\n",
    " 'eff_downfield_acc']"
   ]
  },
  {
   "cell_type": "markdown",
   "metadata": {},
   "source": [
    "## All Variables"
   ]
  },
  {
   "cell_type": "code",
   "execution_count": 48,
   "metadata": {},
   "outputs": [
    {
     "name": "stdout",
     "output_type": "stream",
     "text": [
      "Total time (sec):  305.18\n",
      "Accuracy:  100.0 %\n"
     ]
    }
   ],
   "source": [
    "#### ALL REMAINING VARIABLES\n",
    "## using var1 - top features when rf is run with all variables\n",
    "# predict binned yards\n",
    "import time\n",
    "t0 = time.time()\n",
    "bin_rf_clf_all = RandomForestClassifier(n_estimators = 100, # number of trees\n",
    "                           min_samples_split = 3,\n",
    "                           oob_score = True)\n",
    "bin_rf_clf_all.fit(norm_trainX, bin_trainY)\n",
    "t1 = time.time()\n",
    "print('Total time (min): ', round((t1-t0)/60,2))\n",
    "print('Accuracy: ', round(bin_rf_clf_all.score(norm_testX, bin_testY)*100,2), '%')"
   ]
  },
  {
   "cell_type": "markdown",
   "metadata": {},
   "source": [
    "## Select Variables - hypothesized to be impactful"
   ]
  },
  {
   "cell_type": "code",
   "execution_count": 32,
   "metadata": {
    "colab": {
     "base_uri": "https://localhost:8080/",
     "height": 34
    },
    "colab_type": "code",
    "executionInfo": {
     "elapsed": 256734,
     "status": "ok",
     "timestamp": 1591786637019,
     "user": {
      "displayName": "Jason Maloney",
      "photoUrl": "",
      "userId": "04327763752924398692"
     },
     "user_tz": 240
    },
    "id": "jZwdG_G22wvn",
    "outputId": "682cfaed-7cbc-4306-bc06-aff6e5798f3f"
   },
   "outputs": [
    {
     "name": "stdout",
     "output_type": "stream",
     "text": [
      "Accuracy:  33.78 %\n"
     ]
    }
   ],
   "source": [
    "# predict binned yards\n",
    "tr_X1 = norm_trainX[var]\n",
    "tst_X1 = norm_testX[var]\n",
    "bin_rf_clf = RandomForestClassifier(n_estimators = 100, # number of trees\n",
    "                           min_samples_split = 3,\n",
    "                           oob_score = True)\n",
    "bin_rf_clf.fit(tr_X1, bin_trainY)\n",
    "print('Accuracy: ', round(bin_rf_clf.score(tst_X1, bin_testY)*100,2), '%')\n"
   ]
  },
  {
   "cell_type": "markdown",
   "metadata": {},
   "source": [
    "## 15 Most important variables from all variables"
   ]
  },
  {
   "cell_type": "code",
   "execution_count": 40,
   "metadata": {
    "colab": {
     "base_uri": "https://localhost:8080/",
     "height": 34
    },
    "colab_type": "code",
    "executionInfo": {
     "elapsed": 151271,
     "status": "ok",
     "timestamp": 1591790672332,
     "user": {
      "displayName": "Jason Maloney",
      "photoUrl": "",
      "userId": "04327763752924398692"
     },
     "user_tz": 240
    },
    "id": "MI9HQaCH4_vI",
    "outputId": "5b2d2f6f-08fe-4653-f1d3-8bccb83fb00c"
   },
   "outputs": [
    {
     "ename": "KeyboardInterrupt",
     "evalue": "",
     "output_type": "error",
     "traceback": [
      "\u001b[0;31m---------------------------------------------------------------------------\u001b[0m",
      "\u001b[0;31mKeyboardInterrupt\u001b[0m                         Traceback (most recent call last)",
      "\u001b[0;32m<ipython-input-40-c262b2e6ed9f>\u001b[0m in \u001b[0;36m<module>\u001b[0;34m\u001b[0m\n\u001b[1;32m      7\u001b[0m                             \u001b[0mmax_features\u001b[0m \u001b[0;34m=\u001b[0m \u001b[0;36m15\u001b[0m\u001b[0;34m,\u001b[0m\u001b[0;34m\u001b[0m\u001b[0;34m\u001b[0m\u001b[0m\n\u001b[1;32m      8\u001b[0m                            oob_score = True)\n\u001b[0;32m----> 9\u001b[0;31m \u001b[0mbin_rf_clf2\u001b[0m\u001b[0;34m.\u001b[0m\u001b[0mfit\u001b[0m\u001b[0;34m(\u001b[0m\u001b[0mtr_X2\u001b[0m\u001b[0;34m,\u001b[0m \u001b[0mbin_trainY\u001b[0m\u001b[0;34m)\u001b[0m\u001b[0;34m\u001b[0m\u001b[0;34m\u001b[0m\u001b[0m\n\u001b[0m\u001b[1;32m     10\u001b[0m \u001b[0mprint\u001b[0m\u001b[0;34m(\u001b[0m\u001b[0;34m'Accuracy: '\u001b[0m\u001b[0;34m,\u001b[0m \u001b[0mround\u001b[0m\u001b[0;34m(\u001b[0m\u001b[0mbin_rf_clf2\u001b[0m\u001b[0;34m.\u001b[0m\u001b[0mscore\u001b[0m\u001b[0;34m(\u001b[0m\u001b[0mtst_X2\u001b[0m\u001b[0;34m,\u001b[0m \u001b[0mbin_testY\u001b[0m\u001b[0;34m)\u001b[0m\u001b[0;34m*\u001b[0m\u001b[0;36m100\u001b[0m\u001b[0;34m,\u001b[0m\u001b[0;36m2\u001b[0m\u001b[0;34m)\u001b[0m\u001b[0;34m,\u001b[0m \u001b[0;34m'%'\u001b[0m\u001b[0;34m)\u001b[0m\u001b[0;34m\u001b[0m\u001b[0;34m\u001b[0m\u001b[0m\n",
      "\u001b[0;32m/opt/anaconda3/lib/python3.7/site-packages/sklearn/ensemble/_forest.py\u001b[0m in \u001b[0;36mfit\u001b[0;34m(self, X, y, sample_weight)\u001b[0m\n\u001b[1;32m    381\u001b[0m                     \u001b[0mverbose\u001b[0m\u001b[0;34m=\u001b[0m\u001b[0mself\u001b[0m\u001b[0;34m.\u001b[0m\u001b[0mverbose\u001b[0m\u001b[0;34m,\u001b[0m \u001b[0mclass_weight\u001b[0m\u001b[0;34m=\u001b[0m\u001b[0mself\u001b[0m\u001b[0;34m.\u001b[0m\u001b[0mclass_weight\u001b[0m\u001b[0;34m,\u001b[0m\u001b[0;34m\u001b[0m\u001b[0;34m\u001b[0m\u001b[0m\n\u001b[1;32m    382\u001b[0m                     n_samples_bootstrap=n_samples_bootstrap)\n\u001b[0;32m--> 383\u001b[0;31m                 for i, t in enumerate(trees))\n\u001b[0m\u001b[1;32m    384\u001b[0m \u001b[0;34m\u001b[0m\u001b[0m\n\u001b[1;32m    385\u001b[0m             \u001b[0;31m# Collect newly grown trees\u001b[0m\u001b[0;34m\u001b[0m\u001b[0;34m\u001b[0m\u001b[0;34m\u001b[0m\u001b[0m\n",
      "\u001b[0;32m/opt/anaconda3/lib/python3.7/site-packages/joblib/parallel.py\u001b[0m in \u001b[0;36m__call__\u001b[0;34m(self, iterable)\u001b[0m\n\u001b[1;32m   1005\u001b[0m                 \u001b[0mself\u001b[0m\u001b[0;34m.\u001b[0m\u001b[0m_iterating\u001b[0m \u001b[0;34m=\u001b[0m \u001b[0mself\u001b[0m\u001b[0;34m.\u001b[0m\u001b[0m_original_iterator\u001b[0m \u001b[0;32mis\u001b[0m \u001b[0;32mnot\u001b[0m \u001b[0;32mNone\u001b[0m\u001b[0;34m\u001b[0m\u001b[0;34m\u001b[0m\u001b[0m\n\u001b[1;32m   1006\u001b[0m \u001b[0;34m\u001b[0m\u001b[0m\n\u001b[0;32m-> 1007\u001b[0;31m             \u001b[0;32mwhile\u001b[0m \u001b[0mself\u001b[0m\u001b[0;34m.\u001b[0m\u001b[0mdispatch_one_batch\u001b[0m\u001b[0;34m(\u001b[0m\u001b[0miterator\u001b[0m\u001b[0;34m)\u001b[0m\u001b[0;34m:\u001b[0m\u001b[0;34m\u001b[0m\u001b[0;34m\u001b[0m\u001b[0m\n\u001b[0m\u001b[1;32m   1008\u001b[0m                 \u001b[0;32mpass\u001b[0m\u001b[0;34m\u001b[0m\u001b[0;34m\u001b[0m\u001b[0m\n\u001b[1;32m   1009\u001b[0m \u001b[0;34m\u001b[0m\u001b[0m\n",
      "\u001b[0;32m/opt/anaconda3/lib/python3.7/site-packages/joblib/parallel.py\u001b[0m in \u001b[0;36mdispatch_one_batch\u001b[0;34m(self, iterator)\u001b[0m\n\u001b[1;32m    833\u001b[0m                 \u001b[0;32mreturn\u001b[0m \u001b[0;32mFalse\u001b[0m\u001b[0;34m\u001b[0m\u001b[0;34m\u001b[0m\u001b[0m\n\u001b[1;32m    834\u001b[0m             \u001b[0;32melse\u001b[0m\u001b[0;34m:\u001b[0m\u001b[0;34m\u001b[0m\u001b[0;34m\u001b[0m\u001b[0m\n\u001b[0;32m--> 835\u001b[0;31m                 \u001b[0mself\u001b[0m\u001b[0;34m.\u001b[0m\u001b[0m_dispatch\u001b[0m\u001b[0;34m(\u001b[0m\u001b[0mtasks\u001b[0m\u001b[0;34m)\u001b[0m\u001b[0;34m\u001b[0m\u001b[0;34m\u001b[0m\u001b[0m\n\u001b[0m\u001b[1;32m    836\u001b[0m                 \u001b[0;32mreturn\u001b[0m \u001b[0;32mTrue\u001b[0m\u001b[0;34m\u001b[0m\u001b[0;34m\u001b[0m\u001b[0m\n\u001b[1;32m    837\u001b[0m \u001b[0;34m\u001b[0m\u001b[0m\n",
      "\u001b[0;32m/opt/anaconda3/lib/python3.7/site-packages/joblib/parallel.py\u001b[0m in \u001b[0;36m_dispatch\u001b[0;34m(self, batch)\u001b[0m\n\u001b[1;32m    752\u001b[0m         \u001b[0;32mwith\u001b[0m \u001b[0mself\u001b[0m\u001b[0;34m.\u001b[0m\u001b[0m_lock\u001b[0m\u001b[0;34m:\u001b[0m\u001b[0;34m\u001b[0m\u001b[0;34m\u001b[0m\u001b[0m\n\u001b[1;32m    753\u001b[0m             \u001b[0mjob_idx\u001b[0m \u001b[0;34m=\u001b[0m \u001b[0mlen\u001b[0m\u001b[0;34m(\u001b[0m\u001b[0mself\u001b[0m\u001b[0;34m.\u001b[0m\u001b[0m_jobs\u001b[0m\u001b[0;34m)\u001b[0m\u001b[0;34m\u001b[0m\u001b[0;34m\u001b[0m\u001b[0m\n\u001b[0;32m--> 754\u001b[0;31m             \u001b[0mjob\u001b[0m \u001b[0;34m=\u001b[0m \u001b[0mself\u001b[0m\u001b[0;34m.\u001b[0m\u001b[0m_backend\u001b[0m\u001b[0;34m.\u001b[0m\u001b[0mapply_async\u001b[0m\u001b[0;34m(\u001b[0m\u001b[0mbatch\u001b[0m\u001b[0;34m,\u001b[0m \u001b[0mcallback\u001b[0m\u001b[0;34m=\u001b[0m\u001b[0mcb\u001b[0m\u001b[0;34m)\u001b[0m\u001b[0;34m\u001b[0m\u001b[0;34m\u001b[0m\u001b[0m\n\u001b[0m\u001b[1;32m    755\u001b[0m             \u001b[0;31m# A job can complete so quickly than its callback is\u001b[0m\u001b[0;34m\u001b[0m\u001b[0;34m\u001b[0m\u001b[0;34m\u001b[0m\u001b[0m\n\u001b[1;32m    756\u001b[0m             \u001b[0;31m# called before we get here, causing self._jobs to\u001b[0m\u001b[0;34m\u001b[0m\u001b[0;34m\u001b[0m\u001b[0;34m\u001b[0m\u001b[0m\n",
      "\u001b[0;32m/opt/anaconda3/lib/python3.7/site-packages/joblib/_parallel_backends.py\u001b[0m in \u001b[0;36mapply_async\u001b[0;34m(self, func, callback)\u001b[0m\n\u001b[1;32m    207\u001b[0m     \u001b[0;32mdef\u001b[0m \u001b[0mapply_async\u001b[0m\u001b[0;34m(\u001b[0m\u001b[0mself\u001b[0m\u001b[0;34m,\u001b[0m \u001b[0mfunc\u001b[0m\u001b[0;34m,\u001b[0m \u001b[0mcallback\u001b[0m\u001b[0;34m=\u001b[0m\u001b[0;32mNone\u001b[0m\u001b[0;34m)\u001b[0m\u001b[0;34m:\u001b[0m\u001b[0;34m\u001b[0m\u001b[0;34m\u001b[0m\u001b[0m\n\u001b[1;32m    208\u001b[0m         \u001b[0;34m\"\"\"Schedule a func to be run\"\"\"\u001b[0m\u001b[0;34m\u001b[0m\u001b[0;34m\u001b[0m\u001b[0m\n\u001b[0;32m--> 209\u001b[0;31m         \u001b[0mresult\u001b[0m \u001b[0;34m=\u001b[0m \u001b[0mImmediateResult\u001b[0m\u001b[0;34m(\u001b[0m\u001b[0mfunc\u001b[0m\u001b[0;34m)\u001b[0m\u001b[0;34m\u001b[0m\u001b[0;34m\u001b[0m\u001b[0m\n\u001b[0m\u001b[1;32m    210\u001b[0m         \u001b[0;32mif\u001b[0m \u001b[0mcallback\u001b[0m\u001b[0;34m:\u001b[0m\u001b[0;34m\u001b[0m\u001b[0;34m\u001b[0m\u001b[0m\n\u001b[1;32m    211\u001b[0m             \u001b[0mcallback\u001b[0m\u001b[0;34m(\u001b[0m\u001b[0mresult\u001b[0m\u001b[0;34m)\u001b[0m\u001b[0;34m\u001b[0m\u001b[0;34m\u001b[0m\u001b[0m\n",
      "\u001b[0;32m/opt/anaconda3/lib/python3.7/site-packages/joblib/_parallel_backends.py\u001b[0m in \u001b[0;36m__init__\u001b[0;34m(self, batch)\u001b[0m\n\u001b[1;32m    588\u001b[0m         \u001b[0;31m# Don't delay the application, to avoid keeping the input\u001b[0m\u001b[0;34m\u001b[0m\u001b[0;34m\u001b[0m\u001b[0;34m\u001b[0m\u001b[0m\n\u001b[1;32m    589\u001b[0m         \u001b[0;31m# arguments in memory\u001b[0m\u001b[0;34m\u001b[0m\u001b[0;34m\u001b[0m\u001b[0;34m\u001b[0m\u001b[0m\n\u001b[0;32m--> 590\u001b[0;31m         \u001b[0mself\u001b[0m\u001b[0;34m.\u001b[0m\u001b[0mresults\u001b[0m \u001b[0;34m=\u001b[0m \u001b[0mbatch\u001b[0m\u001b[0;34m(\u001b[0m\u001b[0;34m)\u001b[0m\u001b[0;34m\u001b[0m\u001b[0;34m\u001b[0m\u001b[0m\n\u001b[0m\u001b[1;32m    591\u001b[0m \u001b[0;34m\u001b[0m\u001b[0m\n\u001b[1;32m    592\u001b[0m     \u001b[0;32mdef\u001b[0m \u001b[0mget\u001b[0m\u001b[0;34m(\u001b[0m\u001b[0mself\u001b[0m\u001b[0;34m)\u001b[0m\u001b[0;34m:\u001b[0m\u001b[0;34m\u001b[0m\u001b[0;34m\u001b[0m\u001b[0m\n",
      "\u001b[0;32m/opt/anaconda3/lib/python3.7/site-packages/joblib/parallel.py\u001b[0m in \u001b[0;36m__call__\u001b[0;34m(self)\u001b[0m\n\u001b[1;32m    254\u001b[0m         \u001b[0;32mwith\u001b[0m \u001b[0mparallel_backend\u001b[0m\u001b[0;34m(\u001b[0m\u001b[0mself\u001b[0m\u001b[0;34m.\u001b[0m\u001b[0m_backend\u001b[0m\u001b[0;34m,\u001b[0m \u001b[0mn_jobs\u001b[0m\u001b[0;34m=\u001b[0m\u001b[0mself\u001b[0m\u001b[0;34m.\u001b[0m\u001b[0m_n_jobs\u001b[0m\u001b[0;34m)\u001b[0m\u001b[0;34m:\u001b[0m\u001b[0;34m\u001b[0m\u001b[0;34m\u001b[0m\u001b[0m\n\u001b[1;32m    255\u001b[0m             return [func(*args, **kwargs)\n\u001b[0;32m--> 256\u001b[0;31m                     for func, args, kwargs in self.items]\n\u001b[0m\u001b[1;32m    257\u001b[0m \u001b[0;34m\u001b[0m\u001b[0m\n\u001b[1;32m    258\u001b[0m     \u001b[0;32mdef\u001b[0m \u001b[0m__len__\u001b[0m\u001b[0;34m(\u001b[0m\u001b[0mself\u001b[0m\u001b[0;34m)\u001b[0m\u001b[0;34m:\u001b[0m\u001b[0;34m\u001b[0m\u001b[0;34m\u001b[0m\u001b[0m\n",
      "\u001b[0;32m/opt/anaconda3/lib/python3.7/site-packages/joblib/parallel.py\u001b[0m in \u001b[0;36m<listcomp>\u001b[0;34m(.0)\u001b[0m\n\u001b[1;32m    254\u001b[0m         \u001b[0;32mwith\u001b[0m \u001b[0mparallel_backend\u001b[0m\u001b[0;34m(\u001b[0m\u001b[0mself\u001b[0m\u001b[0;34m.\u001b[0m\u001b[0m_backend\u001b[0m\u001b[0;34m,\u001b[0m \u001b[0mn_jobs\u001b[0m\u001b[0;34m=\u001b[0m\u001b[0mself\u001b[0m\u001b[0;34m.\u001b[0m\u001b[0m_n_jobs\u001b[0m\u001b[0;34m)\u001b[0m\u001b[0;34m:\u001b[0m\u001b[0;34m\u001b[0m\u001b[0;34m\u001b[0m\u001b[0m\n\u001b[1;32m    255\u001b[0m             return [func(*args, **kwargs)\n\u001b[0;32m--> 256\u001b[0;31m                     for func, args, kwargs in self.items]\n\u001b[0m\u001b[1;32m    257\u001b[0m \u001b[0;34m\u001b[0m\u001b[0m\n\u001b[1;32m    258\u001b[0m     \u001b[0;32mdef\u001b[0m \u001b[0m__len__\u001b[0m\u001b[0;34m(\u001b[0m\u001b[0mself\u001b[0m\u001b[0;34m)\u001b[0m\u001b[0;34m:\u001b[0m\u001b[0;34m\u001b[0m\u001b[0;34m\u001b[0m\u001b[0m\n",
      "\u001b[0;32m/opt/anaconda3/lib/python3.7/site-packages/sklearn/ensemble/_forest.py\u001b[0m in \u001b[0;36m_parallel_build_trees\u001b[0;34m(tree, forest, X, y, sample_weight, tree_idx, n_trees, verbose, class_weight, n_samples_bootstrap)\u001b[0m\n\u001b[1;32m    163\u001b[0m             \u001b[0mcurr_sample_weight\u001b[0m \u001b[0;34m*=\u001b[0m \u001b[0mcompute_sample_weight\u001b[0m\u001b[0;34m(\u001b[0m\u001b[0;34m'balanced'\u001b[0m\u001b[0;34m,\u001b[0m \u001b[0my\u001b[0m\u001b[0;34m,\u001b[0m \u001b[0mindices\u001b[0m\u001b[0;34m)\u001b[0m\u001b[0;34m\u001b[0m\u001b[0;34m\u001b[0m\u001b[0m\n\u001b[1;32m    164\u001b[0m \u001b[0;34m\u001b[0m\u001b[0m\n\u001b[0;32m--> 165\u001b[0;31m         \u001b[0mtree\u001b[0m\u001b[0;34m.\u001b[0m\u001b[0mfit\u001b[0m\u001b[0;34m(\u001b[0m\u001b[0mX\u001b[0m\u001b[0;34m,\u001b[0m \u001b[0my\u001b[0m\u001b[0;34m,\u001b[0m \u001b[0msample_weight\u001b[0m\u001b[0;34m=\u001b[0m\u001b[0mcurr_sample_weight\u001b[0m\u001b[0;34m,\u001b[0m \u001b[0mcheck_input\u001b[0m\u001b[0;34m=\u001b[0m\u001b[0;32mFalse\u001b[0m\u001b[0;34m)\u001b[0m\u001b[0;34m\u001b[0m\u001b[0;34m\u001b[0m\u001b[0m\n\u001b[0m\u001b[1;32m    166\u001b[0m     \u001b[0;32melse\u001b[0m\u001b[0;34m:\u001b[0m\u001b[0;34m\u001b[0m\u001b[0;34m\u001b[0m\u001b[0m\n\u001b[1;32m    167\u001b[0m         \u001b[0mtree\u001b[0m\u001b[0;34m.\u001b[0m\u001b[0mfit\u001b[0m\u001b[0;34m(\u001b[0m\u001b[0mX\u001b[0m\u001b[0;34m,\u001b[0m \u001b[0my\u001b[0m\u001b[0;34m,\u001b[0m \u001b[0msample_weight\u001b[0m\u001b[0;34m=\u001b[0m\u001b[0msample_weight\u001b[0m\u001b[0;34m,\u001b[0m \u001b[0mcheck_input\u001b[0m\u001b[0;34m=\u001b[0m\u001b[0;32mFalse\u001b[0m\u001b[0;34m)\u001b[0m\u001b[0;34m\u001b[0m\u001b[0;34m\u001b[0m\u001b[0m\n",
      "\u001b[0;32m/opt/anaconda3/lib/python3.7/site-packages/sklearn/tree/_classes.py\u001b[0m in \u001b[0;36mfit\u001b[0;34m(self, X, y, sample_weight, check_input, X_idx_sorted)\u001b[0m\n\u001b[1;32m    875\u001b[0m             \u001b[0msample_weight\u001b[0m\u001b[0;34m=\u001b[0m\u001b[0msample_weight\u001b[0m\u001b[0;34m,\u001b[0m\u001b[0;34m\u001b[0m\u001b[0;34m\u001b[0m\u001b[0m\n\u001b[1;32m    876\u001b[0m             \u001b[0mcheck_input\u001b[0m\u001b[0;34m=\u001b[0m\u001b[0mcheck_input\u001b[0m\u001b[0;34m,\u001b[0m\u001b[0;34m\u001b[0m\u001b[0;34m\u001b[0m\u001b[0m\n\u001b[0;32m--> 877\u001b[0;31m             X_idx_sorted=X_idx_sorted)\n\u001b[0m\u001b[1;32m    878\u001b[0m         \u001b[0;32mreturn\u001b[0m \u001b[0mself\u001b[0m\u001b[0;34m\u001b[0m\u001b[0;34m\u001b[0m\u001b[0m\n\u001b[1;32m    879\u001b[0m \u001b[0;34m\u001b[0m\u001b[0m\n",
      "\u001b[0;32m/opt/anaconda3/lib/python3.7/site-packages/sklearn/tree/_classes.py\u001b[0m in \u001b[0;36mfit\u001b[0;34m(self, X, y, sample_weight, check_input, X_idx_sorted)\u001b[0m\n\u001b[1;32m    365\u001b[0m                                            min_impurity_split)\n\u001b[1;32m    366\u001b[0m \u001b[0;34m\u001b[0m\u001b[0m\n\u001b[0;32m--> 367\u001b[0;31m         \u001b[0mbuilder\u001b[0m\u001b[0;34m.\u001b[0m\u001b[0mbuild\u001b[0m\u001b[0;34m(\u001b[0m\u001b[0mself\u001b[0m\u001b[0;34m.\u001b[0m\u001b[0mtree_\u001b[0m\u001b[0;34m,\u001b[0m \u001b[0mX\u001b[0m\u001b[0;34m,\u001b[0m \u001b[0my\u001b[0m\u001b[0;34m,\u001b[0m \u001b[0msample_weight\u001b[0m\u001b[0;34m,\u001b[0m \u001b[0mX_idx_sorted\u001b[0m\u001b[0;34m)\u001b[0m\u001b[0;34m\u001b[0m\u001b[0;34m\u001b[0m\u001b[0m\n\u001b[0m\u001b[1;32m    368\u001b[0m \u001b[0;34m\u001b[0m\u001b[0m\n\u001b[1;32m    369\u001b[0m         \u001b[0;32mif\u001b[0m \u001b[0mself\u001b[0m\u001b[0;34m.\u001b[0m\u001b[0mn_outputs_\u001b[0m \u001b[0;34m==\u001b[0m \u001b[0;36m1\u001b[0m \u001b[0;32mand\u001b[0m \u001b[0mis_classifier\u001b[0m\u001b[0;34m(\u001b[0m\u001b[0mself\u001b[0m\u001b[0;34m)\u001b[0m\u001b[0;34m:\u001b[0m\u001b[0;34m\u001b[0m\u001b[0;34m\u001b[0m\u001b[0m\n",
      "\u001b[0;31mKeyboardInterrupt\u001b[0m: "
     ]
    }
   ],
   "source": [
    "## using var1 - top features when rf is run with all variables\n",
    "# predict binned yards\n",
    "tr_X2 = norm_trainX[var2]\n",
    "tst_X2 = norm_testX[var2]\n",
    "bin_rf_clf2 = RandomForestClassifier(n_estimators = 500, # number of trees\n",
    "                           min_samples_split = 10,\n",
    "                            #max_features = 15,\n",
    "                           oob_score = True)\n",
    "bin_rf_clf2.fit(tr_X2, bin_trainY)\n",
    "print('Accuracy: ', round(bin_rf_clf2.score(tst_X2, bin_testY)*100,2), '%')\n"
   ]
  },
  {
   "cell_type": "code",
   "execution_count": null,
   "metadata": {},
   "outputs": [],
   "source": [
    "# predictions\n",
    "y_pred = bin_rf_clf2.predict(tst_X2)\n",
    "# define confusion matrix\n",
    "cm = confusion_matrix(bin_testY, y_pred)\n",
    "# plot cm as a heat map\n",
    "plt.figure(figsize = (8,8))\n",
    "sns.heatmap(cm, annot = True, cmap = 'PuBu', fmt = 'd') # fmt = 'd' prints integers\n",
    "plt.title('Random Forest Classifier Confusion Matrix')\n",
    "plt.ylabel('True Values')\n",
    "plt.xlabel('Predicted Values')\n",
    "plt.xticks(np.arange(0.5,9.5), labels = bin_yard_names, rotation = 90)\n",
    "plt.yticks(np.arange(0.5,9.5), labels = bin_yard_names, rotation = 0)\n",
    "plt.show()\n"
   ]
  },
  {
   "cell_type": "code",
   "execution_count": null,
   "metadata": {},
   "outputs": [],
   "source": [
    "print(classification_report(bin_testY, y_pred, target_names = bin_yard_names, zero_division = 0))\n",
    "\n"
   ]
  },
  {
   "cell_type": "code",
   "execution_count": 14,
   "metadata": {},
   "outputs": [],
   "source": [
    "tr_X2 = trainX[var2]\n",
    "tst_X2 = testX[var2]"
   ]
  },
  {
   "cell_type": "markdown",
   "metadata": {},
   "source": [
    "### Save the train/test sets with hightest accuracy"
   ]
  },
  {
   "cell_type": "code",
   "execution_count": 35,
   "metadata": {},
   "outputs": [],
   "source": [
    "trainname = 'trainX.pkl'\n",
    "testname = 'testX.pkl'\n",
    "pickle.dump(tr_X2, open(trainname, 'wb'))\n",
    "pickle.dump(tst_X2, open(testname, 'wb'))"
   ]
  },
  {
   "cell_type": "code",
   "execution_count": 36,
   "metadata": {
    "colab": {},
    "colab_type": "code",
    "id": "rJc-c54PdeDn"
   },
   "outputs": [],
   "source": [
    "## Save the model\n",
    "modelname = 'rf_model.sav'\n",
    "pickle.dump(bin_rf_clf2, open(modelname, 'wb'))"
   ]
  },
  {
   "cell_type": "markdown",
   "metadata": {
    "colab_type": "text",
    "id": "fAqwBLBa_OFE"
   },
   "source": [
    "### Confusion Matrix"
   ]
  },
  {
   "cell_type": "markdown",
   "metadata": {
    "colab_type": "text",
    "id": "1i2Vir6-5ctI"
   },
   "source": [
    "#### var"
   ]
  },
  {
   "cell_type": "code",
   "execution_count": 33,
   "metadata": {
    "colab": {
     "base_uri": "https://localhost:8080/",
     "height": 0
    },
    "colab_type": "code",
    "executionInfo": {
     "elapsed": 5120,
     "status": "ok",
     "timestamp": 1591786667489,
     "user": {
      "displayName": "Jason Maloney",
      "photoUrl": "",
      "userId": "04327763752924398692"
     },
     "user_tz": 240
    },
    "id": "sV-1k1gA_OVB",
    "outputId": "b811964c-785c-40b1-a6c1-5590fad7c625"
   },
   "outputs": [
    {
     "data": {
      "image/png": "[encoded data removed]",
      "text/plain": [
       "<Figure size 576x576 with 2 Axes>"
      ]
     },
     "metadata": {
      "needs_background": "light",
      "tags": []
     },
     "output_type": "display_data"
    }
   ],
   "source": [
    "# predictions\n",
    "y_pred = bin_rf_clf.predict(tst_X1)\n",
    "# define confusion matrix\n",
    "cm = confusion_matrix(bin_testY, y_pred)\n",
    "# plot cm as a heat map\n",
    "plt.figure(figsize = (8,8))\n",
    "sns.heatmap(cm, annot = True, cmap = 'PuBu', fmt = 'd') # fmt = 'd' prints integers\n",
    "plt.title('Random Forest Classifier Confusion Matrix')\n",
    "plt.ylabel('True Values')\n",
    "plt.xlabel('Predicted Values')\n",
    "plt.xticks(np.arange(0.5,9.5), labels = bin_yard_names, rotation = 90)\n",
    "plt.yticks(np.arange(0.5,9.5), labels = bin_yard_names, rotation = 0)\n",
    "plt.show()"
   ]
  },
  {
   "cell_type": "markdown",
   "metadata": {
    "colab_type": "text",
    "id": "rRxPZbHW5h_s"
   },
   "source": [
    "#### var2"
   ]
  },
  {
   "cell_type": "code",
   "execution_count": 15,
   "metadata": {
    "colab": {
     "base_uri": "https://localhost:8080/",
     "height": 555
    },
    "colab_type": "code",
    "executionInfo": {
     "elapsed": 4948,
     "status": "ok",
     "timestamp": 1591790722832,
     "user": {
      "displayName": "Jason Maloney",
      "photoUrl": "",
      "userId": "04327763752924398692"
     },
     "user_tz": 240
    },
    "id": "mNIAM0uL5Zmd",
    "outputId": "e2934d57-455d-4966-d8ff-505dfa1eb816"
   },
   "outputs": [
    {
     "data": {
      "image/png": "[encoded data removed]",
      "text/plain": [
       "<Figure size 576x576 with 2 Axes>"
      ]
     },
     "metadata": {
      "needs_background": "light"
     },
     "output_type": "display_data"
    }
   ],
   "source": [
    "# predictions\n",
    "y_pred2 = bin_rf_clf2.predict(tst_X2)\n",
    "# define confusion matrix\n",
    "cm = confusion_matrix(bin_testY, y_pred2)\n",
    "# plot cm as a heat map\n",
    "plt.figure(figsize = (8,8))\n",
    "sns.heatmap(cm, annot = True, cmap = 'PuBu', fmt = 'd') # fmt = 'd' prints integers\n",
    "plt.title('Random Forest Classifier Confusion Matrix')\n",
    "plt.ylabel('True Values')\n",
    "plt.xlabel('Predicted Values')\n",
    "plt.xticks(np.arange(0.5,9.5), labels = bin_yard_names, rotation = 90)\n",
    "plt.yticks(np.arange(0.5,9.5), labels = bin_yard_names, rotation = 0)\n",
    "plt.show()"
   ]
  },
  {
   "cell_type": "markdown",
   "metadata": {
    "colab_type": "text",
    "id": "r_7P_ZUrKtwd"
   },
   "source": [
    "### Classification Report"
   ]
  },
  {
   "cell_type": "markdown",
   "metadata": {
    "colab_type": "text",
    "id": "Jdqztoc65rtZ"
   },
   "source": [
    "#### var"
   ]
  },
  {
   "cell_type": "code",
   "execution_count": 34,
   "metadata": {
    "colab": {
     "base_uri": "https://localhost:8080/",
     "height": 0
    },
    "colab_type": "code",
    "executionInfo": {
     "elapsed": 1306,
     "status": "ok",
     "timestamp": 1591786693415,
     "user": {
      "displayName": "Jason Maloney",
      "photoUrl": "",
      "userId": "04327763752924398692"
     },
     "user_tz": 240
    },
    "id": "yO0Q7A9mKt23",
    "outputId": "f564a208-a5f8-41d4-8912-941d01ac8619"
   },
   "outputs": [
    {
     "name": "stdout",
     "output_type": "stream",
     "text": [
      "              precision    recall  f1-score   support\n",
      "\n",
      " -10 or less       0.00      0.00      0.00        73\n",
      "    -9 to -4       0.00      0.00      0.00      2948\n",
      "    -3 to -1       0.10      0.02      0.03     15053\n",
      "      0 to 3       0.47      0.49      0.48     85987\n",
      "      4 to 7       0.27      0.37      0.31     50025\n",
      "     8 to 10       0.09      0.04      0.05     13518\n",
      "    11 to 15       0.05      0.10      0.07      9299\n",
      "    16 to 25       0.00      0.00      0.00      5331\n",
      "         26+       0.06      0.00      0.01      2232\n",
      "\n",
      "    accuracy                           0.34    184466\n",
      "   macro avg       0.11      0.11      0.11    184466\n",
      "weighted avg       0.31      0.34      0.32    184466\n",
      "\n"
     ]
    }
   ],
   "source": [
    "print(classification_report(bin_testY, y_pred, target_names = bin_yard_names, zero_division = 0))"
   ]
  },
  {
   "cell_type": "markdown",
   "metadata": {
    "colab_type": "text",
    "id": "XPmvOKfx5uY4"
   },
   "source": [
    "#### var2"
   ]
  },
  {
   "cell_type": "code",
   "execution_count": 14,
   "metadata": {
    "colab": {
     "base_uri": "https://localhost:8080/",
     "height": 289
    },
    "colab_type": "code",
    "executionInfo": {
     "elapsed": 630,
     "status": "ok",
     "timestamp": 1591790736179,
     "user": {
      "displayName": "Jason Maloney",
      "photoUrl": "",
      "userId": "04327763752924398692"
     },
     "user_tz": 240
    },
    "id": "r2bXZbPm5xIO",
    "outputId": "cd496660-a312-4782-9c0a-48338927da1f"
   },
   "outputs": [
    {
     "name": "stdout",
     "output_type": "stream",
     "text": [
      "              precision    recall  f1-score   support\n",
      "\n",
      " -10 or less       0.00      0.00      0.00        73\n",
      "    -9 to -4       0.00      0.00      0.00      2948\n",
      "    -3 to -1       0.12      0.01      0.01     15053\n",
      "      0 to 3       0.48      0.82      0.60     85987\n",
      "      4 to 7       0.28      0.19      0.23     50025\n",
      "     8 to 10       0.09      0.00      0.00     13518\n",
      "    11 to 15       0.04      0.00      0.00      9299\n",
      "    16 to 25       0.49      0.00      0.01      5331\n",
      "         26+       0.00      0.00      0.00      2232\n",
      "\n",
      "    accuracy                           0.44    184466\n",
      "   macro avg       0.17      0.11      0.10    184466\n",
      "weighted avg       0.33      0.44      0.34    184466\n",
      "\n"
     ]
    }
   ],
   "source": [
    "print(classification_report(bin_testY, y_pred2, target_names = bin_yard_names, zero_division = 0))"
   ]
  },
  {
   "cell_type": "markdown",
   "metadata": {
    "colab_type": "text",
    "id": "Fkp7CEdiH2Sa"
   },
   "source": [
    "### Most Important Features"
   ]
  },
  {
   "cell_type": "markdown",
   "metadata": {
    "colab_type": "text",
    "id": "Ltl0ZGMh559g"
   },
   "source": [
    "#### var"
   ]
  },
  {
   "cell_type": "code",
   "execution_count": 60,
   "metadata": {
    "colab": {
     "base_uri": "https://localhost:8080/",
     "height": 740
    },
    "colab_type": "code",
    "executionInfo": {
     "elapsed": 2167,
     "status": "ok",
     "timestamp": 1591786703305,
     "user": {
      "displayName": "Jason Maloney",
      "photoUrl": "",
      "userId": "04327763752924398692"
     },
     "user_tz": 240
    },
    "id": "MUUPDt6gH2bj",
    "outputId": "34812ee5-c38e-40b2-ae66-ffc4235eec1b"
   },
   "outputs": [
    {
     "data": {
      "image/png": "[encoded data removed]",
      "text/plain": [
       "<Figure size 720x504 with 1 Axes>"
      ]
     },
     "metadata": {
      "needs_background": "light"
     },
     "output_type": "display_data"
    },
    {
     "name": "stdout",
     "output_type": "stream",
     "text": [
      "Features\n",
      "yards_binned_0 to 3      0.252696\n",
      "yards_binned_4 to 7      0.225377\n",
      "yards_binned_-3 to -1    0.098841\n",
      "yards_binned_8 to 10     0.081175\n",
      "yards_binned_11 to 15    0.062694\n",
      "yards_binned_16 to 25    0.034796\n",
      "yards_binned_-9 to -4    0.023464\n",
      "yards_binned_26+         0.015740\n",
      "rushy                    0.008828\n",
      "yardline                 0.008494\n",
      "min_distancetorusher     0.008305\n",
      "rushx                    0.008275\n",
      "gameclock                0.008218\n",
      "yardfromowngoal          0.007815\n",
      "x_standard               0.005563\n",
      "dtype: float64\n"
     ]
    }
   ],
   "source": [
    "## Print n most important features\n",
    "n = 15\n",
    "plt.figure(figsize = (10, 7))\n",
    "# impurity-based feature importance\n",
    "importances = pd.Series(bin_rf_clf2.feature_importances_, index = norm_trainX.columns)\n",
    "# sort values in descending order\n",
    "importances = importances.sort_values(ascending = False)\n",
    "# horizontal barplot\n",
    "importances.nlargest(n).plot(kind = 'barh')\n",
    "plt.title('{} Most Important Features for Random Forest'.format(n))\n",
    "plt.ylabel('Feature')\n",
    "plt.show()\n",
    "print('Features')\n",
    "print(importances[:n])"
   ]
  },
  {
   "cell_type": "code",
   "execution_count": 53,
   "metadata": {
    "colab": {
     "base_uri": "https://localhost:8080/",
     "height": 34
    },
    "colab_type": "code",
    "executionInfo": {
     "elapsed": 1260,
     "status": "ok",
     "timestamp": 1591788516267,
     "user": {
      "displayName": "Jason Maloney",
      "photoUrl": "",
      "userId": "04327763752924398692"
     },
     "user_tz": 240
    },
    "id": "REXYmzTR-sDz",
    "outputId": "45c70126-3e3d-4c87-86b0-d79884e35fc7"
   },
   "outputs": [
    {
     "data": {
      "text/plain": [
       "1.36"
      ]
     },
     "execution_count": 53,
     "metadata": {
      "tags": []
     },
     "output_type": "execute_result"
    }
   ],
   "source": [
    "rmse = np.sqrt(mean_squared_error(bin_testY, y_pred2))\n",
    "rmse = round(rmse,2)\n",
    "rmse"
   ]
  },
  {
   "cell_type": "markdown",
   "metadata": {
    "colab_type": "text",
    "id": "zU7PRMIm572h"
   },
   "source": [
    "#### var2"
   ]
  },
  {
   "cell_type": "code",
   "execution_count": 15,
   "metadata": {
    "colab": {
     "base_uri": "https://localhost:8080/",
     "height": 670
    },
    "colab_type": "code",
    "executionInfo": {
     "elapsed": 719,
     "status": "ok",
     "timestamp": 1591790742665,
     "user": {
      "displayName": "Jason Maloney",
      "photoUrl": "",
      "userId": "04327763752924398692"
     },
     "user_tz": 240
    },
    "id": "C_JMBY2m6XGn",
    "outputId": "8e47e23b-08d0-4d6f-c1ab-52850901151a"
   },
   "outputs": [
    {
     "data": {
      "image/png": "[encoded data removed]",
      "text/plain": [
       "<Figure size 720x504 with 1 Axes>"
      ]
     },
     "metadata": {
      "needs_background": "light",
      "tags": []
     },
     "output_type": "display_data"
    },
    {
     "name": "stdout",
     "output_type": "stream",
     "text": [
      "Features\n",
      "rushy                           0.107269\n",
      "gameclock                       0.103210\n",
      "rushx                           0.101683\n",
      "min_distancetorusher            0.097755\n",
      "avgyardspergame                 0.095387\n",
      "yardfromowngoal                 0.078413\n",
      "yardline                        0.073093\n",
      "week                            0.069049\n",
      "homescorebeforeplay             0.061892\n",
      "visitorscorebeforeplay          0.058909\n",
      "total_playersblocked_revised    0.045732\n",
      "distance                        0.041768\n",
      "quarter                         0.030322\n",
      "x_standard                      0.020884\n",
      "x_handoff                       0.014635\n",
      "dtype: float64\n"
     ]
    }
   ],
   "source": [
    "## Print n most important features\n",
    "n = len(var2)\n",
    "plt.figure(figsize = (10, 7))\n",
    "# impurity-based feature importance\n",
    "importances = pd.Series(bin_rf_clf2.feature_importances_, index = tr_X2.columns)\n",
    "# sort values in descending order\n",
    "importances = importances.sort_values(ascending = False)\n",
    "# horizontal barplot\n",
    "importances.nlargest(n).plot(kind = 'barh')\n",
    "plt.title('{} Most Important Features for Random Forest'.format(n))\n",
    "plt.ylabel('Feature')\n",
    "plt.show()\n",
    "print('Features')\n",
    "print(importances[:n])"
   ]
  },
  {
   "cell_type": "code",
   "execution_count": 0,
   "metadata": {
    "colab": {},
    "colab_type": "code",
    "id": "uRswjbIe_1hQ"
   },
   "outputs": [],
   "source": [
    "# predictions to use = y_pred2\n",
    "testX.index"
   ]
  },
  {
   "cell_type": "code",
   "execution_count": 16,
   "metadata": {
    "colab": {
     "base_uri": "https://localhost:8080/",
     "height": 34
    },
    "colab_type": "code",
    "executionInfo": {
     "elapsed": 638,
     "status": "ok",
     "timestamp": 1591790750773,
     "user": {
      "displayName": "Jason Maloney",
      "photoUrl": "",
      "userId": "04327763752924398692"
     },
     "user_tz": 240
    },
    "id": "vqTdOnG8_12a",
    "outputId": "346150cc-0fc2-488f-f148-5aa3adbc3052"
   },
   "outputs": [
    {
     "data": {
      "text/plain": [
       "184466"
      ]
     },
     "execution_count": 16,
     "metadata": {
      "tags": []
     },
     "output_type": "execute_result"
    }
   ],
   "source": [
    "preds = pd.DataFrame(zip(bin_testY, y_pred2), columns = ['true', 'pred'], index = testX.index)\n",
    "len(preds)"
   ]
  },
  {
   "cell_type": "code",
   "execution_count": 17,
   "metadata": {
    "colab": {
     "base_uri": "https://localhost:8080/",
     "height": 279
    },
    "colab_type": "code",
    "executionInfo": {
     "elapsed": 1087,
     "status": "ok",
     "timestamp": 1591790752657,
     "user": {
      "displayName": "Jason Maloney",
      "photoUrl": "",
      "userId": "04327763752924398692"
     },
     "user_tz": 240
    },
    "id": "VWr7x88S_15H",
    "outputId": "9a28a4db-99a5-4285-a294-871d7e1e8b72"
   },
   "outputs": [
    {
     "data": {
      "image/png": "[encoded data removed]",
      "text/plain": [
       "<Figure size 432x288 with 1 Axes>"
      ]
     },
     "metadata": {
      "needs_background": "light",
      "tags": []
     },
     "output_type": "display_data"
    }
   ],
   "source": [
    "sns.scatterplot(x = 'true', y = 'pred', data = preds)\n",
    "plt.plot(np.arange(9), np.arange(9), color = 'red')\n",
    "plt.show()"
   ]
  },
  {
   "cell_type": "code",
   "execution_count": 0,
   "metadata": {
    "colab": {},
    "colab_type": "code",
    "id": "4fqplCkz_2DC"
   },
   "outputs": [],
   "source": [
    "df = data.iloc[list(preds.index)]"
   ]
  },
  {
   "cell_type": "code",
   "execution_count": 19,
   "metadata": {
    "colab": {
     "base_uri": "https://localhost:8080/",
     "height": 139
    },
    "colab_type": "code",
    "executionInfo": {
     "elapsed": 769,
     "status": "ok",
     "timestamp": 1591790761014,
     "user": {
      "displayName": "Jason Maloney",
      "photoUrl": "",
      "userId": "04327763752924398692"
     },
     "user_tz": 240
    },
    "id": "Iai7774e_2HI",
    "outputId": "563c61de-b7e4-42c0-b593-456687e423be"
   },
   "outputs": [
    {
     "name": "stderr",
     "output_type": "stream",
     "text": [
      "/usr/local/lib/python3.6/dist-packages/ipykernel_launcher.py:1: SettingWithCopyWarning: \n",
      "A value is trying to be set on a copy of a slice from a DataFrame.\n",
      "Try using .loc[row_indexer,col_indexer] = value instead\n",
      "\n",
      "See the caveats in the documentation: https://pandas.pydata.org/pandas-docs/stable/user_guide/indexing.html#returning-a-view-versus-a-copy\n",
      "  \"\"\"Entry point for launching an IPython kernel.\n"
     ]
    }
   ],
   "source": [
    "df['pred'] = preds['pred']"
   ]
  },
  {
   "cell_type": "code",
   "execution_count": 0,
   "metadata": {
    "colab": {},
    "colab_type": "code",
    "id": "spH4rE_K_2Ax"
   },
   "outputs": [],
   "source": [
    "correct = df.loc[df['yards_bin_int'] == df['pred']]"
   ]
  },
  {
   "cell_type": "code",
   "execution_count": 63,
   "metadata": {
    "colab": {
     "base_uri": "https://localhost:8080/",
     "height": 241
    },
    "colab_type": "code",
    "executionInfo": {
     "elapsed": 521,
     "status": "ok",
     "timestamp": 1591791943343,
     "user": {
      "displayName": "Jason Maloney",
      "photoUrl": "",
      "userId": "04327763752924398692"
     },
     "user_tz": 240
    },
    "id": "ZornIcrgEMpV",
    "outputId": "73971ce7-25c1-4815-ffe9-7f51c841175d"
   },
   "outputs": [
    {
     "name": "stderr",
     "output_type": "stream",
     "text": [
      "/usr/local/lib/python3.6/dist-packages/ipykernel_launcher.py:3: SettingWithCopyWarning: \n",
      "A value is trying to be set on a copy of a slice from a DataFrame.\n",
      "Try using .loc[row_indexer,col_indexer] = value instead\n",
      "\n",
      "See the caveats in the documentation: https://pandas.pydata.org/pandas-docs/stable/user_guide/indexing.html#returning-a-view-versus-a-copy\n",
      "  This is separate from the ipykernel package so we can avoid doing imports until\n",
      "/usr/local/lib/python3.6/dist-packages/ipykernel_launcher.py:9: SettingWithCopyWarning: \n",
      "A value is trying to be set on a copy of a slice from a DataFrame.\n",
      "Try using .loc[row_indexer,col_indexer] = value instead\n",
      "\n",
      "See the caveats in the documentation: https://pandas.pydata.org/pandas-docs/stable/user_guide/indexing.html#returning-a-view-versus-a-copy\n",
      "  if __name__ == '__main__':\n"
     ]
    }
   ],
   "source": [
    "# distribution of formation in correct predictions\n",
    "ofplot = correct[['offenseformation']]\n",
    "ofplot['count'] = 1\n",
    "ofplot = round(ofplot.groupby('offenseformation').sum()/22).astype(int)\n",
    "ofplot = ofplot.sort_values('count', ascending = False)\n",
    "ofplot['pct'] = round(ofplot/ofplot.sum()*100,2)\n",
    "# distribution of formation in whole data\n",
    "form = data[['offenseformation']]\n",
    "form['count'] = 1\n",
    "form = round(form.groupby('offenseformation').sum()/22).astype(int)\n",
    "form = form.sort_values('count', ascending = False)\n",
    "form_pct = round(form/form.sum()*100,2)\n",
    "form_pct['formation'] = form_pct.index\n",
    "\n"
   ]
  },
  {
   "cell_type": "code",
   "execution_count": 64,
   "metadata": {
    "colab": {
     "base_uri": "https://localhost:8080/",
     "height": 297
    },
    "colab_type": "code",
    "executionInfo": {
     "elapsed": 879,
     "status": "ok",
     "timestamp": 1591791945673,
     "user": {
      "displayName": "Jason Maloney",
      "photoUrl": "",
      "userId": "04327763752924398692"
     },
     "user_tz": 240
    },
    "id": "TNN-o0qkITap",
    "outputId": "2e4bbe64-e226-4d78-b235-e1888588837b"
   },
   "outputs": [
    {
     "data": {
      "text/html": [
       "<div>\n",
       "<style scoped>\n",
       "    .dataframe tbody tr th:only-of-type {\n",
       "        vertical-align: middle;\n",
       "    }\n",
       "\n",
       "    .dataframe tbody tr th {\n",
       "        vertical-align: top;\n",
       "    }\n",
       "\n",
       "    .dataframe thead th {\n",
       "        text-align: right;\n",
       "    }\n",
       "</style>\n",
       "<table border=\"1\" class=\"dataframe\">\n",
       "  <thead>\n",
       "    <tr style=\"text-align: right;\">\n",
       "      <th></th>\n",
       "      <th>count</th>\n",
       "      <th>pct</th>\n",
       "      <th>formation</th>\n",
       "    </tr>\n",
       "  </thead>\n",
       "  <tbody>\n",
       "    <tr>\n",
       "      <th>0</th>\n",
       "      <td>1560</td>\n",
       "      <td>42.60</td>\n",
       "      <td>SINGLEBACK</td>\n",
       "    </tr>\n",
       "    <tr>\n",
       "      <th>1</th>\n",
       "      <td>1153</td>\n",
       "      <td>31.49</td>\n",
       "      <td>SHOTGUN</td>\n",
       "    </tr>\n",
       "    <tr>\n",
       "      <th>2</th>\n",
       "      <td>677</td>\n",
       "      <td>18.49</td>\n",
       "      <td>I_FORM</td>\n",
       "    </tr>\n",
       "    <tr>\n",
       "      <th>3</th>\n",
       "      <td>152</td>\n",
       "      <td>4.15</td>\n",
       "      <td>PISTOL</td>\n",
       "    </tr>\n",
       "    <tr>\n",
       "      <th>4</th>\n",
       "      <td>110</td>\n",
       "      <td>3.00</td>\n",
       "      <td>JUMBO</td>\n",
       "    </tr>\n",
       "    <tr>\n",
       "      <th>5</th>\n",
       "      <td>6</td>\n",
       "      <td>0.16</td>\n",
       "      <td>WILDCAT</td>\n",
       "    </tr>\n",
       "    <tr>\n",
       "      <th>6</th>\n",
       "      <td>4</td>\n",
       "      <td>0.11</td>\n",
       "      <td>EMPTY</td>\n",
       "    </tr>\n",
       "    <tr>\n",
       "      <th>7</th>\n",
       "      <td>0</td>\n",
       "      <td>0.00</td>\n",
       "      <td>ACE</td>\n",
       "    </tr>\n",
       "  </tbody>\n",
       "</table>\n",
       "</div>"
      ],
      "text/plain": [
       "   count    pct   formation\n",
       "0   1560  42.60  SINGLEBACK\n",
       "1   1153  31.49     SHOTGUN\n",
       "2    677  18.49      I_FORM\n",
       "3    152   4.15      PISTOL\n",
       "4    110   3.00       JUMBO\n",
       "5      6   0.16     WILDCAT\n",
       "6      4   0.11       EMPTY\n",
       "7      0   0.00         ACE"
      ]
     },
     "execution_count": 64,
     "metadata": {
      "tags": []
     },
     "output_type": "execute_result"
    }
   ],
   "source": [
    "ofplot['formation'] = ofplot.index\n",
    "new_row = {'formation':'ACE', 'count':0, 'pct':0.0}\n",
    "ofplot = ofplot.append(new_row, ignore_index = True)\n",
    "ofplot"
   ]
  },
  {
   "cell_type": "code",
   "execution_count": 67,
   "metadata": {
    "colab": {
     "base_uri": "https://localhost:8080/",
     "height": 328
    },
    "colab_type": "code",
    "executionInfo": {
     "elapsed": 706,
     "status": "ok",
     "timestamp": 1591791972927,
     "user": {
      "displayName": "Jason Maloney",
      "photoUrl": "",
      "userId": "04327763752924398692"
     },
     "user_tz": 240
    },
    "id": "8XZvnh2IKa0W",
    "outputId": "5ce0ad35-07ef-425b-b850-edcd35af299c"
   },
   "outputs": [
    {
     "data": {
      "text/html": [
       "<div>\n",
       "<style scoped>\n",
       "    .dataframe tbody tr th:only-of-type {\n",
       "        vertical-align: middle;\n",
       "    }\n",
       "\n",
       "    .dataframe tbody tr th {\n",
       "        vertical-align: top;\n",
       "    }\n",
       "\n",
       "    .dataframe thead th {\n",
       "        text-align: right;\n",
       "    }\n",
       "</style>\n",
       "<table border=\"1\" class=\"dataframe\">\n",
       "  <thead>\n",
       "    <tr style=\"text-align: right;\">\n",
       "      <th></th>\n",
       "      <th>count</th>\n",
       "      <th>formation</th>\n",
       "    </tr>\n",
       "  </thead>\n",
       "  <tbody>\n",
       "    <tr>\n",
       "      <th>0</th>\n",
       "      <td>44.04</td>\n",
       "      <td>SINGLEBACK</td>\n",
       "    </tr>\n",
       "    <tr>\n",
       "      <th>1</th>\n",
       "      <td>30.12</td>\n",
       "      <td>SHOTGUN</td>\n",
       "    </tr>\n",
       "    <tr>\n",
       "      <th>2</th>\n",
       "      <td>20.13</td>\n",
       "      <td>I_FORM</td>\n",
       "    </tr>\n",
       "    <tr>\n",
       "      <th>3</th>\n",
       "      <td>3.15</td>\n",
       "      <td>PISTOL</td>\n",
       "    </tr>\n",
       "    <tr>\n",
       "      <th>4</th>\n",
       "      <td>2.19</td>\n",
       "      <td>JUMBO</td>\n",
       "    </tr>\n",
       "    <tr>\n",
       "      <th>5</th>\n",
       "      <td>0.25</td>\n",
       "      <td>WILDCAT</td>\n",
       "    </tr>\n",
       "    <tr>\n",
       "      <th>6</th>\n",
       "      <td>0.10</td>\n",
       "      <td>EMPTY</td>\n",
       "    </tr>\n",
       "    <tr>\n",
       "      <th>7</th>\n",
       "      <td>0.01</td>\n",
       "      <td>-999</td>\n",
       "    </tr>\n",
       "    <tr>\n",
       "      <th>8</th>\n",
       "      <td>0.00</td>\n",
       "      <td>ACE</td>\n",
       "    </tr>\n",
       "  </tbody>\n",
       "</table>\n",
       "</div>"
      ],
      "text/plain": [
       "   count   formation\n",
       "0  44.04  SINGLEBACK\n",
       "1  30.12     SHOTGUN\n",
       "2  20.13      I_FORM\n",
       "3   3.15      PISTOL\n",
       "4   2.19       JUMBO\n",
       "5   0.25     WILDCAT\n",
       "6   0.10       EMPTY\n",
       "7   0.01        -999\n",
       "8   0.00         ACE"
      ]
     },
     "execution_count": 67,
     "metadata": {
      "tags": []
     },
     "output_type": "execute_result"
    }
   ],
   "source": [
    "#form_pct.index = range(len(form_pct))\n",
    "form_pct"
   ]
  },
  {
   "cell_type": "code",
   "execution_count": 0,
   "metadata": {
    "colab": {},
    "colab_type": "code",
    "id": "DcpGvFjYIZ7Z"
   },
   "outputs": [],
   "source": [
    "form_pct = form_pct.drop(7)\n",
    "ofplot['total_pct'] = form_pct['count']"
   ]
  },
  {
   "cell_type": "code",
   "execution_count": 70,
   "metadata": {
    "colab": {
     "base_uri": "https://localhost:8080/",
     "height": 122
    },
    "colab_type": "code",
    "executionInfo": {
     "elapsed": 584,
     "status": "ok",
     "timestamp": 1591792017223,
     "user": {
      "displayName": "Jason Maloney",
      "photoUrl": "",
      "userId": "04327763752924398692"
     },
     "user_tz": 240
    },
    "id": "NaFAayJ0L_5K",
    "outputId": "afe00ce1-d23d-4f0a-aff6-9c4bec89bc05"
   },
   "outputs": [
    {
     "name": "stderr",
     "output_type": "stream",
     "text": [
      "/usr/local/lib/python3.6/dist-packages/ipykernel_launcher.py:1: SettingWithCopyWarning: \n",
      "A value is trying to be set on a copy of a slice from a DataFrame\n",
      "\n",
      "See the caveats in the documentation: https://pandas.pydata.org/pandas-docs/stable/user_guide/indexing.html#returning-a-view-versus-a-copy\n",
      "  \"\"\"Entry point for launching an IPython kernel.\n"
     ]
    }
   ],
   "source": [
    "ofplot['total_pct'][7] = 0.0"
   ]
  },
  {
   "cell_type": "code",
   "execution_count": 71,
   "metadata": {
    "colab": {
     "base_uri": "https://localhost:8080/",
     "height": 297
    },
    "colab_type": "code",
    "executionInfo": {
     "elapsed": 478,
     "status": "ok",
     "timestamp": 1591792024531,
     "user": {
      "displayName": "Jason Maloney",
      "photoUrl": "",
      "userId": "04327763752924398692"
     },
     "user_tz": 240
    },
    "id": "dQYywKF7MqzQ",
    "outputId": "4384c953-1666-4151-fab9-9eb8e3c2b2e9"
   },
   "outputs": [
    {
     "data": {
      "text/html": [
       "<div>\n",
       "<style scoped>\n",
       "    .dataframe tbody tr th:only-of-type {\n",
       "        vertical-align: middle;\n",
       "    }\n",
       "\n",
       "    .dataframe tbody tr th {\n",
       "        vertical-align: top;\n",
       "    }\n",
       "\n",
       "    .dataframe thead th {\n",
       "        text-align: right;\n",
       "    }\n",
       "</style>\n",
       "<table border=\"1\" class=\"dataframe\">\n",
       "  <thead>\n",
       "    <tr style=\"text-align: right;\">\n",
       "      <th></th>\n",
       "      <th>count</th>\n",
       "      <th>pct</th>\n",
       "      <th>formation</th>\n",
       "      <th>total_pct</th>\n",
       "    </tr>\n",
       "  </thead>\n",
       "  <tbody>\n",
       "    <tr>\n",
       "      <th>0</th>\n",
       "      <td>1560</td>\n",
       "      <td>42.60</td>\n",
       "      <td>SINGLEBACK</td>\n",
       "      <td>44.04</td>\n",
       "    </tr>\n",
       "    <tr>\n",
       "      <th>1</th>\n",
       "      <td>1153</td>\n",
       "      <td>31.49</td>\n",
       "      <td>SHOTGUN</td>\n",
       "      <td>30.12</td>\n",
       "    </tr>\n",
       "    <tr>\n",
       "      <th>2</th>\n",
       "      <td>677</td>\n",
       "      <td>18.49</td>\n",
       "      <td>I_FORM</td>\n",
       "      <td>20.13</td>\n",
       "    </tr>\n",
       "    <tr>\n",
       "      <th>3</th>\n",
       "      <td>152</td>\n",
       "      <td>4.15</td>\n",
       "      <td>PISTOL</td>\n",
       "      <td>3.15</td>\n",
       "    </tr>\n",
       "    <tr>\n",
       "      <th>4</th>\n",
       "      <td>110</td>\n",
       "      <td>3.00</td>\n",
       "      <td>JUMBO</td>\n",
       "      <td>2.19</td>\n",
       "    </tr>\n",
       "    <tr>\n",
       "      <th>5</th>\n",
       "      <td>6</td>\n",
       "      <td>0.16</td>\n",
       "      <td>WILDCAT</td>\n",
       "      <td>0.25</td>\n",
       "    </tr>\n",
       "    <tr>\n",
       "      <th>6</th>\n",
       "      <td>4</td>\n",
       "      <td>0.11</td>\n",
       "      <td>EMPTY</td>\n",
       "      <td>0.10</td>\n",
       "    </tr>\n",
       "    <tr>\n",
       "      <th>7</th>\n",
       "      <td>0</td>\n",
       "      <td>0.00</td>\n",
       "      <td>ACE</td>\n",
       "      <td>0.00</td>\n",
       "    </tr>\n",
       "  </tbody>\n",
       "</table>\n",
       "</div>"
      ],
      "text/plain": [
       "   count    pct   formation  total_pct\n",
       "0   1560  42.60  SINGLEBACK      44.04\n",
       "1   1153  31.49     SHOTGUN      30.12\n",
       "2    677  18.49      I_FORM      20.13\n",
       "3    152   4.15      PISTOL       3.15\n",
       "4    110   3.00       JUMBO       2.19\n",
       "5      6   0.16     WILDCAT       0.25\n",
       "6      4   0.11       EMPTY       0.10\n",
       "7      0   0.00         ACE       0.00"
      ]
     },
     "execution_count": 71,
     "metadata": {
      "tags": []
     },
     "output_type": "execute_result"
    }
   ],
   "source": []
  },
  {
   "cell_type": "code",
   "execution_count": 89,
   "metadata": {
    "colab": {
     "base_uri": "https://localhost:8080/",
     "height": 310
    },
    "colab_type": "code",
    "executionInfo": {
     "elapsed": 864,
     "status": "ok",
     "timestamp": 1591793185614,
     "user": {
      "displayName": "Jason Maloney",
      "photoUrl": "",
      "userId": "04327763752924398692"
     },
     "user_tz": 240
    },
    "id": "Nwe_eto8_1_e",
    "outputId": "a982cb46-a511-4df5-e8be-5f7f374a1c46"
   },
   "outputs": [
    {
     "data": {
      "image/png": "[encoded data removed]",
      "text/plain": [
       "<Figure size 432x288 with 1 Axes>"
      ]
     },
     "metadata": {
      "needs_background": "light",
      "tags": []
     },
     "output_type": "display_data"
    }
   ],
   "source": [
    "from matplotlib.patches import Rectangle\n",
    "sns.barplot(x = 'formation', y = 'count', \n",
    "            data = ofplot, color = 'lightgray')\n",
    "for i in np.arange(3):\n",
    "  plt.text(x = i - 0.4,\n",
    "           y = ofplot['count'][i] - 100,\n",
    "           s = str(ofplot['pct'][i])+'%',\n",
    "           color = 'midnightblue',\n",
    "           label = '% of Correctly Predicted Plays')\n",
    "  plt.text(x = i - 0.4,\n",
    "           y = ofplot['count'][i] - 400,\n",
    "           s = str(ofplot['total_pct'][i])+'%',\n",
    "           color = 'maroon', \n",
    "           label = '% of Total Plays')\n",
    "  for i in np.arange(3,8):\n",
    "    plt.text(x = i-0.4,\n",
    "             y = 250,\n",
    "             s = str(ofplot['pct'][i])+'%',\n",
    "             color = 'midnightblue')\n",
    "    plt.text(x = i - 0.4,\n",
    "             y = 100,\n",
    "             s = str(ofplot['total_pct'][i])+'%',\n",
    "             color = 'maroon')\n",
    "plt.title('Distribution of Offensive Formations')\n",
    "plt.xticks(rotation = 30)\n",
    "plt.xlabel('Offensive Formation')\n",
    "plt.ylabel('Number of Plays')\n",
    "plt.show()"
   ]
  },
  {
   "cell_type": "code",
   "execution_count": 90,
   "metadata": {
    "colab": {
     "base_uri": "https://localhost:8080/",
     "height": 266
    },
    "colab_type": "code",
    "executionInfo": {
     "elapsed": 496,
     "status": "ok",
     "timestamp": 1591793360841,
     "user": {
      "displayName": "Jason Maloney",
      "photoUrl": "",
      "userId": "04327763752924398692"
     },
     "user_tz": 240
    },
    "id": "2sRdFXS4RVhL",
    "outputId": "020c655a-fe0e-462a-bec2-676cc8dd81b2"
   },
   "outputs": [
    {
     "data": {
      "image/png": "[encoded data removed]",
      "text/plain": [
       "<Figure size 432x288 with 1 Axes>"
      ]
     },
     "metadata": {
      "needs_background": "light",
      "tags": []
     },
     "output_type": "display_data"
    }
   ],
   "source": [
    "fig = plt.figure()\n",
    "ax = fig.add_subplot(111)\n",
    "bar_pct = ax.bar(ofplot['formation'], ofplot['pct'], color = 'midnightblue')\n",
    "bar_total_pct = ax.bar(ofplot['formation'], ofplot['total_pct'], color = 'maroon')\n",
    "plt.show()"
   ]
  },
  {
   "cell_type": "code",
   "execution_count": 0,
   "metadata": {
    "colab": {},
    "colab_type": "code",
    "id": "u7jol3JW_1-A"
   },
   "outputs": [],
   "source": [
    "form = data[['offenseformation']]\n",
    "form['count'] = 1\n",
    "form = form.groupby('count').sum()\n",
    "form = form.sort_values('count', ascending = False)\n",
    "form"
   ]
  },
  {
   "cell_type": "code",
   "execution_count": 105,
   "metadata": {
    "colab": {
     "base_uri": "https://localhost:8080/",
     "height": 297
    },
    "colab_type": "code",
    "executionInfo": {
     "elapsed": 635,
     "status": "ok",
     "timestamp": 1591793934587,
     "user": {
      "displayName": "Jason Maloney",
      "photoUrl": "",
      "userId": "04327763752924398692"
     },
     "user_tz": 240
    },
    "id": "aZ-2PMLAT9UI",
    "outputId": "5cf5c280-86d9-427c-e8e5-fa54480e8ed8"
   },
   "outputs": [
    {
     "data": {
      "text/html": [
       "<div>\n",
       "<style scoped>\n",
       "    .dataframe tbody tr th:only-of-type {\n",
       "        vertical-align: middle;\n",
       "    }\n",
       "\n",
       "    .dataframe tbody tr th {\n",
       "        vertical-align: top;\n",
       "    }\n",
       "\n",
       "    .dataframe thead th {\n",
       "        text-align: right;\n",
       "    }\n",
       "</style>\n",
       "<table border=\"1\" class=\"dataframe\">\n",
       "  <thead>\n",
       "    <tr style=\"text-align: right;\">\n",
       "      <th></th>\n",
       "      <th>count</th>\n",
       "      <th>pct</th>\n",
       "      <th>formation</th>\n",
       "      <th>total_pct</th>\n",
       "    </tr>\n",
       "  </thead>\n",
       "  <tbody>\n",
       "    <tr>\n",
       "      <th>0</th>\n",
       "      <td>1560</td>\n",
       "      <td>42.60</td>\n",
       "      <td>SINGLEBACK</td>\n",
       "      <td>44.04</td>\n",
       "    </tr>\n",
       "    <tr>\n",
       "      <th>1</th>\n",
       "      <td>1153</td>\n",
       "      <td>31.49</td>\n",
       "      <td>SHOTGUN</td>\n",
       "      <td>30.12</td>\n",
       "    </tr>\n",
       "    <tr>\n",
       "      <th>2</th>\n",
       "      <td>677</td>\n",
       "      <td>18.49</td>\n",
       "      <td>I_FORM</td>\n",
       "      <td>20.13</td>\n",
       "    </tr>\n",
       "    <tr>\n",
       "      <th>3</th>\n",
       "      <td>152</td>\n",
       "      <td>4.15</td>\n",
       "      <td>PISTOL</td>\n",
       "      <td>3.15</td>\n",
       "    </tr>\n",
       "    <tr>\n",
       "      <th>4</th>\n",
       "      <td>110</td>\n",
       "      <td>3.00</td>\n",
       "      <td>JUMBO</td>\n",
       "      <td>2.19</td>\n",
       "    </tr>\n",
       "    <tr>\n",
       "      <th>5</th>\n",
       "      <td>6</td>\n",
       "      <td>0.16</td>\n",
       "      <td>WILDCAT</td>\n",
       "      <td>0.25</td>\n",
       "    </tr>\n",
       "    <tr>\n",
       "      <th>6</th>\n",
       "      <td>4</td>\n",
       "      <td>0.11</td>\n",
       "      <td>EMPTY</td>\n",
       "      <td>0.10</td>\n",
       "    </tr>\n",
       "    <tr>\n",
       "      <th>7</th>\n",
       "      <td>0</td>\n",
       "      <td>0.00</td>\n",
       "      <td>ACE</td>\n",
       "      <td>0.00</td>\n",
       "    </tr>\n",
       "  </tbody>\n",
       "</table>\n",
       "</div>"
      ],
      "text/plain": [
       "   count    pct   formation  total_pct\n",
       "0   1560  42.60  SINGLEBACK      44.04\n",
       "1   1153  31.49     SHOTGUN      30.12\n",
       "2    677  18.49      I_FORM      20.13\n",
       "3    152   4.15      PISTOL       3.15\n",
       "4    110   3.00       JUMBO       2.19\n",
       "5      6   0.16     WILDCAT       0.25\n",
       "6      4   0.11       EMPTY       0.10\n",
       "7      0   0.00         ACE       0.00"
      ]
     },
     "execution_count": 105,
     "metadata": {
      "tags": []
     },
     "output_type": "execute_result"
    }
   ],
   "source": [
    "ofplot"
   ]
  },
  {
   "cell_type": "code",
   "execution_count": 112,
   "metadata": {
    "colab": {
     "base_uri": "https://localhost:8080/",
     "height": 312
    },
    "colab_type": "code",
    "executionInfo": {
     "elapsed": 768,
     "status": "ok",
     "timestamp": 1591794248144,
     "user": {
      "displayName": "Jason Maloney",
      "photoUrl": "",
      "userId": "04327763752924398692"
     },
     "user_tz": 240
    },
    "id": "81gHJH4wR9mP",
    "outputId": "92f0ea41-ffcd-49e2-945b-ae77fa806efd"
   },
   "outputs": [
    {
     "data": {
      "image/png": "[encoded data removed]",
      "text/plain": [
       "<Figure size 432x288 with 1 Axes>"
      ]
     },
     "metadata": {
      "needs_background": "light",
      "tags": []
     },
     "output_type": "display_data"
    }
   ],
   "source": [
    "sns.kdeplot(ofplot['pct'], shade = True)\n",
    "sns.kdeplot(ofplot['total_pct'], shade = True)\n",
    "plt.legend(labels = ['Correctly Predicted Plays', 'All Plays'])\n",
    "plt.title('Distribution of Offensive Formation')\n",
    "plt.xticks(ticks = np.arange(-40, 100, 20),labels = ['EMPTY','WILDCAT', 'SINGLEBACK', 'SHOTGUN', 'I FORM', 'PISTOL', 'JUMBO'], rotation = 30)\n",
    "plt.show()"
   ]
  },
  {
   "cell_type": "code",
   "execution_count": 101,
   "metadata": {
    "colab": {
     "base_uri": "https://localhost:8080/",
     "height": 338
    },
    "colab_type": "code",
    "executionInfo": {
     "elapsed": 797,
     "status": "ok",
     "timestamp": 1591793755357,
     "user": {
      "displayName": "Jason Maloney",
      "photoUrl": "",
      "userId": "04327763752924398692"
     },
     "user_tz": 240
    },
    "id": "qw2_Sr9CS-c6",
    "outputId": "21b681bb-5fa8-4c56-80c4-9fea6ec38d7f"
   },
   "outputs": [
    {
     "data": {
      "text/html": [
       "<div>\n",
       "<style scoped>\n",
       "    .dataframe tbody tr th:only-of-type {\n",
       "        vertical-align: middle;\n",
       "    }\n",
       "\n",
       "    .dataframe tbody tr th {\n",
       "        vertical-align: top;\n",
       "    }\n",
       "\n",
       "    .dataframe thead th {\n",
       "        text-align: right;\n",
       "    }\n",
       "</style>\n",
       "<table border=\"1\" class=\"dataframe\">\n",
       "  <thead>\n",
       "    <tr style=\"text-align: right;\">\n",
       "      <th></th>\n",
       "      <th>gameid</th>\n",
       "      <th>playid</th>\n",
       "      <th>team</th>\n",
       "      <th>x</th>\n",
       "      <th>y</th>\n",
       "      <th>s</th>\n",
       "      <th>a</th>\n",
       "      <th>dis</th>\n",
       "      <th>orientation</th>\n",
       "      <th>dir</th>\n",
       "      <th>nflid</th>\n",
       "      <th>displayname</th>\n",
       "      <th>jerseynumber</th>\n",
       "      <th>season</th>\n",
       "      <th>yardline</th>\n",
       "      <th>quarter</th>\n",
       "      <th>gameclock</th>\n",
       "      <th>possessionteam</th>\n",
       "      <th>down</th>\n",
       "      <th>distance</th>\n",
       "      <th>fieldposition</th>\n",
       "      <th>homescorebeforeplay</th>\n",
       "      <th>visitorscorebeforeplay</th>\n",
       "      <th>nflidrusher</th>\n",
       "      <th>offenseformation</th>\n",
       "      <th>offensepersonnel</th>\n",
       "      <th>defendersinthebox</th>\n",
       "      <th>defensepersonnel</th>\n",
       "      <th>playdirection</th>\n",
       "      <th>timehandoff</th>\n",
       "      <th>timesnap</th>\n",
       "      <th>yards</th>\n",
       "      <th>playerheight</th>\n",
       "      <th>playerweight</th>\n",
       "      <th>playerbirthdate</th>\n",
       "      <th>playercollegename</th>\n",
       "      <th>position</th>\n",
       "      <th>hometeamabbr</th>\n",
       "      <th>visitorteamabbr</th>\n",
       "      <th>week</th>\n",
       "      <th>...</th>\n",
       "      <th>2_sec_y</th>\n",
       "      <th>2_5_sec_y</th>\n",
       "      <th>3_sec_y</th>\n",
       "      <th>3_5_sec_y</th>\n",
       "      <th>4_sec_y</th>\n",
       "      <th>4_5_sec_y</th>\n",
       "      <th>5_sec_y</th>\n",
       "      <th>5_5_sec_y</th>\n",
       "      <th>6_sec_y</th>\n",
       "      <th>offense</th>\n",
       "      <th>eff_downfield_acc</th>\n",
       "      <th>eff_crossfield_acc</th>\n",
       "      <th>rushteamwinning</th>\n",
       "      <th>playerblocked</th>\n",
       "      <th>total_playersblocked</th>\n",
       "      <th>total_playersblocked_revised</th>\n",
       "      <th>yards_binned</th>\n",
       "      <th>eff_17</th>\n",
       "      <th>8+d%_17</th>\n",
       "      <th>tlos_17</th>\n",
       "      <th>att_17</th>\n",
       "      <th>yds_17</th>\n",
       "      <th>avg_17</th>\n",
       "      <th>td_17</th>\n",
       "      <th>eff_18</th>\n",
       "      <th>8+d%_18</th>\n",
       "      <th>tlos_18</th>\n",
       "      <th>att_18</th>\n",
       "      <th>yds_18</th>\n",
       "      <th>avg_18</th>\n",
       "      <th>td_18</th>\n",
       "      <th>eff_19</th>\n",
       "      <th>8+d%_19</th>\n",
       "      <th>tlos_19</th>\n",
       "      <th>att_19</th>\n",
       "      <th>yds_19</th>\n",
       "      <th>avg_19</th>\n",
       "      <th>td_19</th>\n",
       "      <th>yards_bin_int</th>\n",
       "      <th>pred</th>\n",
       "    </tr>\n",
       "  </thead>\n",
       "  <tbody>\n",
       "    <tr>\n",
       "      <th>553953</th>\n",
       "      <td>2019090500</td>\n",
       "      <td>20190905000050</td>\n",
       "      <td>away</td>\n",
       "      <td>34.32</td>\n",
       "      <td>24.27</td>\n",
       "      <td>5.09</td>\n",
       "      <td>1.95</td>\n",
       "      <td>0.50</td>\n",
       "      <td>52.07</td>\n",
       "      <td>70.69</td>\n",
       "      <td>496988</td>\n",
       "      <td>Bryan Bulaga</td>\n",
       "      <td>75</td>\n",
       "      <td>2019</td>\n",
       "      <td>25</td>\n",
       "      <td>1</td>\n",
       "      <td>900.0</td>\n",
       "      <td>CHI</td>\n",
       "      <td>1</td>\n",
       "      <td>10</td>\n",
       "      <td>GB</td>\n",
       "      <td>0</td>\n",
       "      <td>0</td>\n",
       "      <td>2558116</td>\n",
       "      <td>I_FORM</td>\n",
       "      <td>2 RB, 1 TE, 2 WR</td>\n",
       "      <td>7.0</td>\n",
       "      <td>3 DL, 4 LB, 4 DB</td>\n",
       "      <td>right</td>\n",
       "      <td>2019-09-06 00:23:35+00:00</td>\n",
       "      <td>2019-09-06 00:23:34+00:00</td>\n",
       "      <td>0</td>\n",
       "      <td>77</td>\n",
       "      <td>314</td>\n",
       "      <td>1989-03-21</td>\n",
       "      <td>Iowa</td>\n",
       "      <td>OT</td>\n",
       "      <td>CHI</td>\n",
       "      <td>GB</td>\n",
       "      <td>1</td>\n",
       "      <td>...</td>\n",
       "      <td>37.557905</td>\n",
       "      <td>42.030068</td>\n",
       "      <td>46.962306</td>\n",
       "      <td>52.354619</td>\n",
       "      <td>53.30000</td>\n",
       "      <td>53.300000</td>\n",
       "      <td>53.300000</td>\n",
       "      <td>53.300000</td>\n",
       "      <td>53.300000</td>\n",
       "      <td>0</td>\n",
       "      <td>0.644824</td>\n",
       "      <td>1.840299</td>\n",
       "      <td>0</td>\n",
       "      <td>0</td>\n",
       "      <td>7</td>\n",
       "      <td>7</td>\n",
       "      <td>0 to 3</td>\n",
       "      <td>0.0</td>\n",
       "      <td>0.0</td>\n",
       "      <td>0.0</td>\n",
       "      <td>0.0</td>\n",
       "      <td>0.0</td>\n",
       "      <td>0.0</td>\n",
       "      <td>0.0</td>\n",
       "      <td>0.0</td>\n",
       "      <td>0.0</td>\n",
       "      <td>0.0</td>\n",
       "      <td>0.0</td>\n",
       "      <td>0.0</td>\n",
       "      <td>0.0</td>\n",
       "      <td>0.0</td>\n",
       "      <td>0.0</td>\n",
       "      <td>0.0</td>\n",
       "      <td>0.0</td>\n",
       "      <td>0.0</td>\n",
       "      <td>0.0</td>\n",
       "      <td>0.0</td>\n",
       "      <td>0.0</td>\n",
       "      <td>3</td>\n",
       "      <td>3</td>\n",
       "    </tr>\n",
       "    <tr>\n",
       "      <th>553954</th>\n",
       "      <td>2019090500</td>\n",
       "      <td>20190905000050</td>\n",
       "      <td>away</td>\n",
       "      <td>33.13</td>\n",
       "      <td>30.92</td>\n",
       "      <td>3.59</td>\n",
       "      <td>2.06</td>\n",
       "      <td>0.36</td>\n",
       "      <td>20.13</td>\n",
       "      <td>102.04</td>\n",
       "      <td>2495888</td>\n",
       "      <td>Marcedes Lewis</td>\n",
       "      <td>89</td>\n",
       "      <td>2019</td>\n",
       "      <td>25</td>\n",
       "      <td>1</td>\n",
       "      <td>900.0</td>\n",
       "      <td>CHI</td>\n",
       "      <td>1</td>\n",
       "      <td>10</td>\n",
       "      <td>GB</td>\n",
       "      <td>0</td>\n",
       "      <td>0</td>\n",
       "      <td>2558116</td>\n",
       "      <td>I_FORM</td>\n",
       "      <td>2 RB, 1 TE, 2 WR</td>\n",
       "      <td>7.0</td>\n",
       "      <td>3 DL, 4 LB, 4 DB</td>\n",
       "      <td>right</td>\n",
       "      <td>2019-09-06 00:23:35+00:00</td>\n",
       "      <td>2019-09-06 00:23:34+00:00</td>\n",
       "      <td>0</td>\n",
       "      <td>78</td>\n",
       "      <td>267</td>\n",
       "      <td>1984-05-19</td>\n",
       "      <td>UCLA</td>\n",
       "      <td>TE</td>\n",
       "      <td>CHI</td>\n",
       "      <td>GB</td>\n",
       "      <td>1</td>\n",
       "      <td>...</td>\n",
       "      <td>41.971425</td>\n",
       "      <td>45.993459</td>\n",
       "      <td>50.519164</td>\n",
       "      <td>53.300000</td>\n",
       "      <td>53.30000</td>\n",
       "      <td>53.300000</td>\n",
       "      <td>53.300000</td>\n",
       "      <td>53.300000</td>\n",
       "      <td>53.300000</td>\n",
       "      <td>0</td>\n",
       "      <td>-0.429705</td>\n",
       "      <td>2.014685</td>\n",
       "      <td>0</td>\n",
       "      <td>0</td>\n",
       "      <td>7</td>\n",
       "      <td>7</td>\n",
       "      <td>0 to 3</td>\n",
       "      <td>0.0</td>\n",
       "      <td>0.0</td>\n",
       "      <td>0.0</td>\n",
       "      <td>0.0</td>\n",
       "      <td>0.0</td>\n",
       "      <td>0.0</td>\n",
       "      <td>0.0</td>\n",
       "      <td>0.0</td>\n",
       "      <td>0.0</td>\n",
       "      <td>0.0</td>\n",
       "      <td>0.0</td>\n",
       "      <td>0.0</td>\n",
       "      <td>0.0</td>\n",
       "      <td>0.0</td>\n",
       "      <td>0.0</td>\n",
       "      <td>0.0</td>\n",
       "      <td>0.0</td>\n",
       "      <td>0.0</td>\n",
       "      <td>0.0</td>\n",
       "      <td>0.0</td>\n",
       "      <td>0.0</td>\n",
       "      <td>3</td>\n",
       "      <td>3</td>\n",
       "    </tr>\n",
       "    <tr>\n",
       "      <th>553955</th>\n",
       "      <td>2019090500</td>\n",
       "      <td>20190905000050</td>\n",
       "      <td>away</td>\n",
       "      <td>30.68</td>\n",
       "      <td>24.69</td>\n",
       "      <td>3.84</td>\n",
       "      <td>2.41</td>\n",
       "      <td>0.38</td>\n",
       "      <td>271.54</td>\n",
       "      <td>177.64</td>\n",
       "      <td>2506363</td>\n",
       "      <td>Aaron Rodgers</td>\n",
       "      <td>12</td>\n",
       "      <td>2019</td>\n",
       "      <td>25</td>\n",
       "      <td>1</td>\n",
       "      <td>900.0</td>\n",
       "      <td>CHI</td>\n",
       "      <td>1</td>\n",
       "      <td>10</td>\n",
       "      <td>GB</td>\n",
       "      <td>0</td>\n",
       "      <td>0</td>\n",
       "      <td>2558116</td>\n",
       "      <td>I_FORM</td>\n",
       "      <td>2 RB, 1 TE, 2 WR</td>\n",
       "      <td>7.0</td>\n",
       "      <td>3 DL, 4 LB, 4 DB</td>\n",
       "      <td>right</td>\n",
       "      <td>2019-09-06 00:23:35+00:00</td>\n",
       "      <td>2019-09-06 00:23:34+00:00</td>\n",
       "      <td>0</td>\n",
       "      <td>74</td>\n",
       "      <td>225</td>\n",
       "      <td>1983-12-02</td>\n",
       "      <td>California</td>\n",
       "      <td>QB</td>\n",
       "      <td>CHI</td>\n",
       "      <td>GB</td>\n",
       "      <td>1</td>\n",
       "      <td>...</td>\n",
       "      <td>25.204727</td>\n",
       "      <td>25.395433</td>\n",
       "      <td>25.610949</td>\n",
       "      <td>25.851275</td>\n",
       "      <td>26.11641</td>\n",
       "      <td>26.406356</td>\n",
       "      <td>26.721111</td>\n",
       "      <td>27.060676</td>\n",
       "      <td>27.425051</td>\n",
       "      <td>0</td>\n",
       "      <td>-2.407956</td>\n",
       "      <td>0.099239</td>\n",
       "      <td>0</td>\n",
       "      <td>0</td>\n",
       "      <td>7</td>\n",
       "      <td>7</td>\n",
       "      <td>0 to 3</td>\n",
       "      <td>0.0</td>\n",
       "      <td>0.0</td>\n",
       "      <td>0.0</td>\n",
       "      <td>0.0</td>\n",
       "      <td>0.0</td>\n",
       "      <td>0.0</td>\n",
       "      <td>0.0</td>\n",
       "      <td>0.0</td>\n",
       "      <td>0.0</td>\n",
       "      <td>0.0</td>\n",
       "      <td>0.0</td>\n",
       "      <td>0.0</td>\n",
       "      <td>0.0</td>\n",
       "      <td>0.0</td>\n",
       "      <td>0.0</td>\n",
       "      <td>0.0</td>\n",
       "      <td>0.0</td>\n",
       "      <td>0.0</td>\n",
       "      <td>0.0</td>\n",
       "      <td>0.0</td>\n",
       "      <td>0.0</td>\n",
       "      <td>3</td>\n",
       "      <td>3</td>\n",
       "    </tr>\n",
       "    <tr>\n",
       "      <th>553956</th>\n",
       "      <td>2019090500</td>\n",
       "      <td>20190905000050</td>\n",
       "      <td>away</td>\n",
       "      <td>34.82</td>\n",
       "      <td>30.70</td>\n",
       "      <td>4.65</td>\n",
       "      <td>1.25</td>\n",
       "      <td>0.48</td>\n",
       "      <td>46.80</td>\n",
       "      <td>84.83</td>\n",
       "      <td>2540183</td>\n",
       "      <td>David Bakhtiari</td>\n",
       "      <td>69</td>\n",
       "      <td>2019</td>\n",
       "      <td>25</td>\n",
       "      <td>1</td>\n",
       "      <td>900.0</td>\n",
       "      <td>CHI</td>\n",
       "      <td>1</td>\n",
       "      <td>10</td>\n",
       "      <td>GB</td>\n",
       "      <td>0</td>\n",
       "      <td>0</td>\n",
       "      <td>2558116</td>\n",
       "      <td>I_FORM</td>\n",
       "      <td>2 RB, 1 TE, 2 WR</td>\n",
       "      <td>7.0</td>\n",
       "      <td>3 DL, 4 LB, 4 DB</td>\n",
       "      <td>right</td>\n",
       "      <td>2019-09-06 00:23:35+00:00</td>\n",
       "      <td>2019-09-06 00:23:34+00:00</td>\n",
       "      <td>0</td>\n",
       "      <td>76</td>\n",
       "      <td>310</td>\n",
       "      <td>1991-09-30</td>\n",
       "      <td>Colorado</td>\n",
       "      <td>T</td>\n",
       "      <td>CHI</td>\n",
       "      <td>GB</td>\n",
       "      <td>1</td>\n",
       "      <td>...</td>\n",
       "      <td>42.451994</td>\n",
       "      <td>46.168064</td>\n",
       "      <td>50.195363</td>\n",
       "      <td>53.300000</td>\n",
       "      <td>53.30000</td>\n",
       "      <td>53.300000</td>\n",
       "      <td>53.300000</td>\n",
       "      <td>53.300000</td>\n",
       "      <td>53.300000</td>\n",
       "      <td>0</td>\n",
       "      <td>0.112639</td>\n",
       "      <td>1.244915</td>\n",
       "      <td>0</td>\n",
       "      <td>0</td>\n",
       "      <td>7</td>\n",
       "      <td>7</td>\n",
       "      <td>0 to 3</td>\n",
       "      <td>0.0</td>\n",
       "      <td>0.0</td>\n",
       "      <td>0.0</td>\n",
       "      <td>0.0</td>\n",
       "      <td>0.0</td>\n",
       "      <td>0.0</td>\n",
       "      <td>0.0</td>\n",
       "      <td>0.0</td>\n",
       "      <td>0.0</td>\n",
       "      <td>0.0</td>\n",
       "      <td>0.0</td>\n",
       "      <td>0.0</td>\n",
       "      <td>0.0</td>\n",
       "      <td>0.0</td>\n",
       "      <td>0.0</td>\n",
       "      <td>0.0</td>\n",
       "      <td>0.0</td>\n",
       "      <td>0.0</td>\n",
       "      <td>0.0</td>\n",
       "      <td>0.0</td>\n",
       "      <td>0.0</td>\n",
       "      <td>3</td>\n",
       "      <td>3</td>\n",
       "    </tr>\n",
       "    <tr>\n",
       "      <th>553957</th>\n",
       "      <td>2019090500</td>\n",
       "      <td>20190905000050</td>\n",
       "      <td>away</td>\n",
       "      <td>34.22</td>\n",
       "      <td>29.19</td>\n",
       "      <td>4.80</td>\n",
       "      <td>0.87</td>\n",
       "      <td>0.49</td>\n",
       "      <td>57.18</td>\n",
       "      <td>81.39</td>\n",
       "      <td>2541898</td>\n",
       "      <td>Lane Taylor</td>\n",
       "      <td>65</td>\n",
       "      <td>2019</td>\n",
       "      <td>25</td>\n",
       "      <td>1</td>\n",
       "      <td>900.0</td>\n",
       "      <td>CHI</td>\n",
       "      <td>1</td>\n",
       "      <td>10</td>\n",
       "      <td>GB</td>\n",
       "      <td>0</td>\n",
       "      <td>0</td>\n",
       "      <td>2558116</td>\n",
       "      <td>I_FORM</td>\n",
       "      <td>2 RB, 1 TE, 2 WR</td>\n",
       "      <td>7.0</td>\n",
       "      <td>3 DL, 4 LB, 4 DB</td>\n",
       "      <td>right</td>\n",
       "      <td>2019-09-06 00:23:35+00:00</td>\n",
       "      <td>2019-09-06 00:23:34+00:00</td>\n",
       "      <td>0</td>\n",
       "      <td>75</td>\n",
       "      <td>324</td>\n",
       "      <td>1989-11-22</td>\n",
       "      <td>Oklahoma State</td>\n",
       "      <td>G</td>\n",
       "      <td>CHI</td>\n",
       "      <td>GB</td>\n",
       "      <td>1</td>\n",
       "      <td>...</td>\n",
       "      <td>40.402201</td>\n",
       "      <td>43.742874</td>\n",
       "      <td>47.298595</td>\n",
       "      <td>51.069365</td>\n",
       "      <td>53.30000</td>\n",
       "      <td>53.300000</td>\n",
       "      <td>53.300000</td>\n",
       "      <td>53.300000</td>\n",
       "      <td>53.300000</td>\n",
       "      <td>0</td>\n",
       "      <td>0.130246</td>\n",
       "      <td>0.860195</td>\n",
       "      <td>0</td>\n",
       "      <td>0</td>\n",
       "      <td>7</td>\n",
       "      <td>7</td>\n",
       "      <td>0 to 3</td>\n",
       "      <td>0.0</td>\n",
       "      <td>0.0</td>\n",
       "      <td>0.0</td>\n",
       "      <td>0.0</td>\n",
       "      <td>0.0</td>\n",
       "      <td>0.0</td>\n",
       "      <td>0.0</td>\n",
       "      <td>0.0</td>\n",
       "      <td>0.0</td>\n",
       "      <td>0.0</td>\n",
       "      <td>0.0</td>\n",
       "      <td>0.0</td>\n",
       "      <td>0.0</td>\n",
       "      <td>0.0</td>\n",
       "      <td>0.0</td>\n",
       "      <td>0.0</td>\n",
       "      <td>0.0</td>\n",
       "      <td>0.0</td>\n",
       "      <td>0.0</td>\n",
       "      <td>0.0</td>\n",
       "      <td>0.0</td>\n",
       "      <td>3</td>\n",
       "      <td>3</td>\n",
       "    </tr>\n",
       "  </tbody>\n",
       "</table>\n",
       "<p>5 rows × 132 columns</p>\n",
       "</div>"
      ],
      "text/plain": [
       "            gameid          playid  team  ...  td_19  yards_bin_int  pred\n",
       "553953  2019090500  20190905000050  away  ...    0.0              3     3\n",
       "553954  2019090500  20190905000050  away  ...    0.0              3     3\n",
       "553955  2019090500  20190905000050  away  ...    0.0              3     3\n",
       "553956  2019090500  20190905000050  away  ...    0.0              3     3\n",
       "553957  2019090500  20190905000050  away  ...    0.0              3     3\n",
       "\n",
       "[5 rows x 132 columns]"
      ]
     },
     "execution_count": 101,
     "metadata": {
      "tags": []
     },
     "output_type": "execute_result"
    }
   ],
   "source": [
    "correct.head()"
   ]
  },
  {
   "cell_type": "code",
   "execution_count": 113,
   "metadata": {
    "colab": {
     "base_uri": "https://localhost:8080/",
     "height": 281
    },
    "colab_type": "code",
    "executionInfo": {
     "elapsed": 1108,
     "status": "ok",
     "timestamp": 1591794303379,
     "user": {
      "displayName": "Jason Maloney",
      "photoUrl": "",
      "userId": "04327763752924398692"
     },
     "user_tz": 240
    },
    "id": "pj_ENcdtS-k9",
    "outputId": "e248d47a-1f46-4a03-e881-ed32d561a0f9"
   },
   "outputs": [
    {
     "data": {
      "image/png": "[encoded data removed]",
      "text/plain": [
       "<Figure size 432x288 with 1 Axes>"
      ]
     },
     "metadata": {
      "needs_background": "light",
      "tags": []
     },
     "output_type": "display_data"
    }
   ],
   "source": [
    "sns.kdeplot(correct['yardline'], shade = True)\n",
    "sns.kdeplot(data['yardline'], shade = True)\n",
    "plt.legend(labels = ['Correctly Predicted Plays', 'All Plays'])\n",
    "plt.title('Distribution of Line Of Scrimmage')\n",
    "plt.show()"
   ]
  },
  {
   "cell_type": "code",
   "execution_count": 116,
   "metadata": {
    "colab": {
     "base_uri": "https://localhost:8080/",
     "height": 1000
    },
    "colab_type": "code",
    "executionInfo": {
     "elapsed": 238582,
     "status": "error",
     "timestamp": 1591794775025,
     "user": {
      "displayName": "Jason Maloney",
      "photoUrl": "",
      "userId": "04327763752924398692"
     },
     "user_tz": 240
    },
    "id": "eJlsaDNKS-tQ",
    "outputId": "d7683971-6738-4d69-e0e4-c22b68beac51"
   },
   "outputs": [
    {
     "ename": "KeyboardInterrupt",
     "evalue": "ignored",
     "output_type": "error",
     "traceback": [
      "\u001b[0;31m---------------------------------------------------------------------------\u001b[0m",
      "\u001b[0;31mKeyboardInterrupt\u001b[0m                         Traceback (most recent call last)",
      "\u001b[0;32m<ipython-input-116-b7d2aef1169f>\u001b[0m in \u001b[0;36m<module>\u001b[0;34m()\u001b[0m\n\u001b[1;32m      6\u001b[0m              \u001b[0my\u001b[0m \u001b[0;34m=\u001b[0m \u001b[0;34m'visitorscorebeforeplay'\u001b[0m\u001b[0;34m,\u001b[0m\u001b[0;34m\u001b[0m\u001b[0;34m\u001b[0m\u001b[0m\n\u001b[1;32m      7\u001b[0m              \u001b[0mdata\u001b[0m \u001b[0;34m=\u001b[0m \u001b[0mdata\u001b[0m\u001b[0;34m,\u001b[0m\u001b[0;34m\u001b[0m\u001b[0;34m\u001b[0m\u001b[0m\n\u001b[0;32m----> 8\u001b[0;31m              kind = 'kde')\n\u001b[0m\u001b[1;32m      9\u001b[0m \u001b[0mplt\u001b[0m\u001b[0;34m.\u001b[0m\u001b[0mshow\u001b[0m\u001b[0;34m(\u001b[0m\u001b[0;34m)\u001b[0m\u001b[0;34m\u001b[0m\u001b[0;34m\u001b[0m\u001b[0m\n",
      "\u001b[0;32m/usr/local/lib/python3.6/dist-packages/seaborn/axisgrid.py\u001b[0m in \u001b[0;36mjointplot\u001b[0;34m(x, y, data, kind, stat_func, color, height, ratio, space, dropna, xlim, ylim, joint_kws, marginal_kws, annot_kws, **kwargs)\u001b[0m\n\u001b[1;32m   2311\u001b[0m         \u001b[0mjoint_kws\u001b[0m\u001b[0;34m.\u001b[0m\u001b[0msetdefault\u001b[0m\u001b[0;34m(\u001b[0m\u001b[0;34m\"shade\"\u001b[0m\u001b[0;34m,\u001b[0m \u001b[0;32mTrue\u001b[0m\u001b[0;34m)\u001b[0m\u001b[0;34m\u001b[0m\u001b[0;34m\u001b[0m\u001b[0m\n\u001b[1;32m   2312\u001b[0m         \u001b[0mjoint_kws\u001b[0m\u001b[0;34m.\u001b[0m\u001b[0msetdefault\u001b[0m\u001b[0;34m(\u001b[0m\u001b[0;34m\"cmap\"\u001b[0m\u001b[0;34m,\u001b[0m \u001b[0mcmap\u001b[0m\u001b[0;34m)\u001b[0m\u001b[0;34m\u001b[0m\u001b[0;34m\u001b[0m\u001b[0m\n\u001b[0;32m-> 2313\u001b[0;31m         \u001b[0mgrid\u001b[0m\u001b[0;34m.\u001b[0m\u001b[0mplot_joint\u001b[0m\u001b[0;34m(\u001b[0m\u001b[0mkdeplot\u001b[0m\u001b[0;34m,\u001b[0m \u001b[0;34m**\u001b[0m\u001b[0mjoint_kws\u001b[0m\u001b[0;34m)\u001b[0m\u001b[0;34m\u001b[0m\u001b[0;34m\u001b[0m\u001b[0m\n\u001b[0m\u001b[1;32m   2314\u001b[0m \u001b[0;34m\u001b[0m\u001b[0m\n\u001b[1;32m   2315\u001b[0m         \u001b[0mmarginal_kws\u001b[0m\u001b[0;34m.\u001b[0m\u001b[0msetdefault\u001b[0m\u001b[0;34m(\u001b[0m\u001b[0;34m\"shade\"\u001b[0m\u001b[0;34m,\u001b[0m \u001b[0;32mTrue\u001b[0m\u001b[0;34m)\u001b[0m\u001b[0;34m\u001b[0m\u001b[0;34m\u001b[0m\u001b[0m\n",
      "\u001b[0;32m/usr/local/lib/python3.6/dist-packages/seaborn/axisgrid.py\u001b[0m in \u001b[0;36mplot_joint\u001b[0;34m(self, func, **kwargs)\u001b[0m\n\u001b[1;32m   1775\u001b[0m         \"\"\"\n\u001b[1;32m   1776\u001b[0m         \u001b[0mplt\u001b[0m\u001b[0;34m.\u001b[0m\u001b[0msca\u001b[0m\u001b[0;34m(\u001b[0m\u001b[0mself\u001b[0m\u001b[0;34m.\u001b[0m\u001b[0max_joint\u001b[0m\u001b[0;34m)\u001b[0m\u001b[0;34m\u001b[0m\u001b[0;34m\u001b[0m\u001b[0m\n\u001b[0;32m-> 1777\u001b[0;31m         \u001b[0mfunc\u001b[0m\u001b[0;34m(\u001b[0m\u001b[0mself\u001b[0m\u001b[0;34m.\u001b[0m\u001b[0mx\u001b[0m\u001b[0;34m,\u001b[0m \u001b[0mself\u001b[0m\u001b[0;34m.\u001b[0m\u001b[0my\u001b[0m\u001b[0;34m,\u001b[0m \u001b[0;34m**\u001b[0m\u001b[0mkwargs\u001b[0m\u001b[0;34m)\u001b[0m\u001b[0;34m\u001b[0m\u001b[0;34m\u001b[0m\u001b[0m\n\u001b[0m\u001b[1;32m   1778\u001b[0m \u001b[0;34m\u001b[0m\u001b[0m\n\u001b[1;32m   1779\u001b[0m         \u001b[0;32mreturn\u001b[0m \u001b[0mself\u001b[0m\u001b[0;34m\u001b[0m\u001b[0;34m\u001b[0m\u001b[0m\n",
      "\u001b[0;32m/usr/local/lib/python3.6/dist-packages/seaborn/distributions.py\u001b[0m in \u001b[0;36mkdeplot\u001b[0;34m(data, data2, shade, vertical, kernel, bw, gridsize, cut, clip, legend, cumulative, shade_lowest, cbar, cbar_ax, cbar_kws, ax, **kwargs)\u001b[0m\n\u001b[1;32m    696\u001b[0m         ax = _bivariate_kdeplot(x, y, shade, shade_lowest,\n\u001b[1;32m    697\u001b[0m                                 \u001b[0mkernel\u001b[0m\u001b[0;34m,\u001b[0m \u001b[0mbw\u001b[0m\u001b[0;34m,\u001b[0m \u001b[0mgridsize\u001b[0m\u001b[0;34m,\u001b[0m \u001b[0mcut\u001b[0m\u001b[0;34m,\u001b[0m \u001b[0mclip\u001b[0m\u001b[0;34m,\u001b[0m \u001b[0mlegend\u001b[0m\u001b[0;34m,\u001b[0m\u001b[0;34m\u001b[0m\u001b[0;34m\u001b[0m\u001b[0m\n\u001b[0;32m--> 698\u001b[0;31m                                 cbar, cbar_ax, cbar_kws, ax, **kwargs)\n\u001b[0m\u001b[1;32m    699\u001b[0m     \u001b[0;32melse\u001b[0m\u001b[0;34m:\u001b[0m\u001b[0;34m\u001b[0m\u001b[0;34m\u001b[0m\u001b[0m\n\u001b[1;32m    700\u001b[0m         ax = _univariate_kdeplot(data, shade, vertical, kernel, bw,\n",
      "\u001b[0;32m/usr/local/lib/python3.6/dist-packages/seaborn/distributions.py\u001b[0m in \u001b[0;36m_bivariate_kdeplot\u001b[0;34m(x, y, filled, fill_lowest, kernel, bw, gridsize, cut, clip, axlabel, cbar, cbar_ax, cbar_kws, ax, **kwargs)\u001b[0m\n\u001b[1;32m    400\u001b[0m     \u001b[0;31m# Calculate the KDE\u001b[0m\u001b[0;34m\u001b[0m\u001b[0;34m\u001b[0m\u001b[0;34m\u001b[0m\u001b[0m\n\u001b[1;32m    401\u001b[0m     \u001b[0;32mif\u001b[0m \u001b[0m_has_statsmodels\u001b[0m\u001b[0;34m:\u001b[0m\u001b[0;34m\u001b[0m\u001b[0;34m\u001b[0m\u001b[0m\n\u001b[0;32m--> 402\u001b[0;31m         \u001b[0mxx\u001b[0m\u001b[0;34m,\u001b[0m \u001b[0myy\u001b[0m\u001b[0;34m,\u001b[0m \u001b[0mz\u001b[0m \u001b[0;34m=\u001b[0m \u001b[0m_statsmodels_bivariate_kde\u001b[0m\u001b[0;34m(\u001b[0m\u001b[0mx\u001b[0m\u001b[0;34m,\u001b[0m \u001b[0my\u001b[0m\u001b[0;34m,\u001b[0m \u001b[0mbw\u001b[0m\u001b[0;34m,\u001b[0m \u001b[0mgridsize\u001b[0m\u001b[0;34m,\u001b[0m \u001b[0mcut\u001b[0m\u001b[0;34m,\u001b[0m \u001b[0mclip\u001b[0m\u001b[0;34m)\u001b[0m\u001b[0;34m\u001b[0m\u001b[0;34m\u001b[0m\u001b[0m\n\u001b[0m\u001b[1;32m    403\u001b[0m     \u001b[0;32melse\u001b[0m\u001b[0;34m:\u001b[0m\u001b[0;34m\u001b[0m\u001b[0;34m\u001b[0m\u001b[0m\n\u001b[1;32m    404\u001b[0m         \u001b[0mxx\u001b[0m\u001b[0;34m,\u001b[0m \u001b[0myy\u001b[0m\u001b[0;34m,\u001b[0m \u001b[0mz\u001b[0m \u001b[0;34m=\u001b[0m \u001b[0m_scipy_bivariate_kde\u001b[0m\u001b[0;34m(\u001b[0m\u001b[0mx\u001b[0m\u001b[0;34m,\u001b[0m \u001b[0my\u001b[0m\u001b[0;34m,\u001b[0m \u001b[0mbw\u001b[0m\u001b[0;34m,\u001b[0m \u001b[0mgridsize\u001b[0m\u001b[0;34m,\u001b[0m \u001b[0mcut\u001b[0m\u001b[0;34m,\u001b[0m \u001b[0mclip\u001b[0m\u001b[0;34m)\u001b[0m\u001b[0;34m\u001b[0m\u001b[0;34m\u001b[0m\u001b[0m\n",
      "\u001b[0;32m/usr/local/lib/python3.6/dist-packages/seaborn/distributions.py\u001b[0m in \u001b[0;36m_statsmodels_bivariate_kde\u001b[0;34m(x, y, bw, gridsize, cut, clip)\u001b[0m\n\u001b[1;32m    476\u001b[0m     \u001b[0my_support\u001b[0m \u001b[0;34m=\u001b[0m \u001b[0m_kde_support\u001b[0m\u001b[0;34m(\u001b[0m\u001b[0my\u001b[0m\u001b[0;34m,\u001b[0m \u001b[0mkde\u001b[0m\u001b[0;34m.\u001b[0m\u001b[0mbw\u001b[0m\u001b[0;34m[\u001b[0m\u001b[0;36m1\u001b[0m\u001b[0;34m]\u001b[0m\u001b[0;34m,\u001b[0m \u001b[0mgridsize\u001b[0m\u001b[0;34m,\u001b[0m \u001b[0mcut\u001b[0m\u001b[0;34m,\u001b[0m \u001b[0mclip\u001b[0m\u001b[0;34m[\u001b[0m\u001b[0;36m1\u001b[0m\u001b[0;34m]\u001b[0m\u001b[0;34m)\u001b[0m\u001b[0;34m\u001b[0m\u001b[0;34m\u001b[0m\u001b[0m\n\u001b[1;32m    477\u001b[0m     \u001b[0mxx\u001b[0m\u001b[0;34m,\u001b[0m \u001b[0myy\u001b[0m \u001b[0;34m=\u001b[0m \u001b[0mnp\u001b[0m\u001b[0;34m.\u001b[0m\u001b[0mmeshgrid\u001b[0m\u001b[0;34m(\u001b[0m\u001b[0mx_support\u001b[0m\u001b[0;34m,\u001b[0m \u001b[0my_support\u001b[0m\u001b[0;34m)\u001b[0m\u001b[0;34m\u001b[0m\u001b[0;34m\u001b[0m\u001b[0m\n\u001b[0;32m--> 478\u001b[0;31m     \u001b[0mz\u001b[0m \u001b[0;34m=\u001b[0m \u001b[0mkde\u001b[0m\u001b[0;34m.\u001b[0m\u001b[0mpdf\u001b[0m\u001b[0;34m(\u001b[0m\u001b[0;34m[\u001b[0m\u001b[0mxx\u001b[0m\u001b[0;34m.\u001b[0m\u001b[0mravel\u001b[0m\u001b[0;34m(\u001b[0m\u001b[0;34m)\u001b[0m\u001b[0;34m,\u001b[0m \u001b[0myy\u001b[0m\u001b[0;34m.\u001b[0m\u001b[0mravel\u001b[0m\u001b[0;34m(\u001b[0m\u001b[0;34m)\u001b[0m\u001b[0;34m]\u001b[0m\u001b[0;34m)\u001b[0m\u001b[0;34m.\u001b[0m\u001b[0mreshape\u001b[0m\u001b[0;34m(\u001b[0m\u001b[0mxx\u001b[0m\u001b[0;34m.\u001b[0m\u001b[0mshape\u001b[0m\u001b[0;34m)\u001b[0m\u001b[0;34m\u001b[0m\u001b[0;34m\u001b[0m\u001b[0m\n\u001b[0m\u001b[1;32m    479\u001b[0m     \u001b[0;32mreturn\u001b[0m \u001b[0mxx\u001b[0m\u001b[0;34m,\u001b[0m \u001b[0myy\u001b[0m\u001b[0;34m,\u001b[0m \u001b[0mz\u001b[0m\u001b[0;34m\u001b[0m\u001b[0;34m\u001b[0m\u001b[0m\n\u001b[1;32m    480\u001b[0m \u001b[0;34m\u001b[0m\u001b[0m\n",
      "\u001b[0;32m/usr/local/lib/python3.6/dist-packages/statsmodels/nonparametric/kernel_density.py\u001b[0m in \u001b[0;36mpdf\u001b[0;34m(self, data_predict)\u001b[0m\n\u001b[1;32m    194\u001b[0m             pdf_est.append(gpke(self.bw, data=self.data,\n\u001b[1;32m    195\u001b[0m                                 \u001b[0mdata_predict\u001b[0m\u001b[0;34m=\u001b[0m\u001b[0mdata_predict\u001b[0m\u001b[0;34m[\u001b[0m\u001b[0mi\u001b[0m\u001b[0;34m,\u001b[0m \u001b[0;34m:\u001b[0m\u001b[0;34m]\u001b[0m\u001b[0;34m,\u001b[0m\u001b[0;34m\u001b[0m\u001b[0;34m\u001b[0m\u001b[0m\n\u001b[0;32m--> 196\u001b[0;31m                                 var_type=self.var_type) / self.nobs)\n\u001b[0m\u001b[1;32m    197\u001b[0m \u001b[0;34m\u001b[0m\u001b[0m\n\u001b[1;32m    198\u001b[0m         \u001b[0mpdf_est\u001b[0m \u001b[0;34m=\u001b[0m \u001b[0mnp\u001b[0m\u001b[0;34m.\u001b[0m\u001b[0msqueeze\u001b[0m\u001b[0;34m(\u001b[0m\u001b[0mpdf_est\u001b[0m\u001b[0;34m)\u001b[0m\u001b[0;34m\u001b[0m\u001b[0;34m\u001b[0m\u001b[0m\n",
      "\u001b[0;32m/usr/local/lib/python3.6/dist-packages/statsmodels/nonparametric/_kernel_base.py\u001b[0m in \u001b[0;36mgpke\u001b[0;34m(bw, data, data_predict, var_type, ckertype, okertype, ukertype, tosum)\u001b[0m\n\u001b[1;32m    511\u001b[0m     \u001b[0;32mfor\u001b[0m \u001b[0mii\u001b[0m\u001b[0;34m,\u001b[0m \u001b[0mvtype\u001b[0m \u001b[0;32min\u001b[0m \u001b[0menumerate\u001b[0m\u001b[0;34m(\u001b[0m\u001b[0mvar_type\u001b[0m\u001b[0;34m)\u001b[0m\u001b[0;34m:\u001b[0m\u001b[0;34m\u001b[0m\u001b[0;34m\u001b[0m\u001b[0m\n\u001b[1;32m    512\u001b[0m         \u001b[0mfunc\u001b[0m \u001b[0;34m=\u001b[0m \u001b[0mkernel_func\u001b[0m\u001b[0;34m[\u001b[0m\u001b[0mkertypes\u001b[0m\u001b[0;34m[\u001b[0m\u001b[0mvtype\u001b[0m\u001b[0;34m]\u001b[0m\u001b[0;34m]\u001b[0m\u001b[0;34m\u001b[0m\u001b[0;34m\u001b[0m\u001b[0m\n\u001b[0;32m--> 513\u001b[0;31m         \u001b[0mKval\u001b[0m\u001b[0;34m[\u001b[0m\u001b[0;34m:\u001b[0m\u001b[0;34m,\u001b[0m \u001b[0mii\u001b[0m\u001b[0;34m]\u001b[0m \u001b[0;34m=\u001b[0m \u001b[0mfunc\u001b[0m\u001b[0;34m(\u001b[0m\u001b[0mbw\u001b[0m\u001b[0;34m[\u001b[0m\u001b[0mii\u001b[0m\u001b[0;34m]\u001b[0m\u001b[0;34m,\u001b[0m \u001b[0mdata\u001b[0m\u001b[0;34m[\u001b[0m\u001b[0;34m:\u001b[0m\u001b[0;34m,\u001b[0m \u001b[0mii\u001b[0m\u001b[0;34m]\u001b[0m\u001b[0;34m,\u001b[0m \u001b[0mdata_predict\u001b[0m\u001b[0;34m[\u001b[0m\u001b[0mii\u001b[0m\u001b[0;34m]\u001b[0m\u001b[0;34m)\u001b[0m\u001b[0;34m\u001b[0m\u001b[0;34m\u001b[0m\u001b[0m\n\u001b[0m\u001b[1;32m    514\u001b[0m \u001b[0;34m\u001b[0m\u001b[0m\n\u001b[1;32m    515\u001b[0m     \u001b[0miscontinuous\u001b[0m \u001b[0;34m=\u001b[0m \u001b[0mnp\u001b[0m\u001b[0;34m.\u001b[0m\u001b[0marray\u001b[0m\u001b[0;34m(\u001b[0m\u001b[0;34m[\u001b[0m\u001b[0mc\u001b[0m \u001b[0;34m==\u001b[0m \u001b[0;34m'c'\u001b[0m \u001b[0;32mfor\u001b[0m \u001b[0mc\u001b[0m \u001b[0;32min\u001b[0m \u001b[0mvar_type\u001b[0m\u001b[0;34m]\u001b[0m\u001b[0;34m)\u001b[0m\u001b[0;34m\u001b[0m\u001b[0;34m\u001b[0m\u001b[0m\n",
      "\u001b[0;32m/usr/local/lib/python3.6/dist-packages/statsmodels/nonparametric/kernels.py\u001b[0m in \u001b[0;36mgaussian\u001b[0;34m(h, Xi, x)\u001b[0m\n\u001b[1;32m    126\u001b[0m \u001b[0;34m\u001b[0m\u001b[0m\n\u001b[1;32m    127\u001b[0m     \"\"\"\n\u001b[0;32m--> 128\u001b[0;31m     \u001b[0;32mreturn\u001b[0m \u001b[0;34m(\u001b[0m\u001b[0;36m1.\u001b[0m \u001b[0;34m/\u001b[0m \u001b[0mnp\u001b[0m\u001b[0;34m.\u001b[0m\u001b[0msqrt\u001b[0m\u001b[0;34m(\u001b[0m\u001b[0;36m2\u001b[0m \u001b[0;34m*\u001b[0m \u001b[0mnp\u001b[0m\u001b[0;34m.\u001b[0m\u001b[0mpi\u001b[0m\u001b[0;34m)\u001b[0m\u001b[0;34m)\u001b[0m \u001b[0;34m*\u001b[0m \u001b[0mnp\u001b[0m\u001b[0;34m.\u001b[0m\u001b[0mexp\u001b[0m\u001b[0;34m(\u001b[0m\u001b[0;34m-\u001b[0m\u001b[0;34m(\u001b[0m\u001b[0mXi\u001b[0m \u001b[0;34m-\u001b[0m \u001b[0mx\u001b[0m\u001b[0;34m)\u001b[0m\u001b[0;34m**\u001b[0m\u001b[0;36m2\u001b[0m \u001b[0;34m/\u001b[0m \u001b[0;34m(\u001b[0m\u001b[0mh\u001b[0m\u001b[0;34m**\u001b[0m\u001b[0;36m2\u001b[0m \u001b[0;34m*\u001b[0m \u001b[0;36m2.\u001b[0m\u001b[0;34m)\u001b[0m\u001b[0;34m)\u001b[0m\u001b[0;34m\u001b[0m\u001b[0;34m\u001b[0m\u001b[0m\n\u001b[0m\u001b[1;32m    129\u001b[0m \u001b[0;34m\u001b[0m\u001b[0m\n\u001b[1;32m    130\u001b[0m \u001b[0;34m\u001b[0m\u001b[0m\n",
      "\u001b[0;31mKeyboardInterrupt\u001b[0m: "
     ]
    },
    {
     "data": {
      "image/png": "[encoded data removed]",
      "text/plain": [
       "<Figure size 432x432 with 3 Axes>"
      ]
     },
     "metadata": {
      "needs_background": "light",
      "tags": []
     },
     "output_type": "display_data"
    },
    {
     "data": {
      "image/png": "[encoded data removed]",
      "text/plain": [
       "<Figure size 432x432 with 3 Axes>"
      ]
     },
     "metadata": {
      "needs_background": "light",
      "tags": []
     },
     "output_type": "display_data"
    }
   ],
   "source": [
    "sns.jointplot(x = 'homescorebeforeplay',\n",
    "             y = 'visitorscorebeforeplay',\n",
    "             data = correct,\n",
    "             kind = 'kde')\n",
    "sns.jointplot(x = 'homescorebeforeplay',\n",
    "             y = 'visitorscorebeforeplay',\n",
    "             data = data,\n",
    "             kind = 'kde')\n",
    "plt.show()"
   ]
  },
  {
   "cell_type": "code",
   "execution_count": 119,
   "metadata": {
    "colab": {
     "base_uri": "https://localhost:8080/",
     "height": 266
    },
    "colab_type": "code",
    "executionInfo": {
     "elapsed": 637,
     "status": "ok",
     "timestamp": 1591794828546,
     "user": {
      "displayName": "Jason Maloney",
      "photoUrl": "",
      "userId": "04327763752924398692"
     },
     "user_tz": 240
    },
    "id": "l7KV2PHZS-rI",
    "outputId": "971a0153-1e55-4503-bb29-75fb3d802505"
   },
   "outputs": [
    {
     "data": {
      "text/html": [
       "<div>\n",
       "<style scoped>\n",
       "    .dataframe tbody tr th:only-of-type {\n",
       "        vertical-align: middle;\n",
       "    }\n",
       "\n",
       "    .dataframe tbody tr th {\n",
       "        vertical-align: top;\n",
       "    }\n",
       "\n",
       "    .dataframe thead th {\n",
       "        text-align: right;\n",
       "    }\n",
       "</style>\n",
       "<table border=\"1\" class=\"dataframe\">\n",
       "  <thead>\n",
       "    <tr style=\"text-align: right;\">\n",
       "      <th></th>\n",
       "      <th>position</th>\n",
       "      <th>pct</th>\n",
       "    </tr>\n",
       "  </thead>\n",
       "  <tbody>\n",
       "    <tr>\n",
       "      <th>RB</th>\n",
       "      <td>7993</td>\n",
       "      <td>94.88</td>\n",
       "    </tr>\n",
       "    <tr>\n",
       "      <th>HB</th>\n",
       "      <td>355</td>\n",
       "      <td>4.21</td>\n",
       "    </tr>\n",
       "    <tr>\n",
       "      <th>WR</th>\n",
       "      <td>44</td>\n",
       "      <td>0.52</td>\n",
       "    </tr>\n",
       "    <tr>\n",
       "      <th>FB</th>\n",
       "      <td>15</td>\n",
       "      <td>0.18</td>\n",
       "    </tr>\n",
       "    <tr>\n",
       "      <th>QB</th>\n",
       "      <td>11</td>\n",
       "      <td>0.13</td>\n",
       "    </tr>\n",
       "    <tr>\n",
       "      <th>TE</th>\n",
       "      <td>5</td>\n",
       "      <td>0.06</td>\n",
       "    </tr>\n",
       "    <tr>\n",
       "      <th>G</th>\n",
       "      <td>1</td>\n",
       "      <td>0.01</td>\n",
       "    </tr>\n",
       "  </tbody>\n",
       "</table>\n",
       "</div>"
      ],
      "text/plain": [
       "    position    pct\n",
       "RB      7993  94.88\n",
       "HB       355   4.21\n",
       "WR        44   0.52\n",
       "FB        15   0.18\n",
       "QB        11   0.13\n",
       "TE         5   0.06\n",
       "G          1   0.01"
      ]
     },
     "execution_count": 119,
     "metadata": {
      "tags": []
     },
     "output_type": "execute_result"
    }
   ],
   "source": [
    "cor_rush = correct.loc[correct['rusher'] == 1]\n",
    "pos = cor_rush['position']\n",
    "p = pd.DataFrame(pos.value_counts())\n",
    "p['pct'] = round(p/p.sum()*100,2)\n",
    "p"
   ]
  },
  {
   "cell_type": "code",
   "execution_count": 120,
   "metadata": {
    "colab": {
     "base_uri": "https://localhost:8080/",
     "height": 359
    },
    "colab_type": "code",
    "executionInfo": {
     "elapsed": 611,
     "status": "ok",
     "timestamp": 1591794894338,
     "user": {
      "displayName": "Jason Maloney",
      "photoUrl": "",
      "userId": "04327763752924398692"
     },
     "user_tz": 240
    },
    "id": "j1X4G70hS-o1",
    "outputId": "234c9a80-512c-4397-db3e-bd63c4016a26"
   },
   "outputs": [
    {
     "data": {
      "text/html": [
       "<div>\n",
       "<style scoped>\n",
       "    .dataframe tbody tr th:only-of-type {\n",
       "        vertical-align: middle;\n",
       "    }\n",
       "\n",
       "    .dataframe tbody tr th {\n",
       "        vertical-align: top;\n",
       "    }\n",
       "\n",
       "    .dataframe thead th {\n",
       "        text-align: right;\n",
       "    }\n",
       "</style>\n",
       "<table border=\"1\" class=\"dataframe\">\n",
       "  <thead>\n",
       "    <tr style=\"text-align: right;\">\n",
       "      <th></th>\n",
       "      <th>position</th>\n",
       "      <th>pct</th>\n",
       "    </tr>\n",
       "  </thead>\n",
       "  <tbody>\n",
       "    <tr>\n",
       "      <th>RB</th>\n",
       "      <td>80137</td>\n",
       "      <td>95.19</td>\n",
       "    </tr>\n",
       "    <tr>\n",
       "      <th>HB</th>\n",
       "      <td>2848</td>\n",
       "      <td>3.38</td>\n",
       "    </tr>\n",
       "    <tr>\n",
       "      <th>WR</th>\n",
       "      <td>828</td>\n",
       "      <td>0.98</td>\n",
       "    </tr>\n",
       "    <tr>\n",
       "      <th>FB</th>\n",
       "      <td>209</td>\n",
       "      <td>0.25</td>\n",
       "    </tr>\n",
       "    <tr>\n",
       "      <th>QB</th>\n",
       "      <td>99</td>\n",
       "      <td>0.12</td>\n",
       "    </tr>\n",
       "    <tr>\n",
       "      <th>TE</th>\n",
       "      <td>48</td>\n",
       "      <td>0.06</td>\n",
       "    </tr>\n",
       "    <tr>\n",
       "      <th>CB</th>\n",
       "      <td>10</td>\n",
       "      <td>0.01</td>\n",
       "    </tr>\n",
       "    <tr>\n",
       "      <th>DT</th>\n",
       "      <td>2</td>\n",
       "      <td>0.00</td>\n",
       "    </tr>\n",
       "    <tr>\n",
       "      <th>G</th>\n",
       "      <td>1</td>\n",
       "      <td>0.00</td>\n",
       "    </tr>\n",
       "    <tr>\n",
       "      <th>DE</th>\n",
       "      <td>1</td>\n",
       "      <td>0.00</td>\n",
       "    </tr>\n",
       "  </tbody>\n",
       "</table>\n",
       "</div>"
      ],
      "text/plain": [
       "    position    pct\n",
       "RB     80137  95.19\n",
       "HB      2848   3.38\n",
       "WR       828   0.98\n",
       "FB       209   0.25\n",
       "QB        99   0.12\n",
       "TE        48   0.06\n",
       "CB        10   0.01\n",
       "DT         2   0.00\n",
       "G          1   0.00\n",
       "DE         1   0.00"
      ]
     },
     "execution_count": 120,
     "metadata": {
      "tags": []
     },
     "output_type": "execute_result"
    }
   ],
   "source": [
    "rusher = data.loc[data['rusher'] == 1]\n",
    "all_pos = rusher['position']\n",
    "ap = pd.DataFrame(all_pos.value_counts())\n",
    "ap['pct'] = round(ap/ap.sum()*100,2)\n",
    "ap"
   ]
  },
  {
   "cell_type": "code",
   "execution_count": 123,
   "metadata": {
    "colab": {
     "base_uri": "https://localhost:8080/",
     "height": 338
    },
    "colab_type": "code",
    "executionInfo": {
     "elapsed": 558,
     "status": "ok",
     "timestamp": 1591795011482,
     "user": {
      "displayName": "Jason Maloney",
      "photoUrl": "",
      "userId": "04327763752924398692"
     },
     "user_tz": 240
    },
    "id": "ysXB4C68YDkY",
    "outputId": "41b16942-9b92-43a2-d4c4-5b0dcbde739c"
   },
   "outputs": [
    {
     "data": {
      "text/html": [
       "<div>\n",
       "<style scoped>\n",
       "    .dataframe tbody tr th:only-of-type {\n",
       "        vertical-align: middle;\n",
       "    }\n",
       "\n",
       "    .dataframe tbody tr th {\n",
       "        vertical-align: top;\n",
       "    }\n",
       "\n",
       "    .dataframe thead th {\n",
       "        text-align: right;\n",
       "    }\n",
       "</style>\n",
       "<table border=\"1\" class=\"dataframe\">\n",
       "  <thead>\n",
       "    <tr style=\"text-align: right;\">\n",
       "      <th></th>\n",
       "      <th>gameid</th>\n",
       "      <th>playid</th>\n",
       "      <th>team</th>\n",
       "      <th>x</th>\n",
       "      <th>y</th>\n",
       "      <th>s</th>\n",
       "      <th>a</th>\n",
       "      <th>dis</th>\n",
       "      <th>orientation</th>\n",
       "      <th>dir</th>\n",
       "      <th>nflid</th>\n",
       "      <th>displayname</th>\n",
       "      <th>jerseynumber</th>\n",
       "      <th>season</th>\n",
       "      <th>yardline</th>\n",
       "      <th>quarter</th>\n",
       "      <th>gameclock</th>\n",
       "      <th>possessionteam</th>\n",
       "      <th>down</th>\n",
       "      <th>distance</th>\n",
       "      <th>fieldposition</th>\n",
       "      <th>homescorebeforeplay</th>\n",
       "      <th>visitorscorebeforeplay</th>\n",
       "      <th>nflidrusher</th>\n",
       "      <th>offenseformation</th>\n",
       "      <th>offensepersonnel</th>\n",
       "      <th>defendersinthebox</th>\n",
       "      <th>defensepersonnel</th>\n",
       "      <th>playdirection</th>\n",
       "      <th>timehandoff</th>\n",
       "      <th>timesnap</th>\n",
       "      <th>yards</th>\n",
       "      <th>playerheight</th>\n",
       "      <th>playerweight</th>\n",
       "      <th>playerbirthdate</th>\n",
       "      <th>playercollegename</th>\n",
       "      <th>position</th>\n",
       "      <th>hometeamabbr</th>\n",
       "      <th>visitorteamabbr</th>\n",
       "      <th>week</th>\n",
       "      <th>...</th>\n",
       "      <th>2_sec_y</th>\n",
       "      <th>2_5_sec_y</th>\n",
       "      <th>3_sec_y</th>\n",
       "      <th>3_5_sec_y</th>\n",
       "      <th>4_sec_y</th>\n",
       "      <th>4_5_sec_y</th>\n",
       "      <th>5_sec_y</th>\n",
       "      <th>5_5_sec_y</th>\n",
       "      <th>6_sec_y</th>\n",
       "      <th>offense</th>\n",
       "      <th>eff_downfield_acc</th>\n",
       "      <th>eff_crossfield_acc</th>\n",
       "      <th>rushteamwinning</th>\n",
       "      <th>playerblocked</th>\n",
       "      <th>total_playersblocked</th>\n",
       "      <th>total_playersblocked_revised</th>\n",
       "      <th>yards_binned</th>\n",
       "      <th>eff_17</th>\n",
       "      <th>8+d%_17</th>\n",
       "      <th>tlos_17</th>\n",
       "      <th>att_17</th>\n",
       "      <th>yds_17</th>\n",
       "      <th>avg_17</th>\n",
       "      <th>td_17</th>\n",
       "      <th>eff_18</th>\n",
       "      <th>8+d%_18</th>\n",
       "      <th>tlos_18</th>\n",
       "      <th>att_18</th>\n",
       "      <th>yds_18</th>\n",
       "      <th>avg_18</th>\n",
       "      <th>td_18</th>\n",
       "      <th>eff_19</th>\n",
       "      <th>8+d%_19</th>\n",
       "      <th>tlos_19</th>\n",
       "      <th>att_19</th>\n",
       "      <th>yds_19</th>\n",
       "      <th>avg_19</th>\n",
       "      <th>td_19</th>\n",
       "      <th>yards_bin_int</th>\n",
       "      <th>pred</th>\n",
       "    </tr>\n",
       "  </thead>\n",
       "  <tbody>\n",
       "    <tr>\n",
       "      <th>553953</th>\n",
       "      <td>2019090500</td>\n",
       "      <td>20190905000050</td>\n",
       "      <td>away</td>\n",
       "      <td>34.32</td>\n",
       "      <td>24.27</td>\n",
       "      <td>5.09</td>\n",
       "      <td>1.95</td>\n",
       "      <td>0.50</td>\n",
       "      <td>52.07</td>\n",
       "      <td>70.69</td>\n",
       "      <td>496988</td>\n",
       "      <td>Bryan Bulaga</td>\n",
       "      <td>75</td>\n",
       "      <td>2019</td>\n",
       "      <td>25</td>\n",
       "      <td>1</td>\n",
       "      <td>900.0</td>\n",
       "      <td>CHI</td>\n",
       "      <td>1</td>\n",
       "      <td>10</td>\n",
       "      <td>GB</td>\n",
       "      <td>0</td>\n",
       "      <td>0</td>\n",
       "      <td>2558116</td>\n",
       "      <td>I_FORM</td>\n",
       "      <td>2 RB, 1 TE, 2 WR</td>\n",
       "      <td>7.0</td>\n",
       "      <td>3 DL, 4 LB, 4 DB</td>\n",
       "      <td>right</td>\n",
       "      <td>2019-09-06 00:23:35+00:00</td>\n",
       "      <td>2019-09-06 00:23:34+00:00</td>\n",
       "      <td>0</td>\n",
       "      <td>77</td>\n",
       "      <td>314</td>\n",
       "      <td>1989-03-21</td>\n",
       "      <td>Iowa</td>\n",
       "      <td>OT</td>\n",
       "      <td>CHI</td>\n",
       "      <td>GB</td>\n",
       "      <td>1</td>\n",
       "      <td>...</td>\n",
       "      <td>37.557905</td>\n",
       "      <td>42.030068</td>\n",
       "      <td>46.962306</td>\n",
       "      <td>52.354619</td>\n",
       "      <td>53.30000</td>\n",
       "      <td>53.300000</td>\n",
       "      <td>53.300000</td>\n",
       "      <td>53.300000</td>\n",
       "      <td>53.300000</td>\n",
       "      <td>0</td>\n",
       "      <td>0.644824</td>\n",
       "      <td>1.840299</td>\n",
       "      <td>0</td>\n",
       "      <td>0</td>\n",
       "      <td>7</td>\n",
       "      <td>7</td>\n",
       "      <td>0 to 3</td>\n",
       "      <td>0.0</td>\n",
       "      <td>0.0</td>\n",
       "      <td>0.0</td>\n",
       "      <td>0.0</td>\n",
       "      <td>0.0</td>\n",
       "      <td>0.0</td>\n",
       "      <td>0.0</td>\n",
       "      <td>0.0</td>\n",
       "      <td>0.0</td>\n",
       "      <td>0.0</td>\n",
       "      <td>0.0</td>\n",
       "      <td>0.0</td>\n",
       "      <td>0.0</td>\n",
       "      <td>0.0</td>\n",
       "      <td>0.0</td>\n",
       "      <td>0.0</td>\n",
       "      <td>0.0</td>\n",
       "      <td>0.0</td>\n",
       "      <td>0.0</td>\n",
       "      <td>0.0</td>\n",
       "      <td>0.0</td>\n",
       "      <td>3</td>\n",
       "      <td>3</td>\n",
       "    </tr>\n",
       "    <tr>\n",
       "      <th>553954</th>\n",
       "      <td>2019090500</td>\n",
       "      <td>20190905000050</td>\n",
       "      <td>away</td>\n",
       "      <td>33.13</td>\n",
       "      <td>30.92</td>\n",
       "      <td>3.59</td>\n",
       "      <td>2.06</td>\n",
       "      <td>0.36</td>\n",
       "      <td>20.13</td>\n",
       "      <td>102.04</td>\n",
       "      <td>2495888</td>\n",
       "      <td>Marcedes Lewis</td>\n",
       "      <td>89</td>\n",
       "      <td>2019</td>\n",
       "      <td>25</td>\n",
       "      <td>1</td>\n",
       "      <td>900.0</td>\n",
       "      <td>CHI</td>\n",
       "      <td>1</td>\n",
       "      <td>10</td>\n",
       "      <td>GB</td>\n",
       "      <td>0</td>\n",
       "      <td>0</td>\n",
       "      <td>2558116</td>\n",
       "      <td>I_FORM</td>\n",
       "      <td>2 RB, 1 TE, 2 WR</td>\n",
       "      <td>7.0</td>\n",
       "      <td>3 DL, 4 LB, 4 DB</td>\n",
       "      <td>right</td>\n",
       "      <td>2019-09-06 00:23:35+00:00</td>\n",
       "      <td>2019-09-06 00:23:34+00:00</td>\n",
       "      <td>0</td>\n",
       "      <td>78</td>\n",
       "      <td>267</td>\n",
       "      <td>1984-05-19</td>\n",
       "      <td>UCLA</td>\n",
       "      <td>TE</td>\n",
       "      <td>CHI</td>\n",
       "      <td>GB</td>\n",
       "      <td>1</td>\n",
       "      <td>...</td>\n",
       "      <td>41.971425</td>\n",
       "      <td>45.993459</td>\n",
       "      <td>50.519164</td>\n",
       "      <td>53.300000</td>\n",
       "      <td>53.30000</td>\n",
       "      <td>53.300000</td>\n",
       "      <td>53.300000</td>\n",
       "      <td>53.300000</td>\n",
       "      <td>53.300000</td>\n",
       "      <td>0</td>\n",
       "      <td>-0.429705</td>\n",
       "      <td>2.014685</td>\n",
       "      <td>0</td>\n",
       "      <td>0</td>\n",
       "      <td>7</td>\n",
       "      <td>7</td>\n",
       "      <td>0 to 3</td>\n",
       "      <td>0.0</td>\n",
       "      <td>0.0</td>\n",
       "      <td>0.0</td>\n",
       "      <td>0.0</td>\n",
       "      <td>0.0</td>\n",
       "      <td>0.0</td>\n",
       "      <td>0.0</td>\n",
       "      <td>0.0</td>\n",
       "      <td>0.0</td>\n",
       "      <td>0.0</td>\n",
       "      <td>0.0</td>\n",
       "      <td>0.0</td>\n",
       "      <td>0.0</td>\n",
       "      <td>0.0</td>\n",
       "      <td>0.0</td>\n",
       "      <td>0.0</td>\n",
       "      <td>0.0</td>\n",
       "      <td>0.0</td>\n",
       "      <td>0.0</td>\n",
       "      <td>0.0</td>\n",
       "      <td>0.0</td>\n",
       "      <td>3</td>\n",
       "      <td>3</td>\n",
       "    </tr>\n",
       "    <tr>\n",
       "      <th>553955</th>\n",
       "      <td>2019090500</td>\n",
       "      <td>20190905000050</td>\n",
       "      <td>away</td>\n",
       "      <td>30.68</td>\n",
       "      <td>24.69</td>\n",
       "      <td>3.84</td>\n",
       "      <td>2.41</td>\n",
       "      <td>0.38</td>\n",
       "      <td>271.54</td>\n",
       "      <td>177.64</td>\n",
       "      <td>2506363</td>\n",
       "      <td>Aaron Rodgers</td>\n",
       "      <td>12</td>\n",
       "      <td>2019</td>\n",
       "      <td>25</td>\n",
       "      <td>1</td>\n",
       "      <td>900.0</td>\n",
       "      <td>CHI</td>\n",
       "      <td>1</td>\n",
       "      <td>10</td>\n",
       "      <td>GB</td>\n",
       "      <td>0</td>\n",
       "      <td>0</td>\n",
       "      <td>2558116</td>\n",
       "      <td>I_FORM</td>\n",
       "      <td>2 RB, 1 TE, 2 WR</td>\n",
       "      <td>7.0</td>\n",
       "      <td>3 DL, 4 LB, 4 DB</td>\n",
       "      <td>right</td>\n",
       "      <td>2019-09-06 00:23:35+00:00</td>\n",
       "      <td>2019-09-06 00:23:34+00:00</td>\n",
       "      <td>0</td>\n",
       "      <td>74</td>\n",
       "      <td>225</td>\n",
       "      <td>1983-12-02</td>\n",
       "      <td>California</td>\n",
       "      <td>QB</td>\n",
       "      <td>CHI</td>\n",
       "      <td>GB</td>\n",
       "      <td>1</td>\n",
       "      <td>...</td>\n",
       "      <td>25.204727</td>\n",
       "      <td>25.395433</td>\n",
       "      <td>25.610949</td>\n",
       "      <td>25.851275</td>\n",
       "      <td>26.11641</td>\n",
       "      <td>26.406356</td>\n",
       "      <td>26.721111</td>\n",
       "      <td>27.060676</td>\n",
       "      <td>27.425051</td>\n",
       "      <td>0</td>\n",
       "      <td>-2.407956</td>\n",
       "      <td>0.099239</td>\n",
       "      <td>0</td>\n",
       "      <td>0</td>\n",
       "      <td>7</td>\n",
       "      <td>7</td>\n",
       "      <td>0 to 3</td>\n",
       "      <td>0.0</td>\n",
       "      <td>0.0</td>\n",
       "      <td>0.0</td>\n",
       "      <td>0.0</td>\n",
       "      <td>0.0</td>\n",
       "      <td>0.0</td>\n",
       "      <td>0.0</td>\n",
       "      <td>0.0</td>\n",
       "      <td>0.0</td>\n",
       "      <td>0.0</td>\n",
       "      <td>0.0</td>\n",
       "      <td>0.0</td>\n",
       "      <td>0.0</td>\n",
       "      <td>0.0</td>\n",
       "      <td>0.0</td>\n",
       "      <td>0.0</td>\n",
       "      <td>0.0</td>\n",
       "      <td>0.0</td>\n",
       "      <td>0.0</td>\n",
       "      <td>0.0</td>\n",
       "      <td>0.0</td>\n",
       "      <td>3</td>\n",
       "      <td>3</td>\n",
       "    </tr>\n",
       "    <tr>\n",
       "      <th>553956</th>\n",
       "      <td>2019090500</td>\n",
       "      <td>20190905000050</td>\n",
       "      <td>away</td>\n",
       "      <td>34.82</td>\n",
       "      <td>30.70</td>\n",
       "      <td>4.65</td>\n",
       "      <td>1.25</td>\n",
       "      <td>0.48</td>\n",
       "      <td>46.80</td>\n",
       "      <td>84.83</td>\n",
       "      <td>2540183</td>\n",
       "      <td>David Bakhtiari</td>\n",
       "      <td>69</td>\n",
       "      <td>2019</td>\n",
       "      <td>25</td>\n",
       "      <td>1</td>\n",
       "      <td>900.0</td>\n",
       "      <td>CHI</td>\n",
       "      <td>1</td>\n",
       "      <td>10</td>\n",
       "      <td>GB</td>\n",
       "      <td>0</td>\n",
       "      <td>0</td>\n",
       "      <td>2558116</td>\n",
       "      <td>I_FORM</td>\n",
       "      <td>2 RB, 1 TE, 2 WR</td>\n",
       "      <td>7.0</td>\n",
       "      <td>3 DL, 4 LB, 4 DB</td>\n",
       "      <td>right</td>\n",
       "      <td>2019-09-06 00:23:35+00:00</td>\n",
       "      <td>2019-09-06 00:23:34+00:00</td>\n",
       "      <td>0</td>\n",
       "      <td>76</td>\n",
       "      <td>310</td>\n",
       "      <td>1991-09-30</td>\n",
       "      <td>Colorado</td>\n",
       "      <td>T</td>\n",
       "      <td>CHI</td>\n",
       "      <td>GB</td>\n",
       "      <td>1</td>\n",
       "      <td>...</td>\n",
       "      <td>42.451994</td>\n",
       "      <td>46.168064</td>\n",
       "      <td>50.195363</td>\n",
       "      <td>53.300000</td>\n",
       "      <td>53.30000</td>\n",
       "      <td>53.300000</td>\n",
       "      <td>53.300000</td>\n",
       "      <td>53.300000</td>\n",
       "      <td>53.300000</td>\n",
       "      <td>0</td>\n",
       "      <td>0.112639</td>\n",
       "      <td>1.244915</td>\n",
       "      <td>0</td>\n",
       "      <td>0</td>\n",
       "      <td>7</td>\n",
       "      <td>7</td>\n",
       "      <td>0 to 3</td>\n",
       "      <td>0.0</td>\n",
       "      <td>0.0</td>\n",
       "      <td>0.0</td>\n",
       "      <td>0.0</td>\n",
       "      <td>0.0</td>\n",
       "      <td>0.0</td>\n",
       "      <td>0.0</td>\n",
       "      <td>0.0</td>\n",
       "      <td>0.0</td>\n",
       "      <td>0.0</td>\n",
       "      <td>0.0</td>\n",
       "      <td>0.0</td>\n",
       "      <td>0.0</td>\n",
       "      <td>0.0</td>\n",
       "      <td>0.0</td>\n",
       "      <td>0.0</td>\n",
       "      <td>0.0</td>\n",
       "      <td>0.0</td>\n",
       "      <td>0.0</td>\n",
       "      <td>0.0</td>\n",
       "      <td>0.0</td>\n",
       "      <td>3</td>\n",
       "      <td>3</td>\n",
       "    </tr>\n",
       "    <tr>\n",
       "      <th>553957</th>\n",
       "      <td>2019090500</td>\n",
       "      <td>20190905000050</td>\n",
       "      <td>away</td>\n",
       "      <td>34.22</td>\n",
       "      <td>29.19</td>\n",
       "      <td>4.80</td>\n",
       "      <td>0.87</td>\n",
       "      <td>0.49</td>\n",
       "      <td>57.18</td>\n",
       "      <td>81.39</td>\n",
       "      <td>2541898</td>\n",
       "      <td>Lane Taylor</td>\n",
       "      <td>65</td>\n",
       "      <td>2019</td>\n",
       "      <td>25</td>\n",
       "      <td>1</td>\n",
       "      <td>900.0</td>\n",
       "      <td>CHI</td>\n",
       "      <td>1</td>\n",
       "      <td>10</td>\n",
       "      <td>GB</td>\n",
       "      <td>0</td>\n",
       "      <td>0</td>\n",
       "      <td>2558116</td>\n",
       "      <td>I_FORM</td>\n",
       "      <td>2 RB, 1 TE, 2 WR</td>\n",
       "      <td>7.0</td>\n",
       "      <td>3 DL, 4 LB, 4 DB</td>\n",
       "      <td>right</td>\n",
       "      <td>2019-09-06 00:23:35+00:00</td>\n",
       "      <td>2019-09-06 00:23:34+00:00</td>\n",
       "      <td>0</td>\n",
       "      <td>75</td>\n",
       "      <td>324</td>\n",
       "      <td>1989-11-22</td>\n",
       "      <td>Oklahoma State</td>\n",
       "      <td>G</td>\n",
       "      <td>CHI</td>\n",
       "      <td>GB</td>\n",
       "      <td>1</td>\n",
       "      <td>...</td>\n",
       "      <td>40.402201</td>\n",
       "      <td>43.742874</td>\n",
       "      <td>47.298595</td>\n",
       "      <td>51.069365</td>\n",
       "      <td>53.30000</td>\n",
       "      <td>53.300000</td>\n",
       "      <td>53.300000</td>\n",
       "      <td>53.300000</td>\n",
       "      <td>53.300000</td>\n",
       "      <td>0</td>\n",
       "      <td>0.130246</td>\n",
       "      <td>0.860195</td>\n",
       "      <td>0</td>\n",
       "      <td>0</td>\n",
       "      <td>7</td>\n",
       "      <td>7</td>\n",
       "      <td>0 to 3</td>\n",
       "      <td>0.0</td>\n",
       "      <td>0.0</td>\n",
       "      <td>0.0</td>\n",
       "      <td>0.0</td>\n",
       "      <td>0.0</td>\n",
       "      <td>0.0</td>\n",
       "      <td>0.0</td>\n",
       "      <td>0.0</td>\n",
       "      <td>0.0</td>\n",
       "      <td>0.0</td>\n",
       "      <td>0.0</td>\n",
       "      <td>0.0</td>\n",
       "      <td>0.0</td>\n",
       "      <td>0.0</td>\n",
       "      <td>0.0</td>\n",
       "      <td>0.0</td>\n",
       "      <td>0.0</td>\n",
       "      <td>0.0</td>\n",
       "      <td>0.0</td>\n",
       "      <td>0.0</td>\n",
       "      <td>0.0</td>\n",
       "      <td>3</td>\n",
       "      <td>3</td>\n",
       "    </tr>\n",
       "  </tbody>\n",
       "</table>\n",
       "<p>5 rows × 132 columns</p>\n",
       "</div>"
      ],
      "text/plain": [
       "            gameid          playid  team  ...  td_19  yards_bin_int  pred\n",
       "553953  2019090500  20190905000050  away  ...    0.0              3     3\n",
       "553954  2019090500  20190905000050  away  ...    0.0              3     3\n",
       "553955  2019090500  20190905000050  away  ...    0.0              3     3\n",
       "553956  2019090500  20190905000050  away  ...    0.0              3     3\n",
       "553957  2019090500  20190905000050  away  ...    0.0              3     3\n",
       "\n",
       "[5 rows x 132 columns]"
      ]
     },
     "execution_count": 123,
     "metadata": {
      "tags": []
     },
     "output_type": "execute_result"
    }
   ],
   "source": [
    "correct.head()"
   ]
  },
  {
   "cell_type": "code",
   "execution_count": 124,
   "metadata": {
    "colab": {
     "base_uri": "https://localhost:8080/",
     "height": 338
    },
    "colab_type": "code",
    "executionInfo": {
     "elapsed": 636,
     "status": "ok",
     "timestamp": 1591795018457,
     "user": {
      "displayName": "Jason Maloney",
      "photoUrl": "",
      "userId": "04327763752924398692"
     },
     "user_tz": 240
    },
    "id": "V7g5aA4KS-iu",
    "outputId": "13212b91-a1c0-48c1-b4ab-0d8ade2821d3"
   },
   "outputs": [
    {
     "data": {
      "text/html": [
       "<div>\n",
       "<style scoped>\n",
       "    .dataframe tbody tr th:only-of-type {\n",
       "        vertical-align: middle;\n",
       "    }\n",
       "\n",
       "    .dataframe tbody tr th {\n",
       "        vertical-align: top;\n",
       "    }\n",
       "\n",
       "    .dataframe thead th {\n",
       "        text-align: right;\n",
       "    }\n",
       "</style>\n",
       "<table border=\"1\" class=\"dataframe\">\n",
       "  <thead>\n",
       "    <tr style=\"text-align: right;\">\n",
       "      <th></th>\n",
       "      <th>gameid</th>\n",
       "      <th>playid</th>\n",
       "      <th>team</th>\n",
       "      <th>x</th>\n",
       "      <th>y</th>\n",
       "      <th>s</th>\n",
       "      <th>a</th>\n",
       "      <th>dis</th>\n",
       "      <th>orientation</th>\n",
       "      <th>dir</th>\n",
       "      <th>nflid</th>\n",
       "      <th>displayname</th>\n",
       "      <th>jerseynumber</th>\n",
       "      <th>season</th>\n",
       "      <th>yardline</th>\n",
       "      <th>quarter</th>\n",
       "      <th>gameclock</th>\n",
       "      <th>possessionteam</th>\n",
       "      <th>down</th>\n",
       "      <th>distance</th>\n",
       "      <th>fieldposition</th>\n",
       "      <th>homescorebeforeplay</th>\n",
       "      <th>visitorscorebeforeplay</th>\n",
       "      <th>nflidrusher</th>\n",
       "      <th>offenseformation</th>\n",
       "      <th>offensepersonnel</th>\n",
       "      <th>defendersinthebox</th>\n",
       "      <th>defensepersonnel</th>\n",
       "      <th>playdirection</th>\n",
       "      <th>timehandoff</th>\n",
       "      <th>timesnap</th>\n",
       "      <th>yards</th>\n",
       "      <th>playerheight</th>\n",
       "      <th>playerweight</th>\n",
       "      <th>playerbirthdate</th>\n",
       "      <th>playercollegename</th>\n",
       "      <th>position</th>\n",
       "      <th>hometeamabbr</th>\n",
       "      <th>visitorteamabbr</th>\n",
       "      <th>week</th>\n",
       "      <th>...</th>\n",
       "      <th>2_sec_y</th>\n",
       "      <th>2_5_sec_y</th>\n",
       "      <th>3_sec_y</th>\n",
       "      <th>3_5_sec_y</th>\n",
       "      <th>4_sec_y</th>\n",
       "      <th>4_5_sec_y</th>\n",
       "      <th>5_sec_y</th>\n",
       "      <th>5_5_sec_y</th>\n",
       "      <th>6_sec_y</th>\n",
       "      <th>offense</th>\n",
       "      <th>eff_downfield_acc</th>\n",
       "      <th>eff_crossfield_acc</th>\n",
       "      <th>rushteamwinning</th>\n",
       "      <th>playerblocked</th>\n",
       "      <th>total_playersblocked</th>\n",
       "      <th>total_playersblocked_revised</th>\n",
       "      <th>yards_binned</th>\n",
       "      <th>eff_17</th>\n",
       "      <th>8+d%_17</th>\n",
       "      <th>tlos_17</th>\n",
       "      <th>att_17</th>\n",
       "      <th>yds_17</th>\n",
       "      <th>avg_17</th>\n",
       "      <th>td_17</th>\n",
       "      <th>eff_18</th>\n",
       "      <th>8+d%_18</th>\n",
       "      <th>tlos_18</th>\n",
       "      <th>att_18</th>\n",
       "      <th>yds_18</th>\n",
       "      <th>avg_18</th>\n",
       "      <th>td_18</th>\n",
       "      <th>eff_19</th>\n",
       "      <th>8+d%_19</th>\n",
       "      <th>tlos_19</th>\n",
       "      <th>att_19</th>\n",
       "      <th>yds_19</th>\n",
       "      <th>avg_19</th>\n",
       "      <th>td_19</th>\n",
       "      <th>yards_bin_int</th>\n",
       "      <th>pred</th>\n",
       "    </tr>\n",
       "  </thead>\n",
       "  <tbody>\n",
       "    <tr>\n",
       "      <th>553953</th>\n",
       "      <td>2019090500</td>\n",
       "      <td>20190905000050</td>\n",
       "      <td>away</td>\n",
       "      <td>34.32</td>\n",
       "      <td>24.27</td>\n",
       "      <td>5.09</td>\n",
       "      <td>1.95</td>\n",
       "      <td>0.50</td>\n",
       "      <td>52.07</td>\n",
       "      <td>70.69</td>\n",
       "      <td>496988</td>\n",
       "      <td>Bryan Bulaga</td>\n",
       "      <td>75</td>\n",
       "      <td>2019</td>\n",
       "      <td>25</td>\n",
       "      <td>1</td>\n",
       "      <td>900.0</td>\n",
       "      <td>CHI</td>\n",
       "      <td>1</td>\n",
       "      <td>10</td>\n",
       "      <td>GB</td>\n",
       "      <td>0</td>\n",
       "      <td>0</td>\n",
       "      <td>2558116</td>\n",
       "      <td>I_FORM</td>\n",
       "      <td>2 RB, 1 TE, 2 WR</td>\n",
       "      <td>7.0</td>\n",
       "      <td>3 DL, 4 LB, 4 DB</td>\n",
       "      <td>right</td>\n",
       "      <td>2019-09-06 00:23:35+00:00</td>\n",
       "      <td>2019-09-06 00:23:34+00:00</td>\n",
       "      <td>0</td>\n",
       "      <td>77</td>\n",
       "      <td>314</td>\n",
       "      <td>1989-03-21</td>\n",
       "      <td>Iowa</td>\n",
       "      <td>OT</td>\n",
       "      <td>CHI</td>\n",
       "      <td>GB</td>\n",
       "      <td>1</td>\n",
       "      <td>...</td>\n",
       "      <td>37.557905</td>\n",
       "      <td>42.030068</td>\n",
       "      <td>46.962306</td>\n",
       "      <td>52.354619</td>\n",
       "      <td>53.30000</td>\n",
       "      <td>53.300000</td>\n",
       "      <td>53.300000</td>\n",
       "      <td>53.300000</td>\n",
       "      <td>53.300000</td>\n",
       "      <td>0</td>\n",
       "      <td>0.644824</td>\n",
       "      <td>1.840299</td>\n",
       "      <td>0</td>\n",
       "      <td>0</td>\n",
       "      <td>7</td>\n",
       "      <td>7</td>\n",
       "      <td>0 to 3</td>\n",
       "      <td>0.0</td>\n",
       "      <td>0.0</td>\n",
       "      <td>0.0</td>\n",
       "      <td>0.0</td>\n",
       "      <td>0.0</td>\n",
       "      <td>0.0</td>\n",
       "      <td>0.0</td>\n",
       "      <td>0.0</td>\n",
       "      <td>0.0</td>\n",
       "      <td>0.0</td>\n",
       "      <td>0.0</td>\n",
       "      <td>0.0</td>\n",
       "      <td>0.0</td>\n",
       "      <td>0.0</td>\n",
       "      <td>0.0</td>\n",
       "      <td>0.0</td>\n",
       "      <td>0.0</td>\n",
       "      <td>0.0</td>\n",
       "      <td>0.0</td>\n",
       "      <td>0.0</td>\n",
       "      <td>0.0</td>\n",
       "      <td>3</td>\n",
       "      <td>3</td>\n",
       "    </tr>\n",
       "    <tr>\n",
       "      <th>553954</th>\n",
       "      <td>2019090500</td>\n",
       "      <td>20190905000050</td>\n",
       "      <td>away</td>\n",
       "      <td>33.13</td>\n",
       "      <td>30.92</td>\n",
       "      <td>3.59</td>\n",
       "      <td>2.06</td>\n",
       "      <td>0.36</td>\n",
       "      <td>20.13</td>\n",
       "      <td>102.04</td>\n",
       "      <td>2495888</td>\n",
       "      <td>Marcedes Lewis</td>\n",
       "      <td>89</td>\n",
       "      <td>2019</td>\n",
       "      <td>25</td>\n",
       "      <td>1</td>\n",
       "      <td>900.0</td>\n",
       "      <td>CHI</td>\n",
       "      <td>1</td>\n",
       "      <td>10</td>\n",
       "      <td>GB</td>\n",
       "      <td>0</td>\n",
       "      <td>0</td>\n",
       "      <td>2558116</td>\n",
       "      <td>I_FORM</td>\n",
       "      <td>2 RB, 1 TE, 2 WR</td>\n",
       "      <td>7.0</td>\n",
       "      <td>3 DL, 4 LB, 4 DB</td>\n",
       "      <td>right</td>\n",
       "      <td>2019-09-06 00:23:35+00:00</td>\n",
       "      <td>2019-09-06 00:23:34+00:00</td>\n",
       "      <td>0</td>\n",
       "      <td>78</td>\n",
       "      <td>267</td>\n",
       "      <td>1984-05-19</td>\n",
       "      <td>UCLA</td>\n",
       "      <td>TE</td>\n",
       "      <td>CHI</td>\n",
       "      <td>GB</td>\n",
       "      <td>1</td>\n",
       "      <td>...</td>\n",
       "      <td>41.971425</td>\n",
       "      <td>45.993459</td>\n",
       "      <td>50.519164</td>\n",
       "      <td>53.300000</td>\n",
       "      <td>53.30000</td>\n",
       "      <td>53.300000</td>\n",
       "      <td>53.300000</td>\n",
       "      <td>53.300000</td>\n",
       "      <td>53.300000</td>\n",
       "      <td>0</td>\n",
       "      <td>-0.429705</td>\n",
       "      <td>2.014685</td>\n",
       "      <td>0</td>\n",
       "      <td>0</td>\n",
       "      <td>7</td>\n",
       "      <td>7</td>\n",
       "      <td>0 to 3</td>\n",
       "      <td>0.0</td>\n",
       "      <td>0.0</td>\n",
       "      <td>0.0</td>\n",
       "      <td>0.0</td>\n",
       "      <td>0.0</td>\n",
       "      <td>0.0</td>\n",
       "      <td>0.0</td>\n",
       "      <td>0.0</td>\n",
       "      <td>0.0</td>\n",
       "      <td>0.0</td>\n",
       "      <td>0.0</td>\n",
       "      <td>0.0</td>\n",
       "      <td>0.0</td>\n",
       "      <td>0.0</td>\n",
       "      <td>0.0</td>\n",
       "      <td>0.0</td>\n",
       "      <td>0.0</td>\n",
       "      <td>0.0</td>\n",
       "      <td>0.0</td>\n",
       "      <td>0.0</td>\n",
       "      <td>0.0</td>\n",
       "      <td>3</td>\n",
       "      <td>3</td>\n",
       "    </tr>\n",
       "    <tr>\n",
       "      <th>553955</th>\n",
       "      <td>2019090500</td>\n",
       "      <td>20190905000050</td>\n",
       "      <td>away</td>\n",
       "      <td>30.68</td>\n",
       "      <td>24.69</td>\n",
       "      <td>3.84</td>\n",
       "      <td>2.41</td>\n",
       "      <td>0.38</td>\n",
       "      <td>271.54</td>\n",
       "      <td>177.64</td>\n",
       "      <td>2506363</td>\n",
       "      <td>Aaron Rodgers</td>\n",
       "      <td>12</td>\n",
       "      <td>2019</td>\n",
       "      <td>25</td>\n",
       "      <td>1</td>\n",
       "      <td>900.0</td>\n",
       "      <td>CHI</td>\n",
       "      <td>1</td>\n",
       "      <td>10</td>\n",
       "      <td>GB</td>\n",
       "      <td>0</td>\n",
       "      <td>0</td>\n",
       "      <td>2558116</td>\n",
       "      <td>I_FORM</td>\n",
       "      <td>2 RB, 1 TE, 2 WR</td>\n",
       "      <td>7.0</td>\n",
       "      <td>3 DL, 4 LB, 4 DB</td>\n",
       "      <td>right</td>\n",
       "      <td>2019-09-06 00:23:35+00:00</td>\n",
       "      <td>2019-09-06 00:23:34+00:00</td>\n",
       "      <td>0</td>\n",
       "      <td>74</td>\n",
       "      <td>225</td>\n",
       "      <td>1983-12-02</td>\n",
       "      <td>California</td>\n",
       "      <td>QB</td>\n",
       "      <td>CHI</td>\n",
       "      <td>GB</td>\n",
       "      <td>1</td>\n",
       "      <td>...</td>\n",
       "      <td>25.204727</td>\n",
       "      <td>25.395433</td>\n",
       "      <td>25.610949</td>\n",
       "      <td>25.851275</td>\n",
       "      <td>26.11641</td>\n",
       "      <td>26.406356</td>\n",
       "      <td>26.721111</td>\n",
       "      <td>27.060676</td>\n",
       "      <td>27.425051</td>\n",
       "      <td>0</td>\n",
       "      <td>-2.407956</td>\n",
       "      <td>0.099239</td>\n",
       "      <td>0</td>\n",
       "      <td>0</td>\n",
       "      <td>7</td>\n",
       "      <td>7</td>\n",
       "      <td>0 to 3</td>\n",
       "      <td>0.0</td>\n",
       "      <td>0.0</td>\n",
       "      <td>0.0</td>\n",
       "      <td>0.0</td>\n",
       "      <td>0.0</td>\n",
       "      <td>0.0</td>\n",
       "      <td>0.0</td>\n",
       "      <td>0.0</td>\n",
       "      <td>0.0</td>\n",
       "      <td>0.0</td>\n",
       "      <td>0.0</td>\n",
       "      <td>0.0</td>\n",
       "      <td>0.0</td>\n",
       "      <td>0.0</td>\n",
       "      <td>0.0</td>\n",
       "      <td>0.0</td>\n",
       "      <td>0.0</td>\n",
       "      <td>0.0</td>\n",
       "      <td>0.0</td>\n",
       "      <td>0.0</td>\n",
       "      <td>0.0</td>\n",
       "      <td>3</td>\n",
       "      <td>3</td>\n",
       "    </tr>\n",
       "    <tr>\n",
       "      <th>553956</th>\n",
       "      <td>2019090500</td>\n",
       "      <td>20190905000050</td>\n",
       "      <td>away</td>\n",
       "      <td>34.82</td>\n",
       "      <td>30.70</td>\n",
       "      <td>4.65</td>\n",
       "      <td>1.25</td>\n",
       "      <td>0.48</td>\n",
       "      <td>46.80</td>\n",
       "      <td>84.83</td>\n",
       "      <td>2540183</td>\n",
       "      <td>David Bakhtiari</td>\n",
       "      <td>69</td>\n",
       "      <td>2019</td>\n",
       "      <td>25</td>\n",
       "      <td>1</td>\n",
       "      <td>900.0</td>\n",
       "      <td>CHI</td>\n",
       "      <td>1</td>\n",
       "      <td>10</td>\n",
       "      <td>GB</td>\n",
       "      <td>0</td>\n",
       "      <td>0</td>\n",
       "      <td>2558116</td>\n",
       "      <td>I_FORM</td>\n",
       "      <td>2 RB, 1 TE, 2 WR</td>\n",
       "      <td>7.0</td>\n",
       "      <td>3 DL, 4 LB, 4 DB</td>\n",
       "      <td>right</td>\n",
       "      <td>2019-09-06 00:23:35+00:00</td>\n",
       "      <td>2019-09-06 00:23:34+00:00</td>\n",
       "      <td>0</td>\n",
       "      <td>76</td>\n",
       "      <td>310</td>\n",
       "      <td>1991-09-30</td>\n",
       "      <td>Colorado</td>\n",
       "      <td>T</td>\n",
       "      <td>CHI</td>\n",
       "      <td>GB</td>\n",
       "      <td>1</td>\n",
       "      <td>...</td>\n",
       "      <td>42.451994</td>\n",
       "      <td>46.168064</td>\n",
       "      <td>50.195363</td>\n",
       "      <td>53.300000</td>\n",
       "      <td>53.30000</td>\n",
       "      <td>53.300000</td>\n",
       "      <td>53.300000</td>\n",
       "      <td>53.300000</td>\n",
       "      <td>53.300000</td>\n",
       "      <td>0</td>\n",
       "      <td>0.112639</td>\n",
       "      <td>1.244915</td>\n",
       "      <td>0</td>\n",
       "      <td>0</td>\n",
       "      <td>7</td>\n",
       "      <td>7</td>\n",
       "      <td>0 to 3</td>\n",
       "      <td>0.0</td>\n",
       "      <td>0.0</td>\n",
       "      <td>0.0</td>\n",
       "      <td>0.0</td>\n",
       "      <td>0.0</td>\n",
       "      <td>0.0</td>\n",
       "      <td>0.0</td>\n",
       "      <td>0.0</td>\n",
       "      <td>0.0</td>\n",
       "      <td>0.0</td>\n",
       "      <td>0.0</td>\n",
       "      <td>0.0</td>\n",
       "      <td>0.0</td>\n",
       "      <td>0.0</td>\n",
       "      <td>0.0</td>\n",
       "      <td>0.0</td>\n",
       "      <td>0.0</td>\n",
       "      <td>0.0</td>\n",
       "      <td>0.0</td>\n",
       "      <td>0.0</td>\n",
       "      <td>0.0</td>\n",
       "      <td>3</td>\n",
       "      <td>3</td>\n",
       "    </tr>\n",
       "    <tr>\n",
       "      <th>553957</th>\n",
       "      <td>2019090500</td>\n",
       "      <td>20190905000050</td>\n",
       "      <td>away</td>\n",
       "      <td>34.22</td>\n",
       "      <td>29.19</td>\n",
       "      <td>4.80</td>\n",
       "      <td>0.87</td>\n",
       "      <td>0.49</td>\n",
       "      <td>57.18</td>\n",
       "      <td>81.39</td>\n",
       "      <td>2541898</td>\n",
       "      <td>Lane Taylor</td>\n",
       "      <td>65</td>\n",
       "      <td>2019</td>\n",
       "      <td>25</td>\n",
       "      <td>1</td>\n",
       "      <td>900.0</td>\n",
       "      <td>CHI</td>\n",
       "      <td>1</td>\n",
       "      <td>10</td>\n",
       "      <td>GB</td>\n",
       "      <td>0</td>\n",
       "      <td>0</td>\n",
       "      <td>2558116</td>\n",
       "      <td>I_FORM</td>\n",
       "      <td>2 RB, 1 TE, 2 WR</td>\n",
       "      <td>7.0</td>\n",
       "      <td>3 DL, 4 LB, 4 DB</td>\n",
       "      <td>right</td>\n",
       "      <td>2019-09-06 00:23:35+00:00</td>\n",
       "      <td>2019-09-06 00:23:34+00:00</td>\n",
       "      <td>0</td>\n",
       "      <td>75</td>\n",
       "      <td>324</td>\n",
       "      <td>1989-11-22</td>\n",
       "      <td>Oklahoma State</td>\n",
       "      <td>G</td>\n",
       "      <td>CHI</td>\n",
       "      <td>GB</td>\n",
       "      <td>1</td>\n",
       "      <td>...</td>\n",
       "      <td>40.402201</td>\n",
       "      <td>43.742874</td>\n",
       "      <td>47.298595</td>\n",
       "      <td>51.069365</td>\n",
       "      <td>53.30000</td>\n",
       "      <td>53.300000</td>\n",
       "      <td>53.300000</td>\n",
       "      <td>53.300000</td>\n",
       "      <td>53.300000</td>\n",
       "      <td>0</td>\n",
       "      <td>0.130246</td>\n",
       "      <td>0.860195</td>\n",
       "      <td>0</td>\n",
       "      <td>0</td>\n",
       "      <td>7</td>\n",
       "      <td>7</td>\n",
       "      <td>0 to 3</td>\n",
       "      <td>0.0</td>\n",
       "      <td>0.0</td>\n",
       "      <td>0.0</td>\n",
       "      <td>0.0</td>\n",
       "      <td>0.0</td>\n",
       "      <td>0.0</td>\n",
       "      <td>0.0</td>\n",
       "      <td>0.0</td>\n",
       "      <td>0.0</td>\n",
       "      <td>0.0</td>\n",
       "      <td>0.0</td>\n",
       "      <td>0.0</td>\n",
       "      <td>0.0</td>\n",
       "      <td>0.0</td>\n",
       "      <td>0.0</td>\n",
       "      <td>0.0</td>\n",
       "      <td>0.0</td>\n",
       "      <td>0.0</td>\n",
       "      <td>0.0</td>\n",
       "      <td>0.0</td>\n",
       "      <td>0.0</td>\n",
       "      <td>3</td>\n",
       "      <td>3</td>\n",
       "    </tr>\n",
       "  </tbody>\n",
       "</table>\n",
       "<p>5 rows × 132 columns</p>\n",
       "</div>"
      ],
      "text/plain": [
       "            gameid          playid  team  ...  td_19  yards_bin_int  pred\n",
       "553953  2019090500  20190905000050  away  ...    0.0              3     3\n",
       "553954  2019090500  20190905000050  away  ...    0.0              3     3\n",
       "553955  2019090500  20190905000050  away  ...    0.0              3     3\n",
       "553956  2019090500  20190905000050  away  ...    0.0              3     3\n",
       "553957  2019090500  20190905000050  away  ...    0.0              3     3\n",
       "\n",
       "[5 rows x 132 columns]"
      ]
     },
     "execution_count": 124,
     "metadata": {
      "tags": []
     },
     "output_type": "execute_result"
    }
   ],
   "source": [
    "zero_to_three = correct.loc[correct['yards_bin_int'] == 3]\n",
    "zero_to_three.head()"
   ]
  },
  {
   "cell_type": "code",
   "execution_count": 59,
   "metadata": {
    "colab": {
     "base_uri": "https://localhost:8080/",
     "height": 701
    },
    "colab_type": "code",
    "executionInfo": {
     "elapsed": 1068,
     "status": "ok",
     "timestamp": 1591795609424,
     "user": {
      "displayName": "Jason Maloney",
      "photoUrl": "",
      "userId": "04327763752924398692"
     },
     "user_tz": 240
    },
    "id": "0sQC7-HpS-f8",
    "outputId": "ebd6ca7b-5b98-4298-8614-162ac581ea34"
   },
   "outputs": [
    {
     "data": {
      "text/html": [
       "<div>\n",
       "<style scoped>\n",
       "    .dataframe tbody tr th:only-of-type {\n",
       "        vertical-align: middle;\n",
       "    }\n",
       "\n",
       "    .dataframe tbody tr th {\n",
       "        vertical-align: top;\n",
       "    }\n",
       "\n",
       "    .dataframe thead th {\n",
       "        text-align: right;\n",
       "    }\n",
       "</style>\n",
       "<table border=\"1\" class=\"dataframe\">\n",
       "  <thead>\n",
       "    <tr style=\"text-align: right;\">\n",
       "      <th></th>\n",
       "      <th>yards_bin_int</th>\n",
       "      <th>count</th>\n",
       "    </tr>\n",
       "    <tr>\n",
       "      <th>offenseformation</th>\n",
       "      <th></th>\n",
       "      <th></th>\n",
       "    </tr>\n",
       "  </thead>\n",
       "  <tbody>\n",
       "    <tr>\n",
       "      <th>-999</th>\n",
       "      <td>286</td>\n",
       "      <td>88</td>\n",
       "    </tr>\n",
       "    <tr>\n",
       "      <th>ACE</th>\n",
       "      <td>88</td>\n",
       "      <td>22</td>\n",
       "    </tr>\n",
       "    <tr>\n",
       "      <th>EMPTY</th>\n",
       "      <td>2530</td>\n",
       "      <td>682</td>\n",
       "    </tr>\n",
       "    <tr>\n",
       "      <th>I_FORM</th>\n",
       "      <td>489038</td>\n",
       "      <td>136950</td>\n",
       "    </tr>\n",
       "    <tr>\n",
       "      <th>JUMBO</th>\n",
       "      <td>46310</td>\n",
       "      <td>14894</td>\n",
       "    </tr>\n",
       "    <tr>\n",
       "      <th>PISTOL</th>\n",
       "      <td>79860</td>\n",
       "      <td>21538</td>\n",
       "    </tr>\n",
       "    <tr>\n",
       "      <th>SHOTGUN</th>\n",
       "      <td>763180</td>\n",
       "      <td>206558</td>\n",
       "    </tr>\n",
       "    <tr>\n",
       "      <th>SINGLEBACK</th>\n",
       "      <td>1082092</td>\n",
       "      <td>299728</td>\n",
       "    </tr>\n",
       "    <tr>\n",
       "      <th>WILDCAT</th>\n",
       "      <td>6402</td>\n",
       "      <td>1694</td>\n",
       "    </tr>\n",
       "  </tbody>\n",
       "</table>\n",
       "</div>"
      ],
      "text/plain": [
       "                  yards_bin_int   count\n",
       "offenseformation                       \n",
       "-999                        286      88\n",
       "ACE                          88      22\n",
       "EMPTY                      2530     682\n",
       "I_FORM                   489038  136950\n",
       "JUMBO                     46310   14894\n",
       "PISTOL                    79860   21538\n",
       "SHOTGUN                  763180  206558\n",
       "SINGLEBACK              1082092  299728\n",
       "WILDCAT                    6402    1694"
      ]
     },
     "execution_count": 59,
     "metadata": {},
     "output_type": "execute_result"
    }
   ],
   "source": [
    "########### \n",
    "# LINE PLOT OF FORMATIONS BY BIN\n",
    "dfplot = data[['offenseformation', 'yards_bin_int']]\n",
    "dfplot['count'] = 1\n",
    "dfplot.groupby([ 'offenseformation']).sum()"
   ]
  },
  {
   "cell_type": "code",
   "execution_count": 57,
   "metadata": {
    "colab": {
     "base_uri": "https://localhost:8080/",
     "height": 111
    },
    "colab_type": "code",
    "executionInfo": {
     "elapsed": 440,
     "status": "ok",
     "timestamp": 1591795539315,
     "user": {
      "displayName": "Jason Maloney",
      "photoUrl": "",
      "userId": "04327763752924398692"
     },
     "user_tz": 240
    },
    "id": "8poU2Jp-ZQ6P",
    "outputId": "999ab9fd-085a-4916-970b-6154d52e95d9"
   },
   "outputs": [
    {
     "data": {
      "text/html": [
       "<div>\n",
       "<style scoped>\n",
       "    .dataframe tbody tr th:only-of-type {\n",
       "        vertical-align: middle;\n",
       "    }\n",
       "\n",
       "    .dataframe tbody tr th {\n",
       "        vertical-align: top;\n",
       "    }\n",
       "\n",
       "    .dataframe thead th {\n",
       "        text-align: right;\n",
       "    }\n",
       "</style>\n",
       "<table border=\"1\" class=\"dataframe\">\n",
       "  <thead>\n",
       "    <tr style=\"text-align: right;\">\n",
       "      <th></th>\n",
       "      <th>offenseformation</th>\n",
       "      <th>yards_bin_int</th>\n",
       "      <th>count</th>\n",
       "    </tr>\n",
       "  </thead>\n",
       "  <tbody>\n",
       "    <tr>\n",
       "      <th>0</th>\n",
       "      <td>SHOTGUN</td>\n",
       "      <td>5</td>\n",
       "      <td>1</td>\n",
       "    </tr>\n",
       "    <tr>\n",
       "      <th>1</th>\n",
       "      <td>SHOTGUN</td>\n",
       "      <td>5</td>\n",
       "      <td>1</td>\n",
       "    </tr>\n",
       "    <tr>\n",
       "      <th>2</th>\n",
       "      <td>SHOTGUN</td>\n",
       "      <td>5</td>\n",
       "      <td>1</td>\n",
       "    </tr>\n",
       "    <tr>\n",
       "      <th>3</th>\n",
       "      <td>SHOTGUN</td>\n",
       "      <td>5</td>\n",
       "      <td>1</td>\n",
       "    </tr>\n",
       "    <tr>\n",
       "      <th>4</th>\n",
       "      <td>SHOTGUN</td>\n",
       "      <td>5</td>\n",
       "      <td>1</td>\n",
       "    </tr>\n",
       "    <tr>\n",
       "      <th>...</th>\n",
       "      <td>...</td>\n",
       "      <td>...</td>\n",
       "      <td>...</td>\n",
       "    </tr>\n",
       "    <tr>\n",
       "      <th>682149</th>\n",
       "      <td>PISTOL</td>\n",
       "      <td>4</td>\n",
       "      <td>1</td>\n",
       "    </tr>\n",
       "    <tr>\n",
       "      <th>682150</th>\n",
       "      <td>PISTOL</td>\n",
       "      <td>4</td>\n",
       "      <td>1</td>\n",
       "    </tr>\n",
       "    <tr>\n",
       "      <th>682151</th>\n",
       "      <td>PISTOL</td>\n",
       "      <td>4</td>\n",
       "      <td>1</td>\n",
       "    </tr>\n",
       "    <tr>\n",
       "      <th>682152</th>\n",
       "      <td>PISTOL</td>\n",
       "      <td>4</td>\n",
       "      <td>1</td>\n",
       "    </tr>\n",
       "    <tr>\n",
       "      <th>682153</th>\n",
       "      <td>PISTOL</td>\n",
       "      <td>4</td>\n",
       "      <td>1</td>\n",
       "    </tr>\n",
       "  </tbody>\n",
       "</table>\n",
       "<p>682154 rows × 3 columns</p>\n",
       "</div>"
      ],
      "text/plain": [
       "       offenseformation  yards_bin_int  count\n",
       "0               SHOTGUN              5      1\n",
       "1               SHOTGUN              5      1\n",
       "2               SHOTGUN              5      1\n",
       "3               SHOTGUN              5      1\n",
       "4               SHOTGUN              5      1\n",
       "...                 ...            ...    ...\n",
       "682149           PISTOL              4      1\n",
       "682150           PISTOL              4      1\n",
       "682151           PISTOL              4      1\n",
       "682152           PISTOL              4      1\n",
       "682153           PISTOL              4      1\n",
       "\n",
       "[682154 rows x 3 columns]"
      ]
     },
     "execution_count": 57,
     "metadata": {},
     "output_type": "execute_result"
    }
   ],
   "source": [
    "dfplot"
   ]
  },
  {
   "cell_type": "markdown",
   "metadata": {
    "colab_type": "text",
    "id": "WJtRLek0_DnL"
   },
   "source": [
    "## Remove Zero Variance Variables"
   ]
  },
  {
   "cell_type": "code",
   "execution_count": 0,
   "metadata": {
    "colab": {},
    "colab_type": "code",
    "id": "vb8cvX5q9-pq"
   },
   "outputs": [],
   "source": [
    "# remove zero variance colomns\n",
    "zero_var = []\n",
    "for col in trainX.columns:\n",
    "  if trainX[col].std() != 0:\n",
    "    zero_var.append(col)\n",
    "\n",
    "rf_trainX = trainX[zero_var]\n",
    "rf_testX = testX[zero_var]"
   ]
  },
  {
   "cell_type": "code",
   "execution_count": 0,
   "metadata": {
    "colab": {
     "base_uri": "https://localhost:8080/",
     "height": 34
    },
    "colab_type": "code",
    "executionInfo": {
     "elapsed": 326328,
     "status": "ok",
     "timestamp": 1591657757539,
     "user": {
      "displayName": "Jason Maloney",
      "photoUrl": "",
      "userId": "04327763752924398692"
     },
     "user_tz": 240
    },
    "id": "bAZro9T17TZL",
    "outputId": "90d9fb9b-38e7-4e75-c250-2d4ece85a8ab"
   },
   "outputs": [
    {
     "name": "stdout",
     "output_type": "stream",
     "text": [
      "Accuracy:  45.55 %\n"
     ]
    }
   ],
   "source": [
    "# predict binned yards\n",
    "rf = RandomForestClassifier(n_estimators = 100, # number of trees\n",
    "                           min_samples_split = 3,\n",
    "                           oob_score = True)\n",
    "rf.fit(rf_trainX, bin_trainY)\n",
    "print('Accuracy: ', round(rf.score(rf_testX, bin_testY)*100,2), '%')\n"
   ]
  },
  {
   "cell_type": "markdown",
   "metadata": {
    "colab_type": "text",
    "id": "JBUs3MkH3pT-"
   },
   "source": [
    "### Confusion Matrix"
   ]
  },
  {
   "cell_type": "code",
   "execution_count": 0,
   "metadata": {
    "colab": {
     "base_uri": "https://localhost:8080/",
     "height": 555
    },
    "colab_type": "code",
    "executionInfo": {
     "elapsed": 7062,
     "status": "ok",
     "timestamp": 1591657873070,
     "user": {
      "displayName": "Jason Maloney",
      "photoUrl": "",
      "userId": "04327763752924398692"
     },
     "user_tz": 240
    },
    "id": "PyY57kRE3s1V",
    "outputId": "ce7ccc2f-8806-4c11-e063-d03867efb8d5"
   },
   "outputs": [
    {
     "data": {
      "image/png": "[encoded data removed]",
      "text/plain": [
       "<Figure size 576x576 with 2 Axes>"
      ]
     },
     "metadata": {
      "needs_background": "light",
      "tags": []
     },
     "output_type": "display_data"
    }
   ],
   "source": [
    "# predictions\n",
    "y_pred = rf.predict(rf_testX)\n",
    "# define confusion matrix\n",
    "cm = confusion_matrix(bin_testY, y_pred)\n",
    "# plot cm as a heat map\n",
    "plt.figure(figsize = (8,8))\n",
    "sns.heatmap(cm, annot = True, cmap = 'PuBu', fmt = 'd') # fmt = 'd' prints integers\n",
    "plt.title('Random Forest Confusion Matrix')\n",
    "plt.xlabel('True Values')\n",
    "plt.ylabel('Predicted Values')\n",
    "plt.xticks(np.arange(0.5,9.5), labels = bin_yard_names, rotation = 90)\n",
    "plt.yticks(np.arange(0.5,9.5), labels = bin_yard_names, rotation = 0)\n",
    "plt.show()"
   ]
  },
  {
   "cell_type": "code",
   "execution_count": 0,
   "metadata": {
    "colab": {
     "base_uri": "https://localhost:8080/",
     "height": 295
    },
    "colab_type": "code",
    "executionInfo": {
     "elapsed": 924,
     "status": "ok",
     "timestamp": 1591657880219,
     "user": {
      "displayName": "Jason Maloney",
      "photoUrl": "",
      "userId": "04327763752924398692"
     },
     "user_tz": 240
    },
    "id": "6X3cmHOm3YlL",
    "outputId": "97004b0b-4f9f-44b9-ff91-bce3830fabcb"
   },
   "outputs": [
    {
     "name": "stdout",
     "output_type": "stream",
     "text": [
      "              precision    recall  f1-score   support\n",
      "\n",
      " -10 or less       0.00      0.00      0.00        66\n",
      "    -9 to -4       0.00      0.00      0.00      2772\n",
      "    -3 to -1       0.00      0.00      0.00     14058\n",
      "      0 to 3       0.47      0.90      0.62     80454\n",
      "      4 to 7       0.31      0.13      0.18     46728\n",
      "     8 to 10       0.42      0.00      0.00     12606\n",
      "    11 to 15       0.00      0.00      0.00      8668\n",
      "    16 to 25       0.00      0.00      0.00      4972\n",
      "         26+       0.00      0.00      0.00      2068\n",
      "\n",
      "    accuracy                           0.46    172392\n",
      "   macro avg       0.13      0.11      0.09    172392\n",
      "weighted avg       0.34      0.46      0.34    172392\n",
      "\n"
     ]
    }
   ],
   "source": [
    "print(classification_report(bin_testY, y_pred, target_names = bin_yard_names, zero_division = 0))"
   ]
  },
  {
   "cell_type": "markdown",
   "metadata": {
    "colab_type": "text",
    "id": "eICHWQakHj5R"
   },
   "source": [
    "### Most Important Features"
   ]
  },
  {
   "cell_type": "code",
   "execution_count": 0,
   "metadata": {
    "colab": {
     "base_uri": "https://localhost:8080/",
     "height": 913
    },
    "colab_type": "code",
    "executionInfo": {
     "elapsed": 1294,
     "status": "ok",
     "timestamp": 1591657884781,
     "user": {
      "displayName": "Jason Maloney",
      "photoUrl": "",
      "userId": "04327763752924398692"
     },
     "user_tz": 240
    },
    "id": "Xeoqzp3F6vzD",
    "outputId": "76dddf65-7b68-4eb6-b25c-58b43d681ae2"
   },
   "outputs": [
    {
     "data": {
      "image/png": "[encoded data removed]",
      "text/plain": [
       "<Figure size 720x504 with 1 Axes>"
      ]
     },
     "metadata": {
      "needs_background": "light",
      "tags": []
     },
     "output_type": "display_data"
    },
    {
     "name": "stdout",
     "output_type": "stream",
     "text": [
      "Features\n",
      "rushy                           0.043039\n",
      "rushx                           0.042476\n",
      "gameclock                       0.042213\n",
      "min_distancetorusher            0.040088\n",
      "yardfromowngoal                 0.037911\n",
      "yardline                        0.037638\n",
      "avgyardspergame                 0.032213\n",
      "homescorebeforeplay             0.027288\n",
      "visitorscorebeforeplay          0.026484\n",
      "week                            0.025615\n",
      "total_playersblocked_revised    0.024701\n",
      "x_standard                      0.024230\n",
      "distance                        0.022904\n",
      "x_handoff                       0.020598\n",
      "quarter                         0.018011\n",
      "defendersinthebox               0.015795\n",
      "down                            0.013840\n",
      "time_since_snap                 0.011293\n",
      "eff_crossfield_acc              0.008961\n",
      "lb                              0.008760\n",
      "rushteamwinning                 0.008644\n",
      "dl                              0.008479\n",
      "dir                             0.008299\n",
      "season                          0.008213\n",
      "y_handoff                       0.007828\n",
      "dtype: float64\n"
     ]
    }
   ],
   "source": [
    "## Print n most important features\n",
    "n = 25\n",
    "plt.figure(figsize = (10, 7))\n",
    "# impurity-based feature importance\n",
    "importances = pd.Series(rf.feature_importances_, index = rf_trainX.columns)\n",
    "# sort values in descending order\n",
    "importances = importances.sort_values(ascending = False)\n",
    "# horizontal barplot\n",
    "importances.nlargest(n).plot(kind = 'barh')\n",
    "plt.title('25 Most Important Features for Random Forest')\n",
    "plt.ylabel('Feature')\n",
    "plt.show()\n",
    "print('Features')\n",
    "print(importances[:n])"
   ]
  },
  {
   "cell_type": "code",
   "execution_count": 0,
   "metadata": {
    "colab": {},
    "colab_type": "code",
    "id": "4D-c8V6nOdzF"
   },
   "outputs": [],
   "source": []
  },
  {
   "cell_type": "code",
   "execution_count": 0,
   "metadata": {
    "colab": {},
    "colab_type": "code",
    "id": "uQ0zslHVOdvN"
   },
   "outputs": [],
   "source": []
  },
  {
   "cell_type": "code",
   "execution_count": 0,
   "metadata": {
    "colab": {},
    "colab_type": "code",
    "id": "yPrbSQRROdn_"
   },
   "outputs": [],
   "source": []
  },
  {
   "cell_type": "code",
   "execution_count": 0,
   "metadata": {
    "colab": {},
    "colab_type": "code",
    "id": "i5VwOxJcOdWG"
   },
   "outputs": [],
   "source": []
  },
  {
   "cell_type": "code",
   "execution_count": 0,
   "metadata": {
    "colab": {},
    "colab_type": "code",
    "id": "fCQOk-IdOdSk"
   },
   "outputs": [],
   "source": []
  }
 ],
 "metadata": {
  "colab": {
   "authorship_tag": "ABX9TyPG/zCaKgk9zaZHkfx4BFtT",
   "collapsed_sections": [
    "zlm0Y0NGNEAd",
    "d8Ujw3HxNPQZ",
    "-Lmcmz59N0XN",
    "d4HUUQjVN6xt",
    "Vudz5boDz48X",
    "sfKHof-Oz8Xs",
    "dJ-JedqY0DR7",
    "uPYKjA4Y0N-R",
    "SIAKN1BJ0Z6M",
    "Wt29lQE11tdR",
    "CYk7X8_m1v5C",
    "1i2Vir6-5ctI",
    "Jdqztoc65rtZ",
    "Ltl0ZGMh559g"
   ],
   "mount_file_id": "1KTl6Tk5PwIaSgcxCTcfaNzuazbhTA_j9",
   "name": "CNN_and_RF.ipynb",
   "provenance": []
  },
  "kernelspec": {
   "display_name": "Python 3",
   "language": "python",
   "name": "python3"
  },
  "language_info": {
   "codemirror_mode": {
    "name": "ipython",
    "version": 3
   },
   "file_extension": ".py",
   "mimetype": "text/x-python",
   "name": "python",
   "nbconvert_exporter": "python",
   "pygments_lexer": "ipython3",
   "version": "3.7.6"
  }
 },
 "nbformat": 4,
 "nbformat_minor": 1
}
