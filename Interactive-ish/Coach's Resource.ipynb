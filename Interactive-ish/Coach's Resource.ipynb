{
 "cells": [
  {
   "cell_type": "code",
   "execution_count": null,
   "metadata": {},
   "outputs": [],
   "source": [
    "# given field position, yard line, down, dist\n",
    "# give prob(success) >half/distance\n",
    "# give formation most likely of the successes\n",
    "# find range of yards with prediction from rf"
   ]
  },
  {
   "cell_type": "code",
   "execution_count": 159,
   "metadata": {},
   "outputs": [],
   "source": [
    "import pickle\n",
    "import pandas as pd\n",
    "import numpy as np\n",
    "from sklearn.preprocessing import MinMaxScaler # normalizing\n",
    "\n",
    "# plots\n",
    "import matplotlib.pyplot as plt\n",
    "import seaborn as sns\n",
    "import warnings\n",
    "warnings.filterwarnings(\"ignore\")"
   ]
  },
  {
   "cell_type": "code",
   "execution_count": 162,
   "metadata": {},
   "outputs": [],
   "source": [
    "# load data and model\n",
    "data = pd.read_pickle('data.pkl')\n",
    "# trained model\n",
    "rf = pd.read_pickle('rf_model.sav')\n",
    "trainX = pd.read_pickle('trainX.pkl')\n",
    "testX = pd.read_pickle('testX.pkl')"
   ]
  },
  {
   "cell_type": "code",
   "execution_count": 163,
   "metadata": {},
   "outputs": [],
   "source": [
    "# label bins need to be in integers for neural network to get dummy variables for the label array\n",
    "bin_int = {'-10 or less':0,\n",
    "           '-9 to -4':1,\n",
    "           '-3 to -1':2,\n",
    "           '0 to 3':3,\n",
    "           '4 to 7':4,\n",
    "           '8 to 10':5,\n",
    "           '11 to 15':6,\n",
    "           '16 to 25':7,\n",
    "           '26+':8}\n",
    "data['yards_bin_int'] = data['yards_binned'].map(bin_int)\n",
    "bin_yard_names = list(bin_int.keys())\n",
    "# get labels\n",
    "bin_trainy = data.loc[data['season'] != 2019]['yards_bin_int']\n",
    "bin_testY = data.loc[data['season'] == 2019]['yards_bin_int']"
   ]
  },
  {
   "cell_type": "code",
   "execution_count": 164,
   "metadata": {},
   "outputs": [],
   "source": [
    "data = data.fillna(-999)\n",
    "scaler = MinMaxScaler()\n",
    "norm_data = scaler.fit_transform(data[list(trainX.columns)])"
   ]
  },
  {
   "cell_type": "code",
   "execution_count": null,
   "metadata": {},
   "outputs": [],
   "source": []
  },
  {
   "cell_type": "code",
   "execution_count": 165,
   "metadata": {},
   "outputs": [],
   "source": [
    "team_dict = {'ARZ': 'ARI',\n",
    "            'CLV': 'CLE',\n",
    "            'BLT':'BAL',\n",
    "            'HST':'HOU'}\n",
    "#map_abbr = {'ARI': 'ARZ', 'BAL': 'BLT', 'CLE': 'CLV', 'HOU': 'HST'}\n",
    "for abb in data['hometeamabbr'].unique():\n",
    "    team_dict[abb] = abb"
   ]
  },
  {
   "cell_type": "code",
   "execution_count": 166,
   "metadata": {},
   "outputs": [],
   "source": [
    "data['fieldposition'] = data['fieldposition'].map(team_dict)"
   ]
  },
  {
   "cell_type": "code",
   "execution_count": 167,
   "metadata": {},
   "outputs": [],
   "source": [
    "# need to get a single field position variable\n",
    "data['ownside'] = 0\n",
    "data['ownside'].loc[data['possessionteam'] == data['fieldposition']] = 1 \n",
    "#data['own'] = own_field(data['possessionteam'], data['fieldposition'])\n",
    "#data[['possessionteam', 'fieldposition']].apply(own_field,axis = 1)"
   ]
  },
  {
   "cell_type": "code",
   "execution_count": 174,
   "metadata": {},
   "outputs": [],
   "source": [
    "#from collections import defaultdict, Counter # for the model\n",
    "\n",
    "def play_to_choose():\n",
    "    # check that down input is valid\n",
    "    down = input('Enter the down of the play (1 - 4): ')\n",
    "    try:\n",
    "        down = int(down)\n",
    "        if (down <= 4) and (down >= 1):\n",
    "            down = down\n",
    "        else:\n",
    "            return print('Please enter a valid down')\n",
    "    except:\n",
    "        return print('Please enter a valid down.')\n",
    "    # check that ownside is valid\n",
    "    ownside = input('Are you on your side of the field? (Y/N): ')\n",
    "    try:\n",
    "        if (ownside == 'Y') or (ownside == 'y'):\n",
    "            ownside = 1\n",
    "        elif (ownside == 'N') or (ownside == 'n'):\n",
    "            ownside = 0\n",
    "        else:\n",
    "            return print('Please enter a Y or N.')\n",
    "    except:\n",
    "        return print('Please enter a Y or N.')\n",
    "    # check yardline is valid\n",
    "    yardline = input('Enter the yardline as an integer(1 - 50): ')\n",
    "    try:\n",
    "        yardline = int(yardline)\n",
    "    except:\n",
    "        return print('Please enter a valid yardline.')\n",
    "    # check that distance is valid\n",
    "    distance = input('Enter the distance for a first down as an integer(1 - 99): ')\n",
    "    try:\n",
    "        distance = int(distance)\n",
    "    except:\n",
    "        return print('Please enter a valid distance.')\n",
    "    \n",
    "    print('\\nThanks for your input. Finding likely scenarios...')\n",
    "    # check the scenario is in the data\n",
    "    \n",
    "    #try:\n",
    "    df = data[(data['down'] == down)&(data['ownside'] == ownside)&(data['yardline'] == yardline)&(data['distance'] == distance)]       \n",
    "    # normalize for prediction\n",
    "    rf_df = scaler.fit_transform(df[list(trainX.columns)])\n",
    "    if rf_df.shape[0] == 0:\n",
    "        return print('Those play conditions are not in our data.')\n",
    "    #except:\n",
    "     #   if df.shape[0] == 0:\n",
    "      #      return print('Those play conditions are not in our data.')\n",
    "    # predict yards with random forest\n",
    "    y_pred = rf.predict(rf_df)\n",
    "    for rng, bucket in bin_int.items():\n",
    "        if bucket == y_pred[0]:\n",
    "            pred = rng\n",
    "    # get some play metrics\n",
    "    runsuccess_prob = round(df['runsuccess'].sum()/len(df)*100,2)\n",
    "    avg_yards = round(df['yards'].mean(),2)\n",
    "    off_form = df['offenseformation'].value_counts().index[0]\n",
    "    off_pers = df['offensepersonnel'].value_counts().index[0]\n",
    "    # first down freq\n",
    "    first = 0\n",
    "    # td freq\n",
    "    td = 0\n",
    "    # loss of yards\n",
    "    loss = 0\n",
    "    # long run >13.5 yds\n",
    "    long = 0\n",
    "    for index, row in df.iterrows():\n",
    "        if row['distance'] <= row['yards']:\n",
    "            first += 1\n",
    "        if (100 - row['yardfromowngoal']) <= row['yards']:\n",
    "            td += 1\n",
    "        if row['yards'] < 0:\n",
    "            loss = 0\n",
    "        if row['yards'] > 13.5:\n",
    "            long += 1\n",
    "    # first down probability\n",
    "    first_pct = round(first/len(df)*100,2)\n",
    "    # touchdown probability\n",
    "    td_pct = round(td/len(df)*100,2)\n",
    "    # loss probability\n",
    "    loss_pct = round(loss/len(df)*100,2)\n",
    "    # long run probability\n",
    "    long_pct = round(long/len(df)*100,2)\n",
    "    print('\\nPredicted Yards Gained: ', pred)\n",
    "    #print('\\nLikelihood of gaining half the required yards: ', runsuccess_prob, '%')\n",
    "    #print('\\nLikelihood of a first down: ', first_pct, '%')\n",
    "    #print('\\nLikelihood of a touchdown: ', td_pct, '%')\n",
    "    print('\\nAverage Yards Gained: ', avg_yards)\n",
    "    print('\\nMost Common Offensive Formation: ', off_form)\n",
    "    print('\\nMost Common Offensive Personnel: ', off_pers)\n",
    "    names = ['Run Success', 'First Down', 'TD', 'Long Run (>13.5)','Loss of Yards']\n",
    "    stats = pd.DataFrame([runsuccess_prob, first_pct, td_pct ,long_pct, loss_pct], columns = ['stats'])\n",
    "    stats['names'] = names\n",
    "    sns.barplot(x = 'names', y = 'stats', data = stats, color = 'tab:blue')\n",
    "    for i in np.arange(2):\n",
    "        plt.text(x = i,\n",
    "                y = stats['stats'][i]-10,\n",
    "                s = str(stats['stats'][i]) + '%',\n",
    "                color = 'white',\n",
    "                horizontalalignment='center')\n",
    "    for i in np.arange(2,5):\n",
    "        plt.text(x = i,\n",
    "                y = stats['stats'][i]+2,\n",
    "                s = str(stats['stats'][i]) + '%',\n",
    "                horizontalalignment='center')\n",
    "    plt.xlabel('Play Outcomes')\n",
    "    plt.xticks(rotation = 30)\n",
    "    plt.ylabel('')\n",
    "    plt.title('Likelihood of Play Outcomes')\n",
    "    #return stats.head()\n",
    "    \n",
    "    "
   ]
  },
  {
   "cell_type": "markdown",
   "metadata": {},
   "source": [
    "# Interactive for Coaches\n",
    "1. Press Shift+Enter to run the command below\n",
    "2. Follow the prompts, pressing enter after each input\n",
    "3. Enjoy the results!"
   ]
  },
  {
   "cell_type": "code",
   "execution_count": 175,
   "metadata": {},
   "outputs": [
    {
     "name": "stdout",
     "output_type": "stream",
     "text": [
      "Enter the down of the play (1 - 4): 2\n",
      "Are you on your side of the field? (Y/N): y\n",
      "Enter the yardline as an integer(1 - 50): 30\n",
      "Enter the distance for a first down as an integer(1 - 99): 6\n",
      "\n",
      "Thanks for your input. Finding likely scenarios...\n",
      "\n",
      "Predicted Yards Gained:  0 to 3\n",
      "\n",
      "Average Yards Gained:  5.99\n",
      "\n",
      "Most Common Offensive Formation:  SINGLEBACK\n",
      "\n",
      "Most Common Offensive Personnel:  1 RB, 2 TE, 2 WR\n"
     ]
    },
    {
     "data": {
      "image/png": "[encoded data removed]",
      "text/plain": [
       "<Figure size 432x288 with 1 Axes>"
      ]
     },
     "metadata": {
      "needs_background": "light"
     },
     "output_type": "display_data"
    }
   ],
   "source": [
    "play_to_choose()"
   ]
  },
  {
   "cell_type": "code",
   "execution_count": null,
   "metadata": {},
   "outputs": [],
   "source": []
  }
 ],
 "metadata": {
  "kernelspec": {
   "display_name": "Python 3",
   "language": "python",
   "name": "python3"
  },
  "language_info": {
   "codemirror_mode": {
    "name": "ipython",
    "version": 3
   },
   "file_extension": ".py",
   "mimetype": "text/x-python",
   "name": "python",
   "nbconvert_exporter": "python",
   "pygments_lexer": "ipython3",
   "version": "3.7.6"
  }
 },
 "nbformat": 4,
 "nbformat_minor": 4
}
